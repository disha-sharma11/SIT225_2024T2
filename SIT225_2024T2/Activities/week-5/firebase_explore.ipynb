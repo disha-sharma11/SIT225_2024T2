{
 "cells": [
  {
   "cell_type": "code",
   "execution_count": 1,
   "metadata": {},
   "outputs": [
    {
     "name": "stdout",
     "output_type": "stream",
     "text": [
      "2410994787 Disha Sharma\n"
     ]
    }
   ],
   "source": [
    "# Fill in student ID and name\n",
    "# \n",
    "student_id = \"2410994787\"\n",
    "student_first_last_name = \"Disha Sharma\"\n",
    "print(student_id, student_first_last_name)"
   ]
  },
  {
   "cell_type": "code",
   "execution_count": 2,
   "metadata": {},
   "outputs": [
    {
     "name": "stdout",
     "output_type": "stream",
     "text": [
      "Requirement already satisfied: firebase_admin in /Library/Frameworks/Python.framework/Versions/3.13/lib/python3.13/site-packages (6.6.0)\n",
      "Requirement already satisfied: pandas in /Library/Frameworks/Python.framework/Versions/3.13/lib/python3.13/site-packages (2.2.3)\n",
      "Requirement already satisfied: cachecontrol>=0.12.14 in /Library/Frameworks/Python.framework/Versions/3.13/lib/python3.13/site-packages (from firebase_admin) (0.14.2)\n",
      "Requirement already satisfied: google-api-python-client>=1.7.8 in /Library/Frameworks/Python.framework/Versions/3.13/lib/python3.13/site-packages (from firebase_admin) (2.161.0)\n",
      "Requirement already satisfied: google-cloud-storage>=1.37.1 in /Library/Frameworks/Python.framework/Versions/3.13/lib/python3.13/site-packages (from firebase_admin) (3.0.0)\n",
      "Requirement already satisfied: pyjwt>=2.5.0 in /Library/Frameworks/Python.framework/Versions/3.13/lib/python3.13/site-packages (from pyjwt[crypto]>=2.5.0->firebase_admin) (2.10.1)\n",
      "Requirement already satisfied: google-api-core<3.0.0dev,>=1.22.1 in /Library/Frameworks/Python.framework/Versions/3.13/lib/python3.13/site-packages (from google-api-core[grpc]<3.0.0dev,>=1.22.1; platform_python_implementation != \"PyPy\"->firebase_admin) (2.24.1)\n",
      "Requirement already satisfied: google-cloud-firestore>=2.19.0 in /Library/Frameworks/Python.framework/Versions/3.13/lib/python3.13/site-packages (from firebase_admin) (2.20.0)\n",
      "Requirement already satisfied: numpy>=1.26.0 in /Library/Frameworks/Python.framework/Versions/3.13/lib/python3.13/site-packages (from pandas) (2.2.2)\n",
      "Requirement already satisfied: python-dateutil>=2.8.2 in /Library/Frameworks/Python.framework/Versions/3.13/lib/python3.13/site-packages (from pandas) (2.9.0.post0)\n",
      "Requirement already satisfied: pytz>=2020.1 in /Library/Frameworks/Python.framework/Versions/3.13/lib/python3.13/site-packages (from pandas) (2025.1)\n",
      "Requirement already satisfied: tzdata>=2022.7 in /Library/Frameworks/Python.framework/Versions/3.13/lib/python3.13/site-packages (from pandas) (2025.1)\n",
      "Requirement already satisfied: requests>=2.16.0 in /Library/Frameworks/Python.framework/Versions/3.13/lib/python3.13/site-packages (from cachecontrol>=0.12.14->firebase_admin) (2.32.3)\n",
      "Requirement already satisfied: msgpack<2.0.0,>=0.5.2 in /Library/Frameworks/Python.framework/Versions/3.13/lib/python3.13/site-packages (from cachecontrol>=0.12.14->firebase_admin) (1.1.0)\n",
      "Requirement already satisfied: googleapis-common-protos<2.0.dev0,>=1.56.2 in /Library/Frameworks/Python.framework/Versions/3.13/lib/python3.13/site-packages (from google-api-core<3.0.0dev,>=1.22.1->google-api-core[grpc]<3.0.0dev,>=1.22.1; platform_python_implementation != \"PyPy\"->firebase_admin) (1.68.0)\n",
      "Requirement already satisfied: protobuf!=3.20.0,!=3.20.1,!=4.21.0,!=4.21.1,!=4.21.2,!=4.21.3,!=4.21.4,!=4.21.5,<6.0.0.dev0,>=3.19.5 in /Library/Frameworks/Python.framework/Versions/3.13/lib/python3.13/site-packages (from google-api-core<3.0.0dev,>=1.22.1->google-api-core[grpc]<3.0.0dev,>=1.22.1; platform_python_implementation != \"PyPy\"->firebase_admin) (5.29.3)\n",
      "Requirement already satisfied: proto-plus<2.0.0dev,>=1.22.3 in /Library/Frameworks/Python.framework/Versions/3.13/lib/python3.13/site-packages (from google-api-core<3.0.0dev,>=1.22.1->google-api-core[grpc]<3.0.0dev,>=1.22.1; platform_python_implementation != \"PyPy\"->firebase_admin) (1.26.0)\n",
      "Requirement already satisfied: google-auth<3.0.dev0,>=2.14.1 in /Library/Frameworks/Python.framework/Versions/3.13/lib/python3.13/site-packages (from google-api-core<3.0.0dev,>=1.22.1->google-api-core[grpc]<3.0.0dev,>=1.22.1; platform_python_implementation != \"PyPy\"->firebase_admin) (2.38.0)\n",
      "Requirement already satisfied: grpcio<2.0dev,>=1.33.2 in /Library/Frameworks/Python.framework/Versions/3.13/lib/python3.13/site-packages (from google-api-core[grpc]<3.0.0dev,>=1.22.1; platform_python_implementation != \"PyPy\"->firebase_admin) (1.70.0)\n",
      "Requirement already satisfied: grpcio-status<2.0.dev0,>=1.33.2 in /Library/Frameworks/Python.framework/Versions/3.13/lib/python3.13/site-packages (from google-api-core[grpc]<3.0.0dev,>=1.22.1; platform_python_implementation != \"PyPy\"->firebase_admin) (1.70.0)\n",
      "Requirement already satisfied: httplib2<1.dev0,>=0.19.0 in /Library/Frameworks/Python.framework/Versions/3.13/lib/python3.13/site-packages (from google-api-python-client>=1.7.8->firebase_admin) (0.22.0)\n",
      "Requirement already satisfied: google-auth-httplib2<1.0.0,>=0.2.0 in /Library/Frameworks/Python.framework/Versions/3.13/lib/python3.13/site-packages (from google-api-python-client>=1.7.8->firebase_admin) (0.2.0)\n",
      "Requirement already satisfied: uritemplate<5,>=3.0.1 in /Library/Frameworks/Python.framework/Versions/3.13/lib/python3.13/site-packages (from google-api-python-client>=1.7.8->firebase_admin) (4.1.1)\n",
      "Requirement already satisfied: google-cloud-core<3.0.0dev,>=1.4.1 in /Library/Frameworks/Python.framework/Versions/3.13/lib/python3.13/site-packages (from google-cloud-firestore>=2.19.0->firebase_admin) (2.4.2)\n",
      "Requirement already satisfied: google-resumable-media>=2.7.2 in /Library/Frameworks/Python.framework/Versions/3.13/lib/python3.13/site-packages (from google-cloud-storage>=1.37.1->firebase_admin) (2.7.2)\n",
      "Requirement already satisfied: google-crc32c<2.0dev,>=1.0 in /Library/Frameworks/Python.framework/Versions/3.13/lib/python3.13/site-packages (from google-cloud-storage>=1.37.1->firebase_admin) (1.6.0)\n",
      "Requirement already satisfied: cryptography>=3.4.0 in /Library/Frameworks/Python.framework/Versions/3.13/lib/python3.13/site-packages (from pyjwt[crypto]>=2.5.0->firebase_admin) (44.0.1)\n",
      "Requirement already satisfied: six>=1.5 in /Library/Frameworks/Python.framework/Versions/3.13/lib/python3.13/site-packages (from python-dateutil>=2.8.2->pandas) (1.17.0)\n",
      "Requirement already satisfied: cffi>=1.12 in /Library/Frameworks/Python.framework/Versions/3.13/lib/python3.13/site-packages (from cryptography>=3.4.0->pyjwt[crypto]>=2.5.0->firebase_admin) (1.17.1)\n",
      "Requirement already satisfied: cachetools<6.0,>=2.0.0 in /Library/Frameworks/Python.framework/Versions/3.13/lib/python3.13/site-packages (from google-auth<3.0.dev0,>=2.14.1->google-api-core<3.0.0dev,>=1.22.1->google-api-core[grpc]<3.0.0dev,>=1.22.1; platform_python_implementation != \"PyPy\"->firebase_admin) (5.5.2)\n",
      "Requirement already satisfied: pyasn1-modules>=0.2.1 in /Library/Frameworks/Python.framework/Versions/3.13/lib/python3.13/site-packages (from google-auth<3.0.dev0,>=2.14.1->google-api-core<3.0.0dev,>=1.22.1->google-api-core[grpc]<3.0.0dev,>=1.22.1; platform_python_implementation != \"PyPy\"->firebase_admin) (0.4.1)\n",
      "Requirement already satisfied: rsa<5,>=3.1.4 in /Library/Frameworks/Python.framework/Versions/3.13/lib/python3.13/site-packages (from google-auth<3.0.dev0,>=2.14.1->google-api-core<3.0.0dev,>=1.22.1->google-api-core[grpc]<3.0.0dev,>=1.22.1; platform_python_implementation != \"PyPy\"->firebase_admin) (4.9)\n",
      "Requirement already satisfied: pyparsing!=3.0.0,!=3.0.1,!=3.0.2,!=3.0.3,<4,>=2.4.2 in /Library/Frameworks/Python.framework/Versions/3.13/lib/python3.13/site-packages (from httplib2<1.dev0,>=0.19.0->google-api-python-client>=1.7.8->firebase_admin) (3.2.1)\n",
      "Requirement already satisfied: charset-normalizer<4,>=2 in /Library/Frameworks/Python.framework/Versions/3.13/lib/python3.13/site-packages (from requests>=2.16.0->cachecontrol>=0.12.14->firebase_admin) (3.4.1)\n",
      "Requirement already satisfied: idna<4,>=2.5 in /Library/Frameworks/Python.framework/Versions/3.13/lib/python3.13/site-packages (from requests>=2.16.0->cachecontrol>=0.12.14->firebase_admin) (3.10)\n",
      "Requirement already satisfied: urllib3<3,>=1.21.1 in /Library/Frameworks/Python.framework/Versions/3.13/lib/python3.13/site-packages (from requests>=2.16.0->cachecontrol>=0.12.14->firebase_admin) (2.3.0)\n",
      "Requirement already satisfied: certifi>=2017.4.17 in /Library/Frameworks/Python.framework/Versions/3.13/lib/python3.13/site-packages (from requests>=2.16.0->cachecontrol>=0.12.14->firebase_admin) (2025.1.31)\n",
      "Requirement already satisfied: pycparser in /Library/Frameworks/Python.framework/Versions/3.13/lib/python3.13/site-packages (from cffi>=1.12->cryptography>=3.4.0->pyjwt[crypto]>=2.5.0->firebase_admin) (2.22)\n",
      "Requirement already satisfied: pyasn1<0.7.0,>=0.4.6 in /Library/Frameworks/Python.framework/Versions/3.13/lib/python3.13/site-packages (from pyasn1-modules>=0.2.1->google-auth<3.0.dev0,>=2.14.1->google-api-core<3.0.0dev,>=1.22.1->google-api-core[grpc]<3.0.0dev,>=1.22.1; platform_python_implementation != \"PyPy\"->firebase_admin) (0.6.1)\n"
     ]
    }
   ],
   "source": [
    "\"\"\"\n",
    "\tFirebase Realtime database demonstration.\n",
    "    \n",
    "    @Ahsan Habib\n",
    "    School of IT,\n",
    "    Deakin University, Australia.\n",
    "\"\"\"\n",
    "\n",
    "# Install libraris, if not yet.\n",
    "! pip install firebase_admin pandas\n",
    "\n",
    "import firebase_admin\n",
    "\n",
    "databaseURL = 'https://week5activity-4b8a4-default-rtdb.firebaseio.com'\n",
    "cred_obj = firebase_admin.credentials.Certificate(\n",
    "    'week5activity-4b8a4-firebase-adminsdk-fbsvc-b95d888eff.json'\n",
    ")\n",
    "default_app = firebase_admin.initialize_app(cred_obj, {\n",
    "\t'databaseURL':databaseURL\n",
    "\t})"
   ]
  },
  {
   "cell_type": "code",
   "execution_count": 5,
   "metadata": {},
   "outputs": [],
   "source": [
    "from firebase_admin import db\n",
    "\n",
    "# A reference point is always needed to be set\n",
    "# before any operation is carried out on a database.\n",
    "# \n",
    "ref = db.reference(\"/\")\n",
    "\n",
    "# JSON format data (key/value pair)\n",
    "data = {  # Outer {} contains inner data structure\n",
    "\t\"Book1\":\n",
    "\t{\n",
    "\t\t\"Title\": \"The Fellowship of the Ring\",\n",
    "\t\t\"Author\": \"J.R.R. Tolkien\",\n",
    "\t\t\"Genre\": \"Epic fantasy\",\n",
    "\t\t\"Price\": 100\n",
    "\t},\n",
    "\t\"Book2\":\n",
    "\t{\n",
    "\t\t\"Title\": \"The Two Towers\",\n",
    "\t\t\"Author\": \"J.R.R. Tolkien\",\n",
    "\t\t\"Genre\": \"Epic fantasy\",\n",
    "\t\t\"Price\": 100\t\n",
    "\t},\n",
    "\t\"Book3\":\n",
    "\t{\n",
    "\t\t\"Title\": \"The Return of the King\",\n",
    "\t\t\"Author\": \"J.R.R. Tolkien\",\n",
    "\t\t\"Genre\": \"Epic fantasy\",\n",
    "\t\t\"Price\": 100\n",
    "\t},\n",
    "\t\"Book4\":\n",
    "\t{\n",
    "\t\t\"Title\": \"Brida\",\n",
    "\t\t\"Author\": \"Paulo Coelho\",\n",
    "\t\t\"Genre\": \"Fiction\",\n",
    "\t\t\"Price\": 100\n",
    "\t}\n",
    "}\n",
    "\n",
    "# JSON format data is set (overwritten) to the reference \n",
    "# point set at /, which is the root node.\n",
    "# \n",
    "ref.set(data)"
   ]
  },
  {
   "cell_type": "code",
   "execution_count": 4,
   "metadata": {},
   "outputs": [
    {
     "name": "stdout",
     "output_type": "stream",
     "text": [
      "{'Book1': {'Author': 'J.R.R. Tolkien', 'Genre': 'Epic fantasy', 'Price': 100, 'Title': 'The Fellowship of the Ring'}, 'Book2': {'Author': 'J.R.R. Tolkien', 'Genre': 'Epic fantasy', 'Price': 100, 'Title': 'The Two Towers'}, 'Book3': {'Author': 'J.R.R. Tolkien', 'Genre': 'Epic fantasy', 'Price': 100, 'Title': 'The Return of the King'}, 'Book4': {'Author': 'Paulo Coelho', 'Genre': 'Fiction', 'Price': 100, 'Title': 'Brida'}}\n",
      "<class 'dict'>\n",
      "Book1: {'Author': 'J.R.R. Tolkien', 'Genre': 'Epic fantasy', 'Price': 100, 'Title': 'The Fellowship of the Ring'}\n",
      "Book2: {'Author': 'J.R.R. Tolkien', 'Genre': 'Epic fantasy', 'Price': 100, 'Title': 'The Two Towers'}\n",
      "Book3: {'Author': 'J.R.R. Tolkien', 'Genre': 'Epic fantasy', 'Price': 100, 'Title': 'The Return of the King'}\n",
      "Book4: {'Author': 'Paulo Coelho', 'Genre': 'Fiction', 'Price': 100, 'Title': 'Brida'}\n",
      "{'Author': 'J.R.R. Tolkien', 'Genre': 'Epic fantasy', 'Price': 100, 'Title': 'The Fellowship of the Ring'}\n"
     ]
    }
   ],
   "source": [
    "ref = db.reference(\"/\")  # set ref point\n",
    "\n",
    "# query all data under the ref\n",
    "books = ref.get()  \n",
    "print(books)\n",
    "print(type(books))\n",
    "\n",
    "# print each item separately\n",
    "for key, value in books.items():\n",
    "    print(f\"{key}: {value}\")\n",
    "\n",
    "\n",
    "# Query /Book1\n",
    "ref = db.reference(\"/Book1\")\n",
    "books = ref.get()\n",
    "print(books)"
   ]
  },
  {
   "cell_type": "code",
   "execution_count": 6,
   "metadata": {},
   "outputs": [],
   "source": [
    "# Write using push() function\n",
    "# Note that a set() is called on top of push()\n",
    "# \n",
    "ref = db.reference(\"/\")\n",
    "ref.set({\n",
    "\t\"Books\":\n",
    "\t{\n",
    "\t\t\"Best_Sellers\": -1\n",
    "\t}\n",
    "})\n",
    "\n",
    "ref = db.reference(\"/Books/Best_Sellers\")\n",
    "\n",
    "for key, value in data.items():\n",
    "\tref.push().set(value)"
   ]
  },
  {
   "cell_type": "code",
   "execution_count": 11,
   "metadata": {},
   "outputs": [
    {
     "name": "stdout",
     "output_type": "stream",
     "text": [
      "{'-OJvNlQNdPLjfy4nRTJj': {'Author': 'J.R.R. Tolkien', 'Genre': 'Epic fantasy', 'Price': 100, 'Title': 'The Fellowship of the Ring'}, '-OJvNlbcDlopfMA2RfnY': {'Author': 'J.R.R. Tolkien', 'Genre': 'Epic fantasy', 'Price': 100, 'Title': 'The Two Towers'}, '-OJvNlq7Rx0vEK97TUUH': {'Author': 'J.R.R. Tolkien', 'Genre': 'Epic fantasy', 'Price': 100, 'Title': 'The Return of the King'}, '-OJvNm0ELXe0MipZh9gi': {'Author': 'Paulo Coelho', 'Genre': 'Fiction', 'Price': 100, 'Title': 'Brida'}}\n"
     ]
    }
   ],
   "source": [
    "# Update data\n",
    "# \n",
    "# Requirement: The price of the books by \n",
    "# J. R. R. Tolkien is reduced to 80 units to \n",
    "# offer a discount.\n",
    "# \n",
    "ref = db.reference(\"/Books/Best_Sellers/\")\n",
    "best_sellers = ref.get()\n",
    "print(best_sellers)\n",
    "for key, value in best_sellers.items():\n",
    "\tif(value[\"Author\"] == \"J.R.R. Tolkien\"):\n",
    "\t\tvalue[\"Price\"] = 90\n",
    "\t\tref.child(key).update({\"Price\":80})"
   ]
  },
  {
   "cell_type": "code",
   "execution_count": 12,
   "metadata": {},
   "outputs": [],
   "source": [
    "# Let's delete all best seller books \n",
    "# with J.R.R. Tolkien as the author.\n",
    "# \n",
    "ref = db.reference(\"/Books/Best_Sellers\")\n",
    "\n",
    "for key, value in best_sellers.items():\n",
    "\tif(value[\"Author\"] == \"J.R.R. Tolkien\"):\n",
    "\t\tref.child(key).set({})"
   ]
  },
  {
   "cell_type": "code",
   "execution_count": 13,
   "metadata": {},
   "outputs": [
    {
     "name": "stdout",
     "output_type": "stream",
     "text": [
      "{'-OJvNm0ELXe0MipZh9gi': {'Author': 'Paulo Coelho', 'Genre': 'Fiction', 'Price': 100, 'Title': 'Brida'}}\n",
      "<class 'dict'>\n"
     ]
    }
   ],
   "source": [
    "# Delete all best_seller data.\n",
    "# \n",
    "ref = db.reference(\"/Books/Best_Sellers/\")\n",
    "best_sellers = ref.get()\n",
    "print(best_sellers)\n",
    "print(type(best_sellers))"
   ]
  },
  {
   "cell_type": "code",
   "execution_count": 16,
   "metadata": {},
   "outputs": [],
   "source": [
    "ref = db.reference(\"/Books/Best_Sellers\")\n",
    "ref.set({})"
   ]
  }
 ],
 "metadata": {
  "kernelspec": {
   "display_name": "Python 3",
   "language": "python",
   "name": "python3"
  },
  "language_info": {
   "codemirror_mode": {
    "name": "ipython",
    "version": 3
   },
   "file_extension": ".py",
   "mimetype": "text/x-python",
   "name": "python",
   "nbconvert_exporter": "python",
   "pygments_lexer": "ipython3",
   "version": "3.13.0"
  }
 },
 "nbformat": 4,
 "nbformat_minor": 4
}
