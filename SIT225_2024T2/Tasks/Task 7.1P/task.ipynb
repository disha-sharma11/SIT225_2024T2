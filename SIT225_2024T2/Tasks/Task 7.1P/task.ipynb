{
 "cells": [
  {
   "cell_type": "code",
   "execution_count": 53,
   "metadata": {},
   "outputs": [
    {
     "data": {
      "text/html": [
       "<div>\n",
       "<style scoped>\n",
       "    .dataframe tbody tr th:only-of-type {\n",
       "        vertical-align: middle;\n",
       "    }\n",
       "\n",
       "    .dataframe tbody tr th {\n",
       "        vertical-align: top;\n",
       "    }\n",
       "\n",
       "    .dataframe thead th {\n",
       "        text-align: right;\n",
       "    }\n",
       "</style>\n",
       "<table border=\"1\" class=\"dataframe\">\n",
       "  <thead>\n",
       "    <tr style=\"text-align: right;\">\n",
       "      <th></th>\n",
       "      <th>Timestamp</th>\n",
       "      <th>Temperature</th>\n",
       "      <th>Humidity</th>\n",
       "    </tr>\n",
       "  </thead>\n",
       "  <tbody>\n",
       "    <tr>\n",
       "      <th>0</th>\n",
       "      <td>20250207215808</td>\n",
       "      <td>21.9</td>\n",
       "      <td>69.2</td>\n",
       "    </tr>\n",
       "    <tr>\n",
       "      <th>1</th>\n",
       "      <td>20250207215828</td>\n",
       "      <td>21.7</td>\n",
       "      <td>69.3</td>\n",
       "    </tr>\n",
       "    <tr>\n",
       "      <th>2</th>\n",
       "      <td>20250207215848</td>\n",
       "      <td>21.5</td>\n",
       "      <td>68.7</td>\n",
       "    </tr>\n",
       "    <tr>\n",
       "      <th>3</th>\n",
       "      <td>20250207215908</td>\n",
       "      <td>21.4</td>\n",
       "      <td>67.4</td>\n",
       "    </tr>\n",
       "    <tr>\n",
       "      <th>4</th>\n",
       "      <td>20250207215928</td>\n",
       "      <td>21.3</td>\n",
       "      <td>68.3</td>\n",
       "    </tr>\n",
       "  </tbody>\n",
       "</table>\n",
       "</div>"
      ],
      "text/plain": [
       "        Timestamp  Temperature  Humidity\n",
       "0  20250207215808         21.9      69.2\n",
       "1  20250207215828         21.7      69.3\n",
       "2  20250207215848         21.5      68.7\n",
       "3  20250207215908         21.4      67.4\n",
       "4  20250207215928         21.3      68.3"
      ]
     },
     "execution_count": 53,
     "metadata": {},
     "output_type": "execute_result"
    }
   ],
   "source": [
    "import pandas as pd\n",
    "import numpy as np\n",
    "import matplotlib.pyplot as plt\n",
    "import plotly.express as px\n",
    "import plotly.graph_objects as go\n",
    "from sklearn.linear_model import LinearRegression\n",
    "\n",
    "# Load the dataset\n",
    "df = pd.read_csv(\"dht22_data.csv\") \n",
    "\n",
    "# Inspect the first few rows\n",
    "df.head()\n"
   ]
  },
  {
   "cell_type": "code",
   "execution_count": 54,
   "metadata": {},
   "outputs": [
    {
     "name": "stdout",
     "output_type": "stream",
     "text": [
      "Index(['Timestamp', 'Temperature', 'Humidity'], dtype='object')\n"
     ]
    }
   ],
   "source": [
    "print(df.columns)\n"
   ]
  },
  {
   "cell_type": "code",
   "execution_count": 55,
   "metadata": {},
   "outputs": [
    {
     "name": "stdout",
     "output_type": "stream",
     "text": [
      "Intercept: 115.71734940872277, Coefficient: -2.4075095968007396\n"
     ]
    }
   ],
   "source": [
    "# Extract independent (X) and dependent (y) variables\n",
    "X = df[['Temperature']].values  # Reshape needed for sklearn\n",
    "y = df['Humidity'].values\n",
    "\n",
    "# Create and train the model\n",
    "model = LinearRegression()\n",
    "model.fit(X, y)\n",
    "\n",
    "# Print model parameters\n",
    "print(f\"Intercept: {model.intercept_}, Coefficient: {model.coef_[0]}\")\n"
   ]
  },
  {
   "cell_type": "code",
   "execution_count": 56,
   "metadata": {},
   "outputs": [
    {
     "name": "stdout",
     "output_type": "stream",
     "text": [
      "Min temperature: 19.2, Max temperature: 31.7\n",
      "Test temperatures: [[19.2       ]\n",
      " [19.32626263]\n",
      " [19.45252525]\n",
      " [19.57878788]\n",
      " [19.70505051]\n",
      " [19.83131313]\n",
      " [19.95757576]\n",
      " [20.08383838]\n",
      " [20.21010101]\n",
      " [20.33636364]\n",
      " [20.46262626]\n",
      " [20.58888889]\n",
      " [20.71515152]\n",
      " [20.84141414]\n",
      " [20.96767677]\n",
      " [21.09393939]\n",
      " [21.22020202]\n",
      " [21.34646465]\n",
      " [21.47272727]\n",
      " [21.5989899 ]\n",
      " [21.72525253]\n",
      " [21.85151515]\n",
      " [21.97777778]\n",
      " [22.1040404 ]\n",
      " [22.23030303]\n",
      " [22.35656566]\n",
      " [22.48282828]\n",
      " [22.60909091]\n",
      " [22.73535354]\n",
      " [22.86161616]\n",
      " [22.98787879]\n",
      " [23.11414141]\n",
      " [23.24040404]\n",
      " [23.36666667]\n",
      " [23.49292929]\n",
      " [23.61919192]\n",
      " [23.74545455]\n",
      " [23.87171717]\n",
      " [23.9979798 ]\n",
      " [24.12424242]\n",
      " [24.25050505]\n",
      " [24.37676768]\n",
      " [24.5030303 ]\n",
      " [24.62929293]\n",
      " [24.75555556]\n",
      " [24.88181818]\n",
      " [25.00808081]\n",
      " [25.13434343]\n",
      " [25.26060606]\n",
      " [25.38686869]\n",
      " [25.51313131]\n",
      " [25.63939394]\n",
      " [25.76565657]\n",
      " [25.89191919]\n",
      " [26.01818182]\n",
      " [26.14444444]\n",
      " [26.27070707]\n",
      " [26.3969697 ]\n",
      " [26.52323232]\n",
      " [26.64949495]\n",
      " [26.77575758]\n",
      " [26.9020202 ]\n",
      " [27.02828283]\n",
      " [27.15454545]\n",
      " [27.28080808]\n",
      " [27.40707071]\n",
      " [27.53333333]\n",
      " [27.65959596]\n",
      " [27.78585859]\n",
      " [27.91212121]\n",
      " [28.03838384]\n",
      " [28.16464646]\n",
      " [28.29090909]\n",
      " [28.41717172]\n",
      " [28.54343434]\n",
      " [28.66969697]\n",
      " [28.7959596 ]\n",
      " [28.92222222]\n",
      " [29.04848485]\n",
      " [29.17474747]\n",
      " [29.3010101 ]\n",
      " [29.42727273]\n",
      " [29.55353535]\n",
      " [29.67979798]\n",
      " [29.80606061]\n",
      " [29.93232323]\n",
      " [30.05858586]\n",
      " [30.18484848]\n",
      " [30.31111111]\n",
      " [30.43737374]\n",
      " [30.56363636]\n",
      " [30.68989899]\n",
      " [30.81616162]\n",
      " [30.94242424]\n",
      " [31.06868687]\n",
      " [31.19494949]\n",
      " [31.32121212]\n",
      " [31.44747475]\n",
      " [31.57373737]\n",
      " [31.7       ]]\n",
      "Predicted humidity: [69.49316515 69.18918667 68.88520818 68.5812297  68.27725121 67.97327273\n",
      " 67.66929424 67.36531576 67.06133727 66.75735879 66.45338031 66.14940182\n",
      " 65.84542334 65.54144485 65.23746637 64.93348788 64.6295094  64.32553091\n",
      " 64.02155243 63.71757395 63.41359546 63.10961698 62.80563849 62.50166001\n",
      " 62.19768152 61.89370304 61.58972455 61.28574607 60.98176759 60.6777891\n",
      " 60.37381062 60.06983213 59.76585365 59.46187516 59.15789668 58.85391819\n",
      " 58.54993971 58.24596123 57.94198274 57.63800426 57.33402577 57.03004729\n",
      " 56.7260688  56.42209032 56.11811183 55.81413335 55.51015487 55.20617638\n",
      " 54.9021979  54.59821941 54.29424093 53.99026244 53.68628396 53.38230547\n",
      " 53.07832699 52.77434851 52.47037002 52.16639154 51.86241305 51.55843457\n",
      " 51.25445608 50.9504776  50.64649911 50.34252063 50.03854215 49.73456366\n",
      " 49.43058518 49.12660669 48.82262821 48.51864972 48.21467124 47.91069275\n",
      " 47.60671427 47.30273579 46.9987573  46.69477882 46.39080033 46.08682185\n",
      " 45.78284336 45.47886488 45.17488639 44.87090791 44.56692943 44.26295094\n",
      " 43.95897246 43.65499397 43.35101549 43.047037   42.74305852 42.43908003\n",
      " 42.13510155 41.83112307 41.52714458 41.2231661  40.91918761 40.61520913\n",
      " 40.31123064 40.00725216 39.70327367 39.39929519]\n"
     ]
    }
   ],
   "source": [
    "# Find min and max temperature\n",
    "min_temp = df['Temperature'].min()\n",
    "max_temp = df['Temperature'].max()\n",
    "\n",
    "# Generate 100 equally spaced test temperature values\n",
    "test_temps = np.linspace(min_temp, max_temp, 100).reshape(-1, 1)\n",
    "\n",
    "# Predict humidity for test temperature values\n",
    "predicted_humidity = model.predict(test_temps)\n",
    "\n",
    "# Print everything\n",
    "print(f\"Min temperature: {min_temp}, Max temperature: {max_temp}\")\n",
    "print(f\"Test temperatures: {test_temps}\")\n",
    "print(f\"Predicted humidity: {predicted_humidity}\")\n"
   ]
  },
  {
   "cell_type": "code",
   "execution_count": 57,
   "metadata": {},
   "outputs": [
    {
     "data": {
      "application/vnd.plotly.v1+json": {
       "config": {
        "plotlyServerURL": "https://plot.ly"
       },
       "data": [
        {
         "hovertemplate": "Temperature=%{x}<br>Humidity=%{y}<extra></extra>",
         "legendgroup": "",
         "marker": {
          "color": "#636efa",
          "opacity": 0.65,
          "symbol": "circle"
         },
         "mode": "markers",
         "name": "",
         "orientation": "v",
         "showlegend": false,
         "type": "scatter",
         "x": {
          "bdata": "ZmZmZmbmNUAzMzMzM7M1QAAAAAAAgDVAZmZmZmZmNUDNzMzMzEw1QAAAAAAAgDVAzczMzMzMNUCamZmZmRk2QGZmZmZmZjZAMzMzMzOzNkAAAAAAAAA3QDMzMzMzMzdAzczMzMxMN0AAAAAAAIA3QAAAAAAAgDdAmpmZmZmZN0AzMzMzM7M3QM3MzMzMzDdAZmZmZmbmN0AAAAAAAAA4QJqZmZmZGThAmpmZmZkZOEAzMzMzMzM4QM3MzMzMTDhAZmZmZmZmOEBmZmZmZmY4QAAAAAAAgDhAZmZmZmZmOEBmZmZmZmY4QAAAAAAAgDhAZmZmZmZmOEDNzMzMzMw4QM3MzMzMzDhAzczMzMzMOEDNzMzMzMw4QDMzMzMzszhAzczMzMzMOEDNzMzMzMw4QJqZmZmZmThAAAAAAACAOEDNzMzMzMw4QDMzMzMzMzlAmpmZmZmZOUCamZmZmRk6QDMzMzMzszpAmpmZmZkZO0AAAAAAAIA7QGZmZmZm5jtAZmZmZmZmPEAzMzMzM7M8QGZmZmZm5jxAAAAAAAAAPUDNzMzMzEw9QGZmZmZmZj1AMzMzMzOzPUDNzMzMzMw9QAAAAAAAAD5AmpmZmZkZPkAzMzMzMzM+QDMzMzMzMz5AzczMzMxMPkDNzMzMzEw+QAAAAAAAgD5AmpmZmZmZPkCamZmZmZk+QJqZmZmZmT5AMzMzMzOzPkAzMzMzM7M+QM3MzMzMzD5AzczMzMzMPkDNzMzMzMw+QM3MzMzMzD5AAAAAAAAAP0CamZmZmRk/QM3MzMzMTD9AZmZmZmZmP0AAAAAAAIA/QJqZmZmZmT9AMzMzMzOzP0AzMzMzM7M/QJqZmZmZmT9AmpmZmZmZP0BmZmZmZmY/QDMzMzMzMz9AmpmZmZkZP0AAAAAAAAA/QGZmZmZm5j5AzczMzMzMPkAzMzMzM7M+QJqZmZmZmT5AmpmZmZmZPkAzMzMzM7M+QJqZmZmZmT5AzczMzMxMPkDNzMzMzMw9QM3MzMzMTD1AZmZmZmbmPEAAAAAAAIA8QDMzMzMzMzxAZmZmZmbmO0AAAAAAAIA7QDMzMzMzMztAAAAAAAAAO0DNzMzMzMw6QAAAAAAAgDpAzczMzMxMOkAzMzMzMzM6QJqZmZmZGTpAAAAAAAAAOkBmZmZmZuY5QGZmZmZm5jlAzczMzMzMOUAzMzMzM7M5QDMzMzMzszlAmpmZmZmZOUAAAAAAAIA5QAAAAAAAgDlAZmZmZmZmOUDNzMzMzEw5QM3MzMzMTDlAMzMzMzMzOUAzMzMzMzM5QDMzMzMzMzlAMzMzMzMzOUCamZmZmRk5QJqZmZmZGTlAmpmZmZkZOUAAAAAAAAA5QAAAAAAAADlAAAAAAAAAOUBmZmZmZuY4QGZmZmZm5jhAZmZmZmbmOEBmZmZmZuY4QGZmZmZm5jhAZmZmZmbmOEBmZmZmZuY4QGZmZmZm5jhAAAAAAAAAOUDNzMzMzMw4QAAAAAAAgDhAmpmZmZkZOECamZmZmZk3QJqZmZmZGTdAMzMzMzOzNkDNzMzMzEw2QAAAAAAAADZAmpmZmZmZNUBmZmZmZmY1QJqZmZmZGTVAZmZmZmbmNEAzMzMzM7M0QAAAAAAAgDRAzczMzMxMNECamZmZmRk0QAAAAAAAADRAZmZmZmbmM0DNzMzMzMwzQDMzMzMzszNAmpmZmZmZM0AAAAAAAIAzQGZmZmZmZjNAZmZmZmZmM0DNzMzMzEwzQM3MzMzMTDNAMzMzMzMzM0A=",
          "dtype": "f8"
         },
         "xaxis": "x",
         "y": {
          "bdata": "zczMzMxMUUAzMzMzM1NRQM3MzMzMLFFAmpmZmZnZUEAzMzMzMxNRQDMzMzMzE1FAzczMzMzsUECamZmZmZlQQGZmZmZmZlBAAAAAAAAgUEAzMzMzMxNQQGZmZmZmZk9AZmZmZmZmT0DNzMzMzExPQAAAAAAAwE5AmpmZmZmZTkCamZmZmRlOQGZmZmZm5k1AMzMzMzPzTUBmZmZmZiZOQJqZmZmZ2U1AMzMzMzOzTUAAAAAAAIBNQM3MzMzMTE1AAAAAAABATUDNzMzMzMxMQAAAAAAAwExAzczMzMzMTEAzMzMzM3NNQGZmZmZm5kxAmpmZmZmZTEDNzMzMzMxLQDMzMzMzc0tAAAAAAACAS0DNzMzMzMxLQGZmZmZmpktAAAAAAACAS0AAAAAAAIBLQAAAAAAAQEtAZmZmZmYmTEBmZmZmZuZLQJqZmZmZWUtAAAAAAABAS0CamZmZmdlKQDMzMzMzc0pAzczMzMwMSkCamZmZmVlJQDMzMzMzs0hAZmZmZmbmR0BmZmZmZqZHQAAAAAAAQEdAAAAAAACAR0AAAAAAAABHQDMzMzMz80ZAMzMzMzOzRkAzMzMzM3NGQGZmZmZmJkZAMzMzMzMzRkCamZmZmRlGQM3MzMzMDEZAMzMzMzPzRUDNzMzMzMxFQDMzMzMzc0VAAAAAAACARUAAAAAAAIBFQJqZmZmZWUVAAAAAAABARUBmZmZmZmZFQGZmZmZmJkVAzczMzMxMRUAAAAAAAEBFQGZmZmZmJkVAmpmZmZmZRUAzMzMzM/NEQJqZmZmZ2URAzczMzMzMREAAAAAAAMBEQJqZmZmZGUVAMzMzMzNzREDNzMzMzIxEQGZmZmZmZkRAZmZmZmZmREBmZmZmZmZEQDMzMzMzs0RAzczMzMyMREBmZmZmZqZEQAAAAAAAwERAmpmZmZnZRECamZmZmdlEQAAAAAAAAEVAmpmZmZkZRUAzMzMzMzNFQJqZmZmZGUVAAAAAAAAARUDNzMzMzExFQM3MzMzMzEVAzczMzMwMRkAzMzMzM3NGQGZmZmZm5kZAmpmZmZkZR0AzMzMzM3NHQAAAAAAAAEhAZmZmZmbmR0BmZmZmZmZIQM3MzMzMjEhAZmZmZmbmSEDNzMzMzAxJQDMzMzMzM0lAAAAAAACASUDNzMzMzIxJQDMzMzMzs0lAmpmZmZnZSUAzMzMzM7NJQGZmZmZm5klAMzMzMzPzSUAzMzMzM/NJQAAAAAAAAEpAmpmZmZlZSkAzMzMzM3NKQM3MzMzMTEpAZmZmZmZmSkAzMzMzM3NKQGZmZmZmpkpAZmZmZmamSkCamZmZmZlKQJqZmZmZmUpAMzMzMzOzSkAAAAAAAMBKQM3MzMzMzEpAMzMzMzPzSkCamZmZmdlKQJqZmZmZ2UpAZmZmZmbmSkAAAAAAAABLQDMzMzMz80pAAAAAAAAAS0BmZmZmZuZKQDMzMzMz80pAzczMzMwMS0CamZmZmRlLQM3MzMzMTEtAzczMzMyMS0AzMzMzMzNMQJqZmZmZmUxAMzMzMzMzTUBmZmZmZqZNQAAAAAAAQE5AmpmZmZnZTkAzMzMzMzNPQJqZmZmZmU9AMzMzMzMTUEAzMzMzMzNQQGZmZmZmRlBAMzMzMzOTUECamZmZmblQQJqZmZmZ2VBAAAAAAADgUEDNzMzMzAxRQGZmZmZmJlFAMzMzMzMzUUAzMzMzM3NRQDMzMzMzU1FAmpmZmZl5UUCamZmZmXlRQDMzMzMzk1FAMzMzMzOTUUA=",
          "dtype": "f8"
         },
         "yaxis": "y"
        },
        {
         "line": {
          "color": "red"
         },
         "mode": "lines",
         "name": "Regression Fit",
         "type": "scatter",
         "x": {
          "bdata": "MzMzMzMzM0B+tI3yhVMzQMk16LHYczNAFLdCcSuUM0BfOJ0wfrQzQKq59+/Q1DNA9TpSryP1M0BAvKxudhU0QIs9By7JNTRA1r5h7RtWNEAhQLysbnY0QGzBFmzBljRAt0JxKxS3NEACxMvqZtc0QE1FJqq59zRAmMaAaQwYNUDjR9soXzg1QC7JNeixWDVAeUqQpwR5NUDEy+pmV5k1QA9NRSaquTVAWs6f5fzZNUClT/qkT/o1QPDQVGSiGjZAO1KvI/U6NkCG0wnjR1s2QNFUZKKaezZAHNa+Ye2bNkBnVxkhQLw2QLLYc+CS3DZA/VnOn+X8NkBI2yhfOB03QJNcgx6LPTdA3t3d3d1dN0ApXzidMH43QHTgklyDnjdAv2HtG9a+N0AK40fbKN83QFVkopp7/zdAoOX8Wc4fOEDrZlcZIUA4QDbosdhzYDhAgWkMmMaAOEDM6mZXGaE4QBdswRZswThAYu0b1r7hOECtbnaVEQI5QPjv0FRkIjlAQnErFLdCOUCO8oXTCWM5QNhz4JJcgzlAJPU6Uq+jOUBudpURAsQ5QLr379BU5DlABHlKkKcEOkBQ+qRP+iQ6QJp7/w5NRTpA5vxZzp9lOkAwfrSN8oU6QHz/Dk1FpjpAxoBpDJjGOkASAsTL6uY6QFyDHos9BztAqAR5SpAnO0DyhdMJ40c7QD4HLsk1aDtAiIiIiIiIO0DUCeNH26g7QB6LPQcuyTtAagyYxoDpO0C0jfKF0wk8QAAPTUUmKjxASpCnBHlKPECWEQLEy2o8QOCSXIMeizxALBS3QnGrPEB2lRECxMs8QMIWbMEW7DxADJjGgGkMPUBYGSFAvCw9QKKae/8OTT1A7hvWvmFtPUA4nTB+tI09QIQeiz0Hrj1Azp/l/FnOPUAaIUC8rO49QGSimnv/Dj5AsCP1OlIvPkD6pE/6pE8+QEYmqrn3bz5AkKcEeUqQPkDcKF84nbA+QCaquffv0D5AcisUt0LxPkC8rG52lRE/QAguyTXoMT9AUq8j9TpSP0CdMH60jXI/QOix2HPgkj9AMzMzMzOzP0A=",
          "dtype": "f8"
         },
         "y": {
          "bdata": "kNqPBJBfUUBwgmOiG0xRQFAqN0CnOFFAMdIK3jIlUUARet57vhFRQPIhshlK/lBA0smFt9XqUECycVlVYddQQJIZLfPsw1BAcsEAkXiwUEBTadQuBJ1QQDMRqMyPiVBAFLl7aht2UED0YE8Ip2JQQNQII6YyT1BAtLD2Q747UECUWMrhSShQQHUAnn/VFFBAVahxHWEBUEBroIp22dtPQCzwMbLwtE9A7D/Z7QeOT0Ctj4ApH2dPQG3fJ2U2QE9ALi/PoE0ZT0DvfnbcZPJOQK/OHRh8y05AcB7FU5OkTkAwbmyPqn1OQPG9E8vBVk5Asg27BtkvTkByXWJC8AhOQDOtCX4H4k1A8/ywuR67TUC0TFj1NZRNQHWc/zBNbU1ANeymbGRGTUD2O06oex9NQLaL9eOS+ExAd9ucH6rRTEA3K0RbwapMQPh665bYg0xAucqS0u9cTEB5GjoOBzZMQDpq4UkeD0xA+rmIhTXoS0C7CTDBTMFLQHxZ1/xjmktAPal+OHtzS0D9+CV0kkxLQL9Iza+pJUtAfph068D+SkBA6Bsn2NdKQP83w2LvsEpAwYdqngaKSkCA1xHaHWNKQEInuRU1PEpAAndgUUwVSkDDxgeNY+5JQIIWr8h6x0lARGZWBJKgSUAEtv0/qXlJQMYFpXvAUklAhlVMt9crSUBGpfPy7gRJQAb1mi4G3khAyERCah23SECIlOmlNJBIQErkkOFLaUhACDQ4HWNCSEDKg99YehtIQIrThpSR9EdATCMu0KjNR0AMc9ULwKZHQMzCfEfXf0dAjBIkg+5YR0BOYsu+BTJHQA6ycvocC0dA0AEaNjTkRkCOUcFxS71GQFChaK1ilkZAEPEP6XlvRkDSQLckkUhGQJCQXmCoIUZAUuAFnL/6RUASMK3X1tNFQNR/VBPurEVAlM/7TgWGRUBWH6OKHF9FQBRvSsYzOEVA1r7xAUsRRUCWDpk9YupEQFheQHl5w0RAFq7ntJCcREDY/Y7wp3VEQJhNNiy/TkRAWp3dZ9YnREAa7YSj7QBEQNo8LN8E2kNAnIzTGhyzQ0A=",
          "dtype": "f8"
         }
        }
       ],
       "layout": {
        "legend": {
         "tracegroupgap": 0
        },
        "margin": {
         "t": 60
        },
        "template": {
         "data": {
          "bar": [
           {
            "error_x": {
             "color": "#2a3f5f"
            },
            "error_y": {
             "color": "#2a3f5f"
            },
            "marker": {
             "line": {
              "color": "#E5ECF6",
              "width": 0.5
             },
             "pattern": {
              "fillmode": "overlay",
              "size": 10,
              "solidity": 0.2
             }
            },
            "type": "bar"
           }
          ],
          "barpolar": [
           {
            "marker": {
             "line": {
              "color": "#E5ECF6",
              "width": 0.5
             },
             "pattern": {
              "fillmode": "overlay",
              "size": 10,
              "solidity": 0.2
             }
            },
            "type": "barpolar"
           }
          ],
          "carpet": [
           {
            "aaxis": {
             "endlinecolor": "#2a3f5f",
             "gridcolor": "white",
             "linecolor": "white",
             "minorgridcolor": "white",
             "startlinecolor": "#2a3f5f"
            },
            "baxis": {
             "endlinecolor": "#2a3f5f",
             "gridcolor": "white",
             "linecolor": "white",
             "minorgridcolor": "white",
             "startlinecolor": "#2a3f5f"
            },
            "type": "carpet"
           }
          ],
          "choropleth": [
           {
            "colorbar": {
             "outlinewidth": 0,
             "ticks": ""
            },
            "type": "choropleth"
           }
          ],
          "contour": [
           {
            "colorbar": {
             "outlinewidth": 0,
             "ticks": ""
            },
            "colorscale": [
             [
              0,
              "#0d0887"
             ],
             [
              0.1111111111111111,
              "#46039f"
             ],
             [
              0.2222222222222222,
              "#7201a8"
             ],
             [
              0.3333333333333333,
              "#9c179e"
             ],
             [
              0.4444444444444444,
              "#bd3786"
             ],
             [
              0.5555555555555556,
              "#d8576b"
             ],
             [
              0.6666666666666666,
              "#ed7953"
             ],
             [
              0.7777777777777778,
              "#fb9f3a"
             ],
             [
              0.8888888888888888,
              "#fdca26"
             ],
             [
              1,
              "#f0f921"
             ]
            ],
            "type": "contour"
           }
          ],
          "contourcarpet": [
           {
            "colorbar": {
             "outlinewidth": 0,
             "ticks": ""
            },
            "type": "contourcarpet"
           }
          ],
          "heatmap": [
           {
            "colorbar": {
             "outlinewidth": 0,
             "ticks": ""
            },
            "colorscale": [
             [
              0,
              "#0d0887"
             ],
             [
              0.1111111111111111,
              "#46039f"
             ],
             [
              0.2222222222222222,
              "#7201a8"
             ],
             [
              0.3333333333333333,
              "#9c179e"
             ],
             [
              0.4444444444444444,
              "#bd3786"
             ],
             [
              0.5555555555555556,
              "#d8576b"
             ],
             [
              0.6666666666666666,
              "#ed7953"
             ],
             [
              0.7777777777777778,
              "#fb9f3a"
             ],
             [
              0.8888888888888888,
              "#fdca26"
             ],
             [
              1,
              "#f0f921"
             ]
            ],
            "type": "heatmap"
           }
          ],
          "histogram": [
           {
            "marker": {
             "pattern": {
              "fillmode": "overlay",
              "size": 10,
              "solidity": 0.2
             }
            },
            "type": "histogram"
           }
          ],
          "histogram2d": [
           {
            "colorbar": {
             "outlinewidth": 0,
             "ticks": ""
            },
            "colorscale": [
             [
              0,
              "#0d0887"
             ],
             [
              0.1111111111111111,
              "#46039f"
             ],
             [
              0.2222222222222222,
              "#7201a8"
             ],
             [
              0.3333333333333333,
              "#9c179e"
             ],
             [
              0.4444444444444444,
              "#bd3786"
             ],
             [
              0.5555555555555556,
              "#d8576b"
             ],
             [
              0.6666666666666666,
              "#ed7953"
             ],
             [
              0.7777777777777778,
              "#fb9f3a"
             ],
             [
              0.8888888888888888,
              "#fdca26"
             ],
             [
              1,
              "#f0f921"
             ]
            ],
            "type": "histogram2d"
           }
          ],
          "histogram2dcontour": [
           {
            "colorbar": {
             "outlinewidth": 0,
             "ticks": ""
            },
            "colorscale": [
             [
              0,
              "#0d0887"
             ],
             [
              0.1111111111111111,
              "#46039f"
             ],
             [
              0.2222222222222222,
              "#7201a8"
             ],
             [
              0.3333333333333333,
              "#9c179e"
             ],
             [
              0.4444444444444444,
              "#bd3786"
             ],
             [
              0.5555555555555556,
              "#d8576b"
             ],
             [
              0.6666666666666666,
              "#ed7953"
             ],
             [
              0.7777777777777778,
              "#fb9f3a"
             ],
             [
              0.8888888888888888,
              "#fdca26"
             ],
             [
              1,
              "#f0f921"
             ]
            ],
            "type": "histogram2dcontour"
           }
          ],
          "mesh3d": [
           {
            "colorbar": {
             "outlinewidth": 0,
             "ticks": ""
            },
            "type": "mesh3d"
           }
          ],
          "parcoords": [
           {
            "line": {
             "colorbar": {
              "outlinewidth": 0,
              "ticks": ""
             }
            },
            "type": "parcoords"
           }
          ],
          "pie": [
           {
            "automargin": true,
            "type": "pie"
           }
          ],
          "scatter": [
           {
            "fillpattern": {
             "fillmode": "overlay",
             "size": 10,
             "solidity": 0.2
            },
            "type": "scatter"
           }
          ],
          "scatter3d": [
           {
            "line": {
             "colorbar": {
              "outlinewidth": 0,
              "ticks": ""
             }
            },
            "marker": {
             "colorbar": {
              "outlinewidth": 0,
              "ticks": ""
             }
            },
            "type": "scatter3d"
           }
          ],
          "scattercarpet": [
           {
            "marker": {
             "colorbar": {
              "outlinewidth": 0,
              "ticks": ""
             }
            },
            "type": "scattercarpet"
           }
          ],
          "scattergeo": [
           {
            "marker": {
             "colorbar": {
              "outlinewidth": 0,
              "ticks": ""
             }
            },
            "type": "scattergeo"
           }
          ],
          "scattergl": [
           {
            "marker": {
             "colorbar": {
              "outlinewidth": 0,
              "ticks": ""
             }
            },
            "type": "scattergl"
           }
          ],
          "scattermap": [
           {
            "marker": {
             "colorbar": {
              "outlinewidth": 0,
              "ticks": ""
             }
            },
            "type": "scattermap"
           }
          ],
          "scattermapbox": [
           {
            "marker": {
             "colorbar": {
              "outlinewidth": 0,
              "ticks": ""
             }
            },
            "type": "scattermapbox"
           }
          ],
          "scatterpolar": [
           {
            "marker": {
             "colorbar": {
              "outlinewidth": 0,
              "ticks": ""
             }
            },
            "type": "scatterpolar"
           }
          ],
          "scatterpolargl": [
           {
            "marker": {
             "colorbar": {
              "outlinewidth": 0,
              "ticks": ""
             }
            },
            "type": "scatterpolargl"
           }
          ],
          "scatterternary": [
           {
            "marker": {
             "colorbar": {
              "outlinewidth": 0,
              "ticks": ""
             }
            },
            "type": "scatterternary"
           }
          ],
          "surface": [
           {
            "colorbar": {
             "outlinewidth": 0,
             "ticks": ""
            },
            "colorscale": [
             [
              0,
              "#0d0887"
             ],
             [
              0.1111111111111111,
              "#46039f"
             ],
             [
              0.2222222222222222,
              "#7201a8"
             ],
             [
              0.3333333333333333,
              "#9c179e"
             ],
             [
              0.4444444444444444,
              "#bd3786"
             ],
             [
              0.5555555555555556,
              "#d8576b"
             ],
             [
              0.6666666666666666,
              "#ed7953"
             ],
             [
              0.7777777777777778,
              "#fb9f3a"
             ],
             [
              0.8888888888888888,
              "#fdca26"
             ],
             [
              1,
              "#f0f921"
             ]
            ],
            "type": "surface"
           }
          ],
          "table": [
           {
            "cells": {
             "fill": {
              "color": "#EBF0F8"
             },
             "line": {
              "color": "white"
             }
            },
            "header": {
             "fill": {
              "color": "#C8D4E3"
             },
             "line": {
              "color": "white"
             }
            },
            "type": "table"
           }
          ]
         },
         "layout": {
          "annotationdefaults": {
           "arrowcolor": "#2a3f5f",
           "arrowhead": 0,
           "arrowwidth": 1
          },
          "autotypenumbers": "strict",
          "coloraxis": {
           "colorbar": {
            "outlinewidth": 0,
            "ticks": ""
           }
          },
          "colorscale": {
           "diverging": [
            [
             0,
             "#8e0152"
            ],
            [
             0.1,
             "#c51b7d"
            ],
            [
             0.2,
             "#de77ae"
            ],
            [
             0.3,
             "#f1b6da"
            ],
            [
             0.4,
             "#fde0ef"
            ],
            [
             0.5,
             "#f7f7f7"
            ],
            [
             0.6,
             "#e6f5d0"
            ],
            [
             0.7,
             "#b8e186"
            ],
            [
             0.8,
             "#7fbc41"
            ],
            [
             0.9,
             "#4d9221"
            ],
            [
             1,
             "#276419"
            ]
           ],
           "sequential": [
            [
             0,
             "#0d0887"
            ],
            [
             0.1111111111111111,
             "#46039f"
            ],
            [
             0.2222222222222222,
             "#7201a8"
            ],
            [
             0.3333333333333333,
             "#9c179e"
            ],
            [
             0.4444444444444444,
             "#bd3786"
            ],
            [
             0.5555555555555556,
             "#d8576b"
            ],
            [
             0.6666666666666666,
             "#ed7953"
            ],
            [
             0.7777777777777778,
             "#fb9f3a"
            ],
            [
             0.8888888888888888,
             "#fdca26"
            ],
            [
             1,
             "#f0f921"
            ]
           ],
           "sequentialminus": [
            [
             0,
             "#0d0887"
            ],
            [
             0.1111111111111111,
             "#46039f"
            ],
            [
             0.2222222222222222,
             "#7201a8"
            ],
            [
             0.3333333333333333,
             "#9c179e"
            ],
            [
             0.4444444444444444,
             "#bd3786"
            ],
            [
             0.5555555555555556,
             "#d8576b"
            ],
            [
             0.6666666666666666,
             "#ed7953"
            ],
            [
             0.7777777777777778,
             "#fb9f3a"
            ],
            [
             0.8888888888888888,
             "#fdca26"
            ],
            [
             1,
             "#f0f921"
            ]
           ]
          },
          "colorway": [
           "#636efa",
           "#EF553B",
           "#00cc96",
           "#ab63fa",
           "#FFA15A",
           "#19d3f3",
           "#FF6692",
           "#B6E880",
           "#FF97FF",
           "#FECB52"
          ],
          "font": {
           "color": "#2a3f5f"
          },
          "geo": {
           "bgcolor": "white",
           "lakecolor": "white",
           "landcolor": "#E5ECF6",
           "showlakes": true,
           "showland": true,
           "subunitcolor": "white"
          },
          "hoverlabel": {
           "align": "left"
          },
          "hovermode": "closest",
          "mapbox": {
           "style": "light"
          },
          "paper_bgcolor": "white",
          "plot_bgcolor": "#E5ECF6",
          "polar": {
           "angularaxis": {
            "gridcolor": "white",
            "linecolor": "white",
            "ticks": ""
           },
           "bgcolor": "#E5ECF6",
           "radialaxis": {
            "gridcolor": "white",
            "linecolor": "white",
            "ticks": ""
           }
          },
          "scene": {
           "xaxis": {
            "backgroundcolor": "#E5ECF6",
            "gridcolor": "white",
            "gridwidth": 2,
            "linecolor": "white",
            "showbackground": true,
            "ticks": "",
            "zerolinecolor": "white"
           },
           "yaxis": {
            "backgroundcolor": "#E5ECF6",
            "gridcolor": "white",
            "gridwidth": 2,
            "linecolor": "white",
            "showbackground": true,
            "ticks": "",
            "zerolinecolor": "white"
           },
           "zaxis": {
            "backgroundcolor": "#E5ECF6",
            "gridcolor": "white",
            "gridwidth": 2,
            "linecolor": "white",
            "showbackground": true,
            "ticks": "",
            "zerolinecolor": "white"
           }
          },
          "shapedefaults": {
           "line": {
            "color": "#2a3f5f"
           }
          },
          "ternary": {
           "aaxis": {
            "gridcolor": "white",
            "linecolor": "white",
            "ticks": ""
           },
           "baxis": {
            "gridcolor": "white",
            "linecolor": "white",
            "ticks": ""
           },
           "bgcolor": "#E5ECF6",
           "caxis": {
            "gridcolor": "white",
            "linecolor": "white",
            "ticks": ""
           }
          },
          "title": {
           "x": 0.05
          },
          "xaxis": {
           "automargin": true,
           "gridcolor": "white",
           "linecolor": "white",
           "ticks": "",
           "title": {
            "standoff": 15
           },
           "zerolinecolor": "white",
           "zerolinewidth": 2
          },
          "yaxis": {
           "automargin": true,
           "gridcolor": "white",
           "linecolor": "white",
           "ticks": "",
           "title": {
            "standoff": 15
           },
           "zerolinecolor": "white",
           "zerolinewidth": 2
          }
         }
        },
        "xaxis": {
         "anchor": "y",
         "domain": [
          0,
          1
         ],
         "title": {
          "text": "Temperature"
         }
        },
        "yaxis": {
         "anchor": "x",
         "domain": [
          0,
          1
         ],
         "title": {
          "text": "Humidity"
         }
        }
       }
      }
     },
     "metadata": {},
     "output_type": "display_data"
    }
   ],
   "source": [
    "# Create scatter plot with regression line using Plotly\n",
    "fig = px.scatter(df, x='Temperature', y='Humidity', opacity=0.65, labels={'x': \"Temperature\", 'y': \"Humidity\"})\n",
    "\n",
    "# Add trend line\n",
    "fig.add_traces(go.Scatter(x=test_temps.flatten(), y=predicted_humidity, mode='lines', name='Regression Fit', line=dict(color='red')))\n",
    "\n",
    "# Show the plot\n",
    "fig.show()"
   ]
  },
  {
   "cell_type": "code",
   "execution_count": 58,
   "metadata": {},
   "outputs": [
    {
     "name": "stdout",
     "output_type": "stream",
     "text": [
      "Filtered Data Range: 21.3 to 30.8\n"
     ]
    }
   ],
   "source": [
    "# Define threshold temperature values to remove extreme outliers\n",
    "temp_lower_bound = df['Temperature'].quantile(0.10)  # Bottom 10% threshold\n",
    "temp_upper_bound = df['Temperature'].quantile(0.90)  # Top 10% threshold\n",
    "\n",
    "# Filter the data\n",
    "filtered_df = df[(df['Temperature'] >= temp_lower_bound) & (df['Temperature'] <= temp_upper_bound)]\n",
    "\n",
    "# Check new data range\n",
    "print(f\"Filtered Data Range: {filtered_df['Temperature'].min()} to {filtered_df['Temperature'].max()}\")\n"
   ]
  },
  {
   "cell_type": "code",
   "execution_count": 59,
   "metadata": {},
   "outputs": [
    {
     "name": "stdout",
     "output_type": "stream",
     "text": [
      "New Intercept: 118.01217732426146, New Coefficient: -2.5003959542227228\n"
     ]
    }
   ],
   "source": [
    "# Extract independent (X) and dependent (y) variables from filtered data\n",
    "X_filtered = filtered_df[['Temperature']].values\n",
    "y_filtered = filtered_df['Humidity'].values\n",
    "\n",
    "# Create and train new model\n",
    "filtered_model = LinearRegression()\n",
    "filtered_model.fit(X_filtered, y_filtered)\n",
    "\n",
    "# Generate new test temperature values and predictions\n",
    "filtered_predicted_humidity = filtered_model.predict(test_temps)\n",
    "\n",
    "# Print new model parameters\n",
    "print(f\"New Intercept: {filtered_model.intercept_}, New Coefficient: {filtered_model.coef_[0]}\")\n"
   ]
  },
  {
   "cell_type": "code",
   "execution_count": 60,
   "metadata": {},
   "outputs": [
    {
     "data": {
      "application/vnd.plotly.v1+json": {
       "config": {
        "plotlyServerURL": "https://plot.ly"
       },
       "data": [
        {
         "hovertemplate": "Temperature=%{x}<br>Humidity=%{y}<extra></extra>",
         "legendgroup": "",
         "marker": {
          "color": "#636efa",
          "opacity": 0.65,
          "symbol": "circle"
         },
         "mode": "markers",
         "name": "",
         "orientation": "v",
         "showlegend": false,
         "type": "scatter",
         "x": {
          "bdata": "ZmZmZmbmNUAzMzMzM7M1QAAAAAAAgDVAZmZmZmZmNUDNzMzMzEw1QAAAAAAAgDVAzczMzMzMNUCamZmZmRk2QGZmZmZmZjZAMzMzMzOzNkAAAAAAAAA3QDMzMzMzMzdAzczMzMxMN0AAAAAAAIA3QAAAAAAAgDdAmpmZmZmZN0AzMzMzM7M3QM3MzMzMzDdAZmZmZmbmN0AAAAAAAAA4QJqZmZmZGThAmpmZmZkZOEAzMzMzMzM4QM3MzMzMTDhAZmZmZmZmOEBmZmZmZmY4QAAAAAAAgDhAZmZmZmZmOEBmZmZmZmY4QAAAAAAAgDhAZmZmZmZmOEDNzMzMzMw4QM3MzMzMzDhAzczMzMzMOEDNzMzMzMw4QDMzMzMzszhAzczMzMzMOEDNzMzMzMw4QJqZmZmZmThAAAAAAACAOEDNzMzMzMw4QDMzMzMzMzlAmpmZmZmZOUCamZmZmRk6QDMzMzMzszpAmpmZmZkZO0AAAAAAAIA7QGZmZmZm5jtAZmZmZmZmPEAzMzMzM7M8QGZmZmZm5jxAAAAAAAAAPUDNzMzMzEw9QGZmZmZmZj1AMzMzMzOzPUDNzMzMzMw9QAAAAAAAAD5AmpmZmZkZPkAzMzMzMzM+QDMzMzMzMz5AzczMzMxMPkDNzMzMzEw+QAAAAAAAgD5AmpmZmZmZPkCamZmZmZk+QJqZmZmZmT5AMzMzMzOzPkAzMzMzM7M+QM3MzMzMzD5AzczMzMzMPkDNzMzMzMw+QM3MzMzMzD5AzczMzMzMPkAzMzMzM7M+QJqZmZmZmT5AmpmZmZmZPkAzMzMzM7M+QJqZmZmZmT5AzczMzMxMPkDNzMzMzMw9QM3MzMzMTD1AZmZmZmbmPEAAAAAAAIA8QDMzMzMzMzxAZmZmZmbmO0AAAAAAAIA7QDMzMzMzMztAAAAAAAAAO0DNzMzMzMw6QAAAAAAAgDpAzczMzMxMOkAzMzMzMzM6QJqZmZmZGTpAAAAAAAAAOkBmZmZmZuY5QGZmZmZm5jlAzczMzMzMOUAzMzMzM7M5QDMzMzMzszlAmpmZmZmZOUAAAAAAAIA5QAAAAAAAgDlAZmZmZmZmOUDNzMzMzEw5QM3MzMzMTDlAMzMzMzMzOUAzMzMzMzM5QDMzMzMzMzlAMzMzMzMzOUCamZmZmRk5QJqZmZmZGTlAmpmZmZkZOUAAAAAAAAA5QAAAAAAAADlAAAAAAAAAOUBmZmZmZuY4QGZmZmZm5jhAZmZmZmbmOEBmZmZmZuY4QGZmZmZm5jhAZmZmZmbmOEBmZmZmZuY4QGZmZmZm5jhAAAAAAAAAOUDNzMzMzMw4QAAAAAAAgDhAmpmZmZkZOECamZmZmZk3QJqZmZmZGTdAMzMzMzOzNkDNzMzMzEw2QAAAAAAAADZAmpmZmZmZNUBmZmZmZmY1QA==",
          "dtype": "f8"
         },
         "xaxis": "x",
         "y": {
          "bdata": "zczMzMxMUUAzMzMzM1NRQM3MzMzMLFFAmpmZmZnZUEAzMzMzMxNRQDMzMzMzE1FAzczMzMzsUECamZmZmZlQQGZmZmZmZlBAAAAAAAAgUEAzMzMzMxNQQGZmZmZmZk9AZmZmZmZmT0DNzMzMzExPQAAAAAAAwE5AmpmZmZmZTkCamZmZmRlOQGZmZmZm5k1AMzMzMzPzTUBmZmZmZiZOQJqZmZmZ2U1AMzMzMzOzTUAAAAAAAIBNQM3MzMzMTE1AAAAAAABATUDNzMzMzMxMQAAAAAAAwExAzczMzMzMTEAzMzMzM3NNQGZmZmZm5kxAmpmZmZmZTEDNzMzMzMxLQDMzMzMzc0tAAAAAAACAS0DNzMzMzMxLQGZmZmZmpktAAAAAAACAS0AAAAAAAIBLQAAAAAAAQEtAZmZmZmYmTEBmZmZmZuZLQJqZmZmZWUtAAAAAAABAS0CamZmZmdlKQDMzMzMzc0pAzczMzMwMSkCamZmZmVlJQDMzMzMzs0hAZmZmZmbmR0BmZmZmZqZHQAAAAAAAQEdAAAAAAACAR0AAAAAAAABHQDMzMzMz80ZAMzMzMzOzRkAzMzMzM3NGQGZmZmZmJkZAMzMzMzMzRkCamZmZmRlGQM3MzMzMDEZAMzMzMzPzRUDNzMzMzMxFQDMzMzMzc0VAAAAAAACARUAAAAAAAIBFQJqZmZmZWUVAAAAAAABARUBmZmZmZmZFQGZmZmZmJkVAzczMzMxMRUAAAAAAAEBFQGZmZmZmJkVAmpmZmZnZRECamZmZmdlEQAAAAAAAAEVAmpmZmZkZRUAzMzMzMzNFQJqZmZmZGUVAAAAAAAAARUDNzMzMzExFQM3MzMzMzEVAzczMzMwMRkAzMzMzM3NGQGZmZmZm5kZAmpmZmZkZR0AzMzMzM3NHQAAAAAAAAEhAZmZmZmbmR0BmZmZmZmZIQM3MzMzMjEhAZmZmZmbmSEDNzMzMzAxJQDMzMzMzM0lAAAAAAACASUDNzMzMzIxJQDMzMzMzs0lAmpmZmZnZSUAzMzMzM7NJQGZmZmZm5klAMzMzMzPzSUAzMzMzM/NJQAAAAAAAAEpAmpmZmZlZSkAzMzMzM3NKQM3MzMzMTEpAZmZmZmZmSkAzMzMzM3NKQGZmZmZmpkpAZmZmZmamSkCamZmZmZlKQJqZmZmZmUpAMzMzMzOzSkAAAAAAAMBKQM3MzMzMzEpAMzMzMzPzSkCamZmZmdlKQJqZmZmZ2UpAZmZmZmbmSkAAAAAAAABLQDMzMzMz80pAAAAAAAAAS0BmZmZmZuZKQDMzMzMz80pAzczMzMwMS0CamZmZmRlLQM3MzMzMTEtAzczMzMyMS0AzMzMzMzNMQJqZmZmZmUxAMzMzMzMzTUBmZmZmZqZNQAAAAAAAQE5AmpmZmZnZTkAzMzMzMzNPQA==",
          "dtype": "f8"
         },
         "yaxis": "y"
        },
        {
         "line": {
          "color": "red"
         },
         "mode": "lines",
         "name": "New Trend Line",
         "type": "scatter",
         "x": {
          "bdata": "MzMzMzMzM0B+tI3yhVMzQMk16LHYczNAFLdCcSuUM0BfOJ0wfrQzQKq59+/Q1DNA9TpSryP1M0BAvKxudhU0QIs9By7JNTRA1r5h7RtWNEAhQLysbnY0QGzBFmzBljRAt0JxKxS3NEACxMvqZtc0QE1FJqq59zRAmMaAaQwYNUDjR9soXzg1QC7JNeixWDVAeUqQpwR5NUDEy+pmV5k1QA9NRSaquTVAWs6f5fzZNUClT/qkT/o1QPDQVGSiGjZAO1KvI/U6NkCG0wnjR1s2QNFUZKKaezZAHNa+Ye2bNkBnVxkhQLw2QLLYc+CS3DZA/VnOn+X8NkBI2yhfOB03QJNcgx6LPTdA3t3d3d1dN0ApXzidMH43QHTgklyDnjdAv2HtG9a+N0AK40fbKN83QFVkopp7/zdAoOX8Wc4fOEDrZlcZIUA4QDbosdhzYDhAgWkMmMaAOEDM6mZXGaE4QBdswRZswThAYu0b1r7hOECtbnaVEQI5QPjv0FRkIjlAQnErFLdCOUCO8oXTCWM5QNhz4JJcgzlAJPU6Uq+jOUBudpURAsQ5QLr379BU5DlABHlKkKcEOkBQ+qRP+iQ6QJp7/w5NRTpA5vxZzp9lOkAwfrSN8oU6QHz/Dk1FpjpAxoBpDJjGOkASAsTL6uY6QFyDHos9BztAqAR5SpAnO0DyhdMJ40c7QD4HLsk1aDtAiIiIiIiIO0DUCeNH26g7QB6LPQcuyTtAagyYxoDpO0C0jfKF0wk8QAAPTUUmKjxASpCnBHlKPECWEQLEy2o8QOCSXIMeizxALBS3QnGrPEB2lRECxMs8QMIWbMEW7DxADJjGgGkMPUBYGSFAvCw9QKKae/8OTT1A7hvWvmFtPUA4nTB+tI09QIQeiz0Hrj1Azp/l/FnOPUAaIUC8rO49QGSimnv/Dj5AsCP1OlIvPkD6pE/6pE8+QEYmqrn3bz5AkKcEeUqQPkDcKF84nbA+QCaquffv0D5AcisUt0LxPkC8rG52lRE/QAguyTXoMT9AUq8j9TpSP0CdMH60jXI/QOix2HPgkj9AMzMzMzOzP0A=",
          "dtype": "f8"
         },
         "y": {
          "bdata": "zkP09EqAUUBv0KprFmxRQBBdYeLhV1FAsOkXWa1DUUBRds7PeC9RQPIChUZEG1FAko87vQ8HUUAzHPIz2/JQQNSoqKqm3lBAdDVfIXLKUEAWwhWYPbZQQLZOzA4JolBAVtuChdSNUED4Zzn8n3lQQJj073JrZVBAOYGm6TZRUEDaDV1gAj1QQHqaE9fNKFBAGyfKTZkUUEC8s4DEZABQQLmAbnZg2E9A+pnbY/evT0A8s0hRjodPQH3MtT4lX09Av+UiLLw2T0AA/48ZUw5PQEEY/Qbq5U5AgzFq9IC9TkDEStfhF5VOQAZkRM+ubE5AR32xvEVETkCJlh6q3BtOQMqvi5dz801AC8n4hArLTUBN4mVyoaJNQI770l84ek1A0BRATc9RTUARLq06ZilNQFNHGij9AE1AlGCHFZTYTEDVefQCK7BMQBeTYfDBh0xAWKzO3VhfTECaxTvL7zZMQNveqLiGDkxAHfgVph3mS0BeEYOTtL1LQKAq8IBLlUtA4kNdbuJsS0AiXcpbeURLQGV2N0kQHEtApo+kNqfzSkDoqBEkPstKQCjCfhHVokpAatvr/mt6SkCq9FjsAlJKQO4NxtmZKUpALiczxzABSkBwQKC0x9hJQLBZDaJesElA9HJ6j/WHSUA0jOd8jF9JQHalVGojN0lAtr7BV7oOSUD61y5FUeZIQDrxmzLovUhAfAoJIH+VSEC8I3YNFm1IQP484/qsREhAPlZQ6EMcSECCb73V2vNHQMKIKsNxy0dABKKXsAijR0BEuwSen3pHQIjUcYs2UkdAyO3eeM0pR0AKB0xmZAFHQEoguVP72EZAjjkmQZKwRkDOUpMuKYhGQBBsABzAX0ZAUIVtCVc3RkCSntr27Q5GQNS3R+SE5kVAFtG00Ru+RUBW6iG/spVFQJgDj6xJbUVA2Bz8meBERUAcNmmHdxxFQFxP1nQO9ERAnmhDYqXLREDegbBPPKNEQCKbHT3TekRAYrSKKmpSRECkzfcXASpEQOTmZAWYAURAJgDS8i7ZQ0BoGT/gxbBDQKoyrM1ciENA7EsZu/NfQ0A=",
          "dtype": "f8"
         }
        }
       ],
       "layout": {
        "legend": {
         "tracegroupgap": 0
        },
        "template": {
         "data": {
          "bar": [
           {
            "error_x": {
             "color": "#2a3f5f"
            },
            "error_y": {
             "color": "#2a3f5f"
            },
            "marker": {
             "line": {
              "color": "#E5ECF6",
              "width": 0.5
             },
             "pattern": {
              "fillmode": "overlay",
              "size": 10,
              "solidity": 0.2
             }
            },
            "type": "bar"
           }
          ],
          "barpolar": [
           {
            "marker": {
             "line": {
              "color": "#E5ECF6",
              "width": 0.5
             },
             "pattern": {
              "fillmode": "overlay",
              "size": 10,
              "solidity": 0.2
             }
            },
            "type": "barpolar"
           }
          ],
          "carpet": [
           {
            "aaxis": {
             "endlinecolor": "#2a3f5f",
             "gridcolor": "white",
             "linecolor": "white",
             "minorgridcolor": "white",
             "startlinecolor": "#2a3f5f"
            },
            "baxis": {
             "endlinecolor": "#2a3f5f",
             "gridcolor": "white",
             "linecolor": "white",
             "minorgridcolor": "white",
             "startlinecolor": "#2a3f5f"
            },
            "type": "carpet"
           }
          ],
          "choropleth": [
           {
            "colorbar": {
             "outlinewidth": 0,
             "ticks": ""
            },
            "type": "choropleth"
           }
          ],
          "contour": [
           {
            "colorbar": {
             "outlinewidth": 0,
             "ticks": ""
            },
            "colorscale": [
             [
              0,
              "#0d0887"
             ],
             [
              0.1111111111111111,
              "#46039f"
             ],
             [
              0.2222222222222222,
              "#7201a8"
             ],
             [
              0.3333333333333333,
              "#9c179e"
             ],
             [
              0.4444444444444444,
              "#bd3786"
             ],
             [
              0.5555555555555556,
              "#d8576b"
             ],
             [
              0.6666666666666666,
              "#ed7953"
             ],
             [
              0.7777777777777778,
              "#fb9f3a"
             ],
             [
              0.8888888888888888,
              "#fdca26"
             ],
             [
              1,
              "#f0f921"
             ]
            ],
            "type": "contour"
           }
          ],
          "contourcarpet": [
           {
            "colorbar": {
             "outlinewidth": 0,
             "ticks": ""
            },
            "type": "contourcarpet"
           }
          ],
          "heatmap": [
           {
            "colorbar": {
             "outlinewidth": 0,
             "ticks": ""
            },
            "colorscale": [
             [
              0,
              "#0d0887"
             ],
             [
              0.1111111111111111,
              "#46039f"
             ],
             [
              0.2222222222222222,
              "#7201a8"
             ],
             [
              0.3333333333333333,
              "#9c179e"
             ],
             [
              0.4444444444444444,
              "#bd3786"
             ],
             [
              0.5555555555555556,
              "#d8576b"
             ],
             [
              0.6666666666666666,
              "#ed7953"
             ],
             [
              0.7777777777777778,
              "#fb9f3a"
             ],
             [
              0.8888888888888888,
              "#fdca26"
             ],
             [
              1,
              "#f0f921"
             ]
            ],
            "type": "heatmap"
           }
          ],
          "histogram": [
           {
            "marker": {
             "pattern": {
              "fillmode": "overlay",
              "size": 10,
              "solidity": 0.2
             }
            },
            "type": "histogram"
           }
          ],
          "histogram2d": [
           {
            "colorbar": {
             "outlinewidth": 0,
             "ticks": ""
            },
            "colorscale": [
             [
              0,
              "#0d0887"
             ],
             [
              0.1111111111111111,
              "#46039f"
             ],
             [
              0.2222222222222222,
              "#7201a8"
             ],
             [
              0.3333333333333333,
              "#9c179e"
             ],
             [
              0.4444444444444444,
              "#bd3786"
             ],
             [
              0.5555555555555556,
              "#d8576b"
             ],
             [
              0.6666666666666666,
              "#ed7953"
             ],
             [
              0.7777777777777778,
              "#fb9f3a"
             ],
             [
              0.8888888888888888,
              "#fdca26"
             ],
             [
              1,
              "#f0f921"
             ]
            ],
            "type": "histogram2d"
           }
          ],
          "histogram2dcontour": [
           {
            "colorbar": {
             "outlinewidth": 0,
             "ticks": ""
            },
            "colorscale": [
             [
              0,
              "#0d0887"
             ],
             [
              0.1111111111111111,
              "#46039f"
             ],
             [
              0.2222222222222222,
              "#7201a8"
             ],
             [
              0.3333333333333333,
              "#9c179e"
             ],
             [
              0.4444444444444444,
              "#bd3786"
             ],
             [
              0.5555555555555556,
              "#d8576b"
             ],
             [
              0.6666666666666666,
              "#ed7953"
             ],
             [
              0.7777777777777778,
              "#fb9f3a"
             ],
             [
              0.8888888888888888,
              "#fdca26"
             ],
             [
              1,
              "#f0f921"
             ]
            ],
            "type": "histogram2dcontour"
           }
          ],
          "mesh3d": [
           {
            "colorbar": {
             "outlinewidth": 0,
             "ticks": ""
            },
            "type": "mesh3d"
           }
          ],
          "parcoords": [
           {
            "line": {
             "colorbar": {
              "outlinewidth": 0,
              "ticks": ""
             }
            },
            "type": "parcoords"
           }
          ],
          "pie": [
           {
            "automargin": true,
            "type": "pie"
           }
          ],
          "scatter": [
           {
            "fillpattern": {
             "fillmode": "overlay",
             "size": 10,
             "solidity": 0.2
            },
            "type": "scatter"
           }
          ],
          "scatter3d": [
           {
            "line": {
             "colorbar": {
              "outlinewidth": 0,
              "ticks": ""
             }
            },
            "marker": {
             "colorbar": {
              "outlinewidth": 0,
              "ticks": ""
             }
            },
            "type": "scatter3d"
           }
          ],
          "scattercarpet": [
           {
            "marker": {
             "colorbar": {
              "outlinewidth": 0,
              "ticks": ""
             }
            },
            "type": "scattercarpet"
           }
          ],
          "scattergeo": [
           {
            "marker": {
             "colorbar": {
              "outlinewidth": 0,
              "ticks": ""
             }
            },
            "type": "scattergeo"
           }
          ],
          "scattergl": [
           {
            "marker": {
             "colorbar": {
              "outlinewidth": 0,
              "ticks": ""
             }
            },
            "type": "scattergl"
           }
          ],
          "scattermap": [
           {
            "marker": {
             "colorbar": {
              "outlinewidth": 0,
              "ticks": ""
             }
            },
            "type": "scattermap"
           }
          ],
          "scattermapbox": [
           {
            "marker": {
             "colorbar": {
              "outlinewidth": 0,
              "ticks": ""
             }
            },
            "type": "scattermapbox"
           }
          ],
          "scatterpolar": [
           {
            "marker": {
             "colorbar": {
              "outlinewidth": 0,
              "ticks": ""
             }
            },
            "type": "scatterpolar"
           }
          ],
          "scatterpolargl": [
           {
            "marker": {
             "colorbar": {
              "outlinewidth": 0,
              "ticks": ""
             }
            },
            "type": "scatterpolargl"
           }
          ],
          "scatterternary": [
           {
            "marker": {
             "colorbar": {
              "outlinewidth": 0,
              "ticks": ""
             }
            },
            "type": "scatterternary"
           }
          ],
          "surface": [
           {
            "colorbar": {
             "outlinewidth": 0,
             "ticks": ""
            },
            "colorscale": [
             [
              0,
              "#0d0887"
             ],
             [
              0.1111111111111111,
              "#46039f"
             ],
             [
              0.2222222222222222,
              "#7201a8"
             ],
             [
              0.3333333333333333,
              "#9c179e"
             ],
             [
              0.4444444444444444,
              "#bd3786"
             ],
             [
              0.5555555555555556,
              "#d8576b"
             ],
             [
              0.6666666666666666,
              "#ed7953"
             ],
             [
              0.7777777777777778,
              "#fb9f3a"
             ],
             [
              0.8888888888888888,
              "#fdca26"
             ],
             [
              1,
              "#f0f921"
             ]
            ],
            "type": "surface"
           }
          ],
          "table": [
           {
            "cells": {
             "fill": {
              "color": "#EBF0F8"
             },
             "line": {
              "color": "white"
             }
            },
            "header": {
             "fill": {
              "color": "#C8D4E3"
             },
             "line": {
              "color": "white"
             }
            },
            "type": "table"
           }
          ]
         },
         "layout": {
          "annotationdefaults": {
           "arrowcolor": "#2a3f5f",
           "arrowhead": 0,
           "arrowwidth": 1
          },
          "autotypenumbers": "strict",
          "coloraxis": {
           "colorbar": {
            "outlinewidth": 0,
            "ticks": ""
           }
          },
          "colorscale": {
           "diverging": [
            [
             0,
             "#8e0152"
            ],
            [
             0.1,
             "#c51b7d"
            ],
            [
             0.2,
             "#de77ae"
            ],
            [
             0.3,
             "#f1b6da"
            ],
            [
             0.4,
             "#fde0ef"
            ],
            [
             0.5,
             "#f7f7f7"
            ],
            [
             0.6,
             "#e6f5d0"
            ],
            [
             0.7,
             "#b8e186"
            ],
            [
             0.8,
             "#7fbc41"
            ],
            [
             0.9,
             "#4d9221"
            ],
            [
             1,
             "#276419"
            ]
           ],
           "sequential": [
            [
             0,
             "#0d0887"
            ],
            [
             0.1111111111111111,
             "#46039f"
            ],
            [
             0.2222222222222222,
             "#7201a8"
            ],
            [
             0.3333333333333333,
             "#9c179e"
            ],
            [
             0.4444444444444444,
             "#bd3786"
            ],
            [
             0.5555555555555556,
             "#d8576b"
            ],
            [
             0.6666666666666666,
             "#ed7953"
            ],
            [
             0.7777777777777778,
             "#fb9f3a"
            ],
            [
             0.8888888888888888,
             "#fdca26"
            ],
            [
             1,
             "#f0f921"
            ]
           ],
           "sequentialminus": [
            [
             0,
             "#0d0887"
            ],
            [
             0.1111111111111111,
             "#46039f"
            ],
            [
             0.2222222222222222,
             "#7201a8"
            ],
            [
             0.3333333333333333,
             "#9c179e"
            ],
            [
             0.4444444444444444,
             "#bd3786"
            ],
            [
             0.5555555555555556,
             "#d8576b"
            ],
            [
             0.6666666666666666,
             "#ed7953"
            ],
            [
             0.7777777777777778,
             "#fb9f3a"
            ],
            [
             0.8888888888888888,
             "#fdca26"
            ],
            [
             1,
             "#f0f921"
            ]
           ]
          },
          "colorway": [
           "#636efa",
           "#EF553B",
           "#00cc96",
           "#ab63fa",
           "#FFA15A",
           "#19d3f3",
           "#FF6692",
           "#B6E880",
           "#FF97FF",
           "#FECB52"
          ],
          "font": {
           "color": "#2a3f5f"
          },
          "geo": {
           "bgcolor": "white",
           "lakecolor": "white",
           "landcolor": "#E5ECF6",
           "showlakes": true,
           "showland": true,
           "subunitcolor": "white"
          },
          "hoverlabel": {
           "align": "left"
          },
          "hovermode": "closest",
          "mapbox": {
           "style": "light"
          },
          "paper_bgcolor": "white",
          "plot_bgcolor": "#E5ECF6",
          "polar": {
           "angularaxis": {
            "gridcolor": "white",
            "linecolor": "white",
            "ticks": ""
           },
           "bgcolor": "#E5ECF6",
           "radialaxis": {
            "gridcolor": "white",
            "linecolor": "white",
            "ticks": ""
           }
          },
          "scene": {
           "xaxis": {
            "backgroundcolor": "#E5ECF6",
            "gridcolor": "white",
            "gridwidth": 2,
            "linecolor": "white",
            "showbackground": true,
            "ticks": "",
            "zerolinecolor": "white"
           },
           "yaxis": {
            "backgroundcolor": "#E5ECF6",
            "gridcolor": "white",
            "gridwidth": 2,
            "linecolor": "white",
            "showbackground": true,
            "ticks": "",
            "zerolinecolor": "white"
           },
           "zaxis": {
            "backgroundcolor": "#E5ECF6",
            "gridcolor": "white",
            "gridwidth": 2,
            "linecolor": "white",
            "showbackground": true,
            "ticks": "",
            "zerolinecolor": "white"
           }
          },
          "shapedefaults": {
           "line": {
            "color": "#2a3f5f"
           }
          },
          "ternary": {
           "aaxis": {
            "gridcolor": "white",
            "linecolor": "white",
            "ticks": ""
           },
           "baxis": {
            "gridcolor": "white",
            "linecolor": "white",
            "ticks": ""
           },
           "bgcolor": "#E5ECF6",
           "caxis": {
            "gridcolor": "white",
            "linecolor": "white",
            "ticks": ""
           }
          },
          "title": {
           "x": 0.05
          },
          "xaxis": {
           "automargin": true,
           "gridcolor": "white",
           "linecolor": "white",
           "ticks": "",
           "title": {
            "standoff": 15
           },
           "zerolinecolor": "white",
           "zerolinewidth": 2
          },
          "yaxis": {
           "automargin": true,
           "gridcolor": "white",
           "linecolor": "white",
           "ticks": "",
           "title": {
            "standoff": 15
           },
           "zerolinecolor": "white",
           "zerolinewidth": 2
          }
         }
        },
        "title": {
         "text": "Filtered Temperature vs Humidity with Trend Line"
        },
        "xaxis": {
         "anchor": "y",
         "domain": [
          0,
          1
         ],
         "title": {
          "text": "Temperature"
         }
        },
        "yaxis": {
         "anchor": "x",
         "domain": [
          0,
          1
         ],
         "title": {
          "text": "Humidity"
         }
        }
       }
      }
     },
     "metadata": {},
     "output_type": "display_data"
    }
   ],
   "source": [
    "# Create scatter plot for filtered data\n",
    "fig = px.scatter(filtered_df, x='Temperature', y='Humidity', opacity=0.65, labels={'x': \"Temperature\", 'y': \"Humidity\"}, title=\"Filtered Temperature vs Humidity with Trend Line\")\n",
    "\n",
    "# Add new trend line\n",
    "fig.add_traces(go.Scatter(x=test_temps.flatten(), y=filtered_predicted_humidity, mode='lines', name='New Trend Line', line=dict(color='red')))\n",
    "\n",
    "# Show the interactive plot\n",
    "fig.show()"
   ]
  },
  {
   "cell_type": "code",
   "execution_count": 61,
   "metadata": {},
   "outputs": [
    {
     "data": {
      "application/vnd.plotly.v1+json": {
       "config": {
        "plotlyServerURL": "https://plot.ly"
       },
       "data": [
        {
         "hovertemplate": "Temperature=%{x}<br>Humidity=%{y}<extra></extra>",
         "legendgroup": "",
         "marker": {
          "color": "blue",
          "opacity": 0.3,
          "symbol": "circle"
         },
         "mode": "markers",
         "name": "",
         "orientation": "v",
         "showlegend": false,
         "type": "scatter",
         "x": {
          "bdata": "ZmZmZmbmNUAzMzMzM7M1QAAAAAAAgDVAZmZmZmZmNUDNzMzMzEw1QAAAAAAAgDVAzczMzMzMNUCamZmZmRk2QGZmZmZmZjZAMzMzMzOzNkAAAAAAAAA3QDMzMzMzMzdAzczMzMxMN0AAAAAAAIA3QAAAAAAAgDdAmpmZmZmZN0AzMzMzM7M3QM3MzMzMzDdAZmZmZmbmN0AAAAAAAAA4QJqZmZmZGThAmpmZmZkZOEAzMzMzMzM4QM3MzMzMTDhAZmZmZmZmOEBmZmZmZmY4QAAAAAAAgDhAZmZmZmZmOEBmZmZmZmY4QAAAAAAAgDhAZmZmZmZmOEDNzMzMzMw4QM3MzMzMzDhAzczMzMzMOEDNzMzMzMw4QDMzMzMzszhAzczMzMzMOEDNzMzMzMw4QJqZmZmZmThAAAAAAACAOEDNzMzMzMw4QDMzMzMzMzlAmpmZmZmZOUCamZmZmRk6QDMzMzMzszpAmpmZmZkZO0AAAAAAAIA7QGZmZmZm5jtAZmZmZmZmPEAzMzMzM7M8QGZmZmZm5jxAAAAAAAAAPUDNzMzMzEw9QGZmZmZmZj1AMzMzMzOzPUDNzMzMzMw9QAAAAAAAAD5AmpmZmZkZPkAzMzMzMzM+QDMzMzMzMz5AzczMzMxMPkDNzMzMzEw+QAAAAAAAgD5AmpmZmZmZPkCamZmZmZk+QJqZmZmZmT5AMzMzMzOzPkAzMzMzM7M+QM3MzMzMzD5AzczMzMzMPkDNzMzMzMw+QM3MzMzMzD5AAAAAAAAAP0CamZmZmRk/QM3MzMzMTD9AZmZmZmZmP0AAAAAAAIA/QJqZmZmZmT9AMzMzMzOzP0AzMzMzM7M/QJqZmZmZmT9AmpmZmZmZP0BmZmZmZmY/QDMzMzMzMz9AmpmZmZkZP0AAAAAAAAA/QGZmZmZm5j5AzczMzMzMPkAzMzMzM7M+QJqZmZmZmT5AmpmZmZmZPkAzMzMzM7M+QJqZmZmZmT5AzczMzMxMPkDNzMzMzMw9QM3MzMzMTD1AZmZmZmbmPEAAAAAAAIA8QDMzMzMzMzxAZmZmZmbmO0AAAAAAAIA7QDMzMzMzMztAAAAAAAAAO0DNzMzMzMw6QAAAAAAAgDpAzczMzMxMOkAzMzMzMzM6QJqZmZmZGTpAAAAAAAAAOkBmZmZmZuY5QGZmZmZm5jlAzczMzMzMOUAzMzMzM7M5QDMzMzMzszlAmpmZmZmZOUAAAAAAAIA5QAAAAAAAgDlAZmZmZmZmOUDNzMzMzEw5QM3MzMzMTDlAMzMzMzMzOUAzMzMzMzM5QDMzMzMzMzlAMzMzMzMzOUCamZmZmRk5QJqZmZmZGTlAmpmZmZkZOUAAAAAAAAA5QAAAAAAAADlAAAAAAAAAOUBmZmZmZuY4QGZmZmZm5jhAZmZmZmbmOEBmZmZmZuY4QGZmZmZm5jhAZmZmZmbmOEBmZmZmZuY4QGZmZmZm5jhAAAAAAAAAOUDNzMzMzMw4QAAAAAAAgDhAmpmZmZkZOECamZmZmZk3QJqZmZmZGTdAMzMzMzOzNkDNzMzMzEw2QAAAAAAAADZAmpmZmZmZNUBmZmZmZmY1QJqZmZmZGTVAZmZmZmbmNEAzMzMzM7M0QAAAAAAAgDRAzczMzMxMNECamZmZmRk0QAAAAAAAADRAZmZmZmbmM0DNzMzMzMwzQDMzMzMzszNAmpmZmZmZM0AAAAAAAIAzQGZmZmZmZjNAZmZmZmZmM0DNzMzMzEwzQM3MzMzMTDNAMzMzMzMzM0A=",
          "dtype": "f8"
         },
         "xaxis": "x",
         "y": {
          "bdata": "zczMzMxMUUAzMzMzM1NRQM3MzMzMLFFAmpmZmZnZUEAzMzMzMxNRQDMzMzMzE1FAzczMzMzsUECamZmZmZlQQGZmZmZmZlBAAAAAAAAgUEAzMzMzMxNQQGZmZmZmZk9AZmZmZmZmT0DNzMzMzExPQAAAAAAAwE5AmpmZmZmZTkCamZmZmRlOQGZmZmZm5k1AMzMzMzPzTUBmZmZmZiZOQJqZmZmZ2U1AMzMzMzOzTUAAAAAAAIBNQM3MzMzMTE1AAAAAAABATUDNzMzMzMxMQAAAAAAAwExAzczMzMzMTEAzMzMzM3NNQGZmZmZm5kxAmpmZmZmZTEDNzMzMzMxLQDMzMzMzc0tAAAAAAACAS0DNzMzMzMxLQGZmZmZmpktAAAAAAACAS0AAAAAAAIBLQAAAAAAAQEtAZmZmZmYmTEBmZmZmZuZLQJqZmZmZWUtAAAAAAABAS0CamZmZmdlKQDMzMzMzc0pAzczMzMwMSkCamZmZmVlJQDMzMzMzs0hAZmZmZmbmR0BmZmZmZqZHQAAAAAAAQEdAAAAAAACAR0AAAAAAAABHQDMzMzMz80ZAMzMzMzOzRkAzMzMzM3NGQGZmZmZmJkZAMzMzMzMzRkCamZmZmRlGQM3MzMzMDEZAMzMzMzPzRUDNzMzMzMxFQDMzMzMzc0VAAAAAAACARUAAAAAAAIBFQJqZmZmZWUVAAAAAAABARUBmZmZmZmZFQGZmZmZmJkVAzczMzMxMRUAAAAAAAEBFQGZmZmZmJkVAmpmZmZmZRUAzMzMzM/NEQJqZmZmZ2URAzczMzMzMREAAAAAAAMBEQJqZmZmZGUVAMzMzMzNzREDNzMzMzIxEQGZmZmZmZkRAZmZmZmZmREBmZmZmZmZEQDMzMzMzs0RAzczMzMyMREBmZmZmZqZEQAAAAAAAwERAmpmZmZnZRECamZmZmdlEQAAAAAAAAEVAmpmZmZkZRUAzMzMzMzNFQJqZmZmZGUVAAAAAAAAARUDNzMzMzExFQM3MzMzMzEVAzczMzMwMRkAzMzMzM3NGQGZmZmZm5kZAmpmZmZkZR0AzMzMzM3NHQAAAAAAAAEhAZmZmZmbmR0BmZmZmZmZIQM3MzMzMjEhAZmZmZmbmSEDNzMzMzAxJQDMzMzMzM0lAAAAAAACASUDNzMzMzIxJQDMzMzMzs0lAmpmZmZnZSUAzMzMzM7NJQGZmZmZm5klAMzMzMzPzSUAzMzMzM/NJQAAAAAAAAEpAmpmZmZlZSkAzMzMzM3NKQM3MzMzMTEpAZmZmZmZmSkAzMzMzM3NKQGZmZmZmpkpAZmZmZmamSkCamZmZmZlKQJqZmZmZmUpAMzMzMzOzSkAAAAAAAMBKQM3MzMzMzEpAMzMzMzPzSkCamZmZmdlKQJqZmZmZ2UpAZmZmZmbmSkAAAAAAAABLQDMzMzMz80pAAAAAAAAAS0BmZmZmZuZKQDMzMzMz80pAzczMzMwMS0CamZmZmRlLQM3MzMzMTEtAzczMzMyMS0AzMzMzMzNMQJqZmZmZmUxAMzMzMzMzTUBmZmZmZqZNQAAAAAAAQE5AmpmZmZnZTkAzMzMzMzNPQJqZmZmZmU9AMzMzMzMTUEAzMzMzMzNQQGZmZmZmRlBAMzMzMzOTUECamZmZmblQQJqZmZmZ2VBAAAAAAADgUEDNzMzMzAxRQGZmZmZmJlFAMzMzMzMzUUAzMzMzM3NRQDMzMzMzU1FAmpmZmZl5UUCamZmZmXlRQDMzMzMzk1FAMzMzMzOTUUA=",
          "dtype": "f8"
         },
         "yaxis": "y"
        },
        {
         "line": {
          "color": "red",
          "dash": "dash"
         },
         "mode": "lines",
         "name": "Original Trend Line",
         "type": "scatter",
         "x": {
          "bdata": "MzMzMzMzM0B+tI3yhVMzQMk16LHYczNAFLdCcSuUM0BfOJ0wfrQzQKq59+/Q1DNA9TpSryP1M0BAvKxudhU0QIs9By7JNTRA1r5h7RtWNEAhQLysbnY0QGzBFmzBljRAt0JxKxS3NEACxMvqZtc0QE1FJqq59zRAmMaAaQwYNUDjR9soXzg1QC7JNeixWDVAeUqQpwR5NUDEy+pmV5k1QA9NRSaquTVAWs6f5fzZNUClT/qkT/o1QPDQVGSiGjZAO1KvI/U6NkCG0wnjR1s2QNFUZKKaezZAHNa+Ye2bNkBnVxkhQLw2QLLYc+CS3DZA/VnOn+X8NkBI2yhfOB03QJNcgx6LPTdA3t3d3d1dN0ApXzidMH43QHTgklyDnjdAv2HtG9a+N0AK40fbKN83QFVkopp7/zdAoOX8Wc4fOEDrZlcZIUA4QDbosdhzYDhAgWkMmMaAOEDM6mZXGaE4QBdswRZswThAYu0b1r7hOECtbnaVEQI5QPjv0FRkIjlAQnErFLdCOUCO8oXTCWM5QNhz4JJcgzlAJPU6Uq+jOUBudpURAsQ5QLr379BU5DlABHlKkKcEOkBQ+qRP+iQ6QJp7/w5NRTpA5vxZzp9lOkAwfrSN8oU6QHz/Dk1FpjpAxoBpDJjGOkASAsTL6uY6QFyDHos9BztAqAR5SpAnO0DyhdMJ40c7QD4HLsk1aDtAiIiIiIiIO0DUCeNH26g7QB6LPQcuyTtAagyYxoDpO0C0jfKF0wk8QAAPTUUmKjxASpCnBHlKPECWEQLEy2o8QOCSXIMeizxALBS3QnGrPEB2lRECxMs8QMIWbMEW7DxADJjGgGkMPUBYGSFAvCw9QKKae/8OTT1A7hvWvmFtPUA4nTB+tI09QIQeiz0Hrj1Azp/l/FnOPUAaIUC8rO49QGSimnv/Dj5AsCP1OlIvPkD6pE/6pE8+QEYmqrn3bz5AkKcEeUqQPkDcKF84nbA+QCaquffv0D5AcisUt0LxPkC8rG52lRE/QAguyTXoMT9AUq8j9TpSP0CdMH60jXI/QOix2HPgkj9AMzMzMzOzP0A=",
          "dtype": "f8"
         },
         "y": {
          "bdata": "kNqPBJBfUUBwgmOiG0xRQFAqN0CnOFFAMdIK3jIlUUARet57vhFRQPIhshlK/lBA0smFt9XqUECycVlVYddQQJIZLfPsw1BAcsEAkXiwUEBTadQuBJ1QQDMRqMyPiVBAFLl7aht2UED0YE8Ip2JQQNQII6YyT1BAtLD2Q747UECUWMrhSShQQHUAnn/VFFBAVahxHWEBUEBroIp22dtPQCzwMbLwtE9A7D/Z7QeOT0Ctj4ApH2dPQG3fJ2U2QE9ALi/PoE0ZT0DvfnbcZPJOQK/OHRh8y05AcB7FU5OkTkAwbmyPqn1OQPG9E8vBVk5Asg27BtkvTkByXWJC8AhOQDOtCX4H4k1A8/ywuR67TUC0TFj1NZRNQHWc/zBNbU1ANeymbGRGTUD2O06oex9NQLaL9eOS+ExAd9ucH6rRTEA3K0RbwapMQPh665bYg0xAucqS0u9cTEB5GjoOBzZMQDpq4UkeD0xA+rmIhTXoS0C7CTDBTMFLQHxZ1/xjmktAPal+OHtzS0D9+CV0kkxLQL9Iza+pJUtAfph068D+SkBA6Bsn2NdKQP83w2LvsEpAwYdqngaKSkCA1xHaHWNKQEInuRU1PEpAAndgUUwVSkDDxgeNY+5JQIIWr8h6x0lARGZWBJKgSUAEtv0/qXlJQMYFpXvAUklAhlVMt9crSUBGpfPy7gRJQAb1mi4G3khAyERCah23SECIlOmlNJBIQErkkOFLaUhACDQ4HWNCSEDKg99YehtIQIrThpSR9EdATCMu0KjNR0AMc9ULwKZHQMzCfEfXf0dAjBIkg+5YR0BOYsu+BTJHQA6ycvocC0dA0AEaNjTkRkCOUcFxS71GQFChaK1ilkZAEPEP6XlvRkDSQLckkUhGQJCQXmCoIUZAUuAFnL/6RUASMK3X1tNFQNR/VBPurEVAlM/7TgWGRUBWH6OKHF9FQBRvSsYzOEVA1r7xAUsRRUCWDpk9YupEQFheQHl5w0RAFq7ntJCcREDY/Y7wp3VEQJhNNiy/TkRAWp3dZ9YnREAa7YSj7QBEQNo8LN8E2kNAnIzTGhyzQ0A=",
          "dtype": "f8"
         }
        },
        {
         "marker": {
          "color": "green",
          "opacity": 0.5
         },
         "mode": "markers",
         "name": "Filtered Data",
         "type": "scatter",
         "x": {
          "bdata": "ZmZmZmbmNUAzMzMzM7M1QAAAAAAAgDVAZmZmZmZmNUDNzMzMzEw1QAAAAAAAgDVAzczMzMzMNUCamZmZmRk2QGZmZmZmZjZAMzMzMzOzNkAAAAAAAAA3QDMzMzMzMzdAzczMzMxMN0AAAAAAAIA3QAAAAAAAgDdAmpmZmZmZN0AzMzMzM7M3QM3MzMzMzDdAZmZmZmbmN0AAAAAAAAA4QJqZmZmZGThAmpmZmZkZOEAzMzMzMzM4QM3MzMzMTDhAZmZmZmZmOEBmZmZmZmY4QAAAAAAAgDhAZmZmZmZmOEBmZmZmZmY4QAAAAAAAgDhAZmZmZmZmOEDNzMzMzMw4QM3MzMzMzDhAzczMzMzMOEDNzMzMzMw4QDMzMzMzszhAzczMzMzMOEDNzMzMzMw4QJqZmZmZmThAAAAAAACAOEDNzMzMzMw4QDMzMzMzMzlAmpmZmZmZOUCamZmZmRk6QDMzMzMzszpAmpmZmZkZO0AAAAAAAIA7QGZmZmZm5jtAZmZmZmZmPEAzMzMzM7M8QGZmZmZm5jxAAAAAAAAAPUDNzMzMzEw9QGZmZmZmZj1AMzMzMzOzPUDNzMzMzMw9QAAAAAAAAD5AmpmZmZkZPkAzMzMzMzM+QDMzMzMzMz5AzczMzMxMPkDNzMzMzEw+QAAAAAAAgD5AmpmZmZmZPkCamZmZmZk+QJqZmZmZmT5AMzMzMzOzPkAzMzMzM7M+QM3MzMzMzD5AzczMzMzMPkDNzMzMzMw+QM3MzMzMzD5AzczMzMzMPkAzMzMzM7M+QJqZmZmZmT5AmpmZmZmZPkAzMzMzM7M+QJqZmZmZmT5AzczMzMxMPkDNzMzMzMw9QM3MzMzMTD1AZmZmZmbmPEAAAAAAAIA8QDMzMzMzMzxAZmZmZmbmO0AAAAAAAIA7QDMzMzMzMztAAAAAAAAAO0DNzMzMzMw6QAAAAAAAgDpAzczMzMxMOkAzMzMzMzM6QJqZmZmZGTpAAAAAAAAAOkBmZmZmZuY5QGZmZmZm5jlAzczMzMzMOUAzMzMzM7M5QDMzMzMzszlAmpmZmZmZOUAAAAAAAIA5QAAAAAAAgDlAZmZmZmZmOUDNzMzMzEw5QM3MzMzMTDlAMzMzMzMzOUAzMzMzMzM5QDMzMzMzMzlAMzMzMzMzOUCamZmZmRk5QJqZmZmZGTlAmpmZmZkZOUAAAAAAAAA5QAAAAAAAADlAAAAAAAAAOUBmZmZmZuY4QGZmZmZm5jhAZmZmZmbmOEBmZmZmZuY4QGZmZmZm5jhAZmZmZmbmOEBmZmZmZuY4QGZmZmZm5jhAAAAAAAAAOUDNzMzMzMw4QAAAAAAAgDhAmpmZmZkZOECamZmZmZk3QJqZmZmZGTdAMzMzMzOzNkDNzMzMzEw2QAAAAAAAADZAmpmZmZmZNUBmZmZmZmY1QA==",
          "dtype": "f8"
         },
         "y": {
          "bdata": "zczMzMxMUUAzMzMzM1NRQM3MzMzMLFFAmpmZmZnZUEAzMzMzMxNRQDMzMzMzE1FAzczMzMzsUECamZmZmZlQQGZmZmZmZlBAAAAAAAAgUEAzMzMzMxNQQGZmZmZmZk9AZmZmZmZmT0DNzMzMzExPQAAAAAAAwE5AmpmZmZmZTkCamZmZmRlOQGZmZmZm5k1AMzMzMzPzTUBmZmZmZiZOQJqZmZmZ2U1AMzMzMzOzTUAAAAAAAIBNQM3MzMzMTE1AAAAAAABATUDNzMzMzMxMQAAAAAAAwExAzczMzMzMTEAzMzMzM3NNQGZmZmZm5kxAmpmZmZmZTEDNzMzMzMxLQDMzMzMzc0tAAAAAAACAS0DNzMzMzMxLQGZmZmZmpktAAAAAAACAS0AAAAAAAIBLQAAAAAAAQEtAZmZmZmYmTEBmZmZmZuZLQJqZmZmZWUtAAAAAAABAS0CamZmZmdlKQDMzMzMzc0pAzczMzMwMSkCamZmZmVlJQDMzMzMzs0hAZmZmZmbmR0BmZmZmZqZHQAAAAAAAQEdAAAAAAACAR0AAAAAAAABHQDMzMzMz80ZAMzMzMzOzRkAzMzMzM3NGQGZmZmZmJkZAMzMzMzMzRkCamZmZmRlGQM3MzMzMDEZAMzMzMzPzRUDNzMzMzMxFQDMzMzMzc0VAAAAAAACARUAAAAAAAIBFQJqZmZmZWUVAAAAAAABARUBmZmZmZmZFQGZmZmZmJkVAzczMzMxMRUAAAAAAAEBFQGZmZmZmJkVAmpmZmZnZRECamZmZmdlEQAAAAAAAAEVAmpmZmZkZRUAzMzMzMzNFQJqZmZmZGUVAAAAAAAAARUDNzMzMzExFQM3MzMzMzEVAzczMzMwMRkAzMzMzM3NGQGZmZmZm5kZAmpmZmZkZR0AzMzMzM3NHQAAAAAAAAEhAZmZmZmbmR0BmZmZmZmZIQM3MzMzMjEhAZmZmZmbmSEDNzMzMzAxJQDMzMzMzM0lAAAAAAACASUDNzMzMzIxJQDMzMzMzs0lAmpmZmZnZSUAzMzMzM7NJQGZmZmZm5klAMzMzMzPzSUAzMzMzM/NJQAAAAAAAAEpAmpmZmZlZSkAzMzMzM3NKQM3MzMzMTEpAZmZmZmZmSkAzMzMzM3NKQGZmZmZmpkpAZmZmZmamSkCamZmZmZlKQJqZmZmZmUpAMzMzMzOzSkAAAAAAAMBKQM3MzMzMzEpAMzMzMzPzSkCamZmZmdlKQJqZmZmZ2UpAZmZmZmbmSkAAAAAAAABLQDMzMzMz80pAAAAAAAAAS0BmZmZmZuZKQDMzMzMz80pAzczMzMwMS0CamZmZmRlLQM3MzMzMTEtAzczMzMyMS0AzMzMzMzNMQJqZmZmZmUxAMzMzMzMzTUBmZmZmZqZNQAAAAAAAQE5AmpmZmZnZTkAzMzMzMzNPQA==",
          "dtype": "f8"
         }
        },
        {
         "line": {
          "color": "black"
         },
         "mode": "lines",
         "name": "Filtered Trend Line",
         "type": "scatter",
         "x": {
          "bdata": "MzMzMzMzM0B+tI3yhVMzQMk16LHYczNAFLdCcSuUM0BfOJ0wfrQzQKq59+/Q1DNA9TpSryP1M0BAvKxudhU0QIs9By7JNTRA1r5h7RtWNEAhQLysbnY0QGzBFmzBljRAt0JxKxS3NEACxMvqZtc0QE1FJqq59zRAmMaAaQwYNUDjR9soXzg1QC7JNeixWDVAeUqQpwR5NUDEy+pmV5k1QA9NRSaquTVAWs6f5fzZNUClT/qkT/o1QPDQVGSiGjZAO1KvI/U6NkCG0wnjR1s2QNFUZKKaezZAHNa+Ye2bNkBnVxkhQLw2QLLYc+CS3DZA/VnOn+X8NkBI2yhfOB03QJNcgx6LPTdA3t3d3d1dN0ApXzidMH43QHTgklyDnjdAv2HtG9a+N0AK40fbKN83QFVkopp7/zdAoOX8Wc4fOEDrZlcZIUA4QDbosdhzYDhAgWkMmMaAOEDM6mZXGaE4QBdswRZswThAYu0b1r7hOECtbnaVEQI5QPjv0FRkIjlAQnErFLdCOUCO8oXTCWM5QNhz4JJcgzlAJPU6Uq+jOUBudpURAsQ5QLr379BU5DlABHlKkKcEOkBQ+qRP+iQ6QJp7/w5NRTpA5vxZzp9lOkAwfrSN8oU6QHz/Dk1FpjpAxoBpDJjGOkASAsTL6uY6QFyDHos9BztAqAR5SpAnO0DyhdMJ40c7QD4HLsk1aDtAiIiIiIiIO0DUCeNH26g7QB6LPQcuyTtAagyYxoDpO0C0jfKF0wk8QAAPTUUmKjxASpCnBHlKPECWEQLEy2o8QOCSXIMeizxALBS3QnGrPEB2lRECxMs8QMIWbMEW7DxADJjGgGkMPUBYGSFAvCw9QKKae/8OTT1A7hvWvmFtPUA4nTB+tI09QIQeiz0Hrj1Azp/l/FnOPUAaIUC8rO49QGSimnv/Dj5AsCP1OlIvPkD6pE/6pE8+QEYmqrn3bz5AkKcEeUqQPkDcKF84nbA+QCaquffv0D5AcisUt0LxPkC8rG52lRE/QAguyTXoMT9AUq8j9TpSP0CdMH60jXI/QOix2HPgkj9AMzMzMzOzP0A=",
          "dtype": "f8"
         },
         "y": {
          "bdata": "zkP09EqAUUBv0KprFmxRQBBdYeLhV1FAsOkXWa1DUUBRds7PeC9RQPIChUZEG1FAko87vQ8HUUAzHPIz2/JQQNSoqKqm3lBAdDVfIXLKUEAWwhWYPbZQQLZOzA4JolBAVtuChdSNUED4Zzn8n3lQQJj073JrZVBAOYGm6TZRUEDaDV1gAj1QQHqaE9fNKFBAGyfKTZkUUEC8s4DEZABQQLmAbnZg2E9A+pnbY/evT0A8s0hRjodPQH3MtT4lX09Av+UiLLw2T0AA/48ZUw5PQEEY/Qbq5U5AgzFq9IC9TkDEStfhF5VOQAZkRM+ubE5AR32xvEVETkCJlh6q3BtOQMqvi5dz801AC8n4hArLTUBN4mVyoaJNQI770l84ek1A0BRATc9RTUARLq06ZilNQFNHGij9AE1AlGCHFZTYTEDVefQCK7BMQBeTYfDBh0xAWKzO3VhfTECaxTvL7zZMQNveqLiGDkxAHfgVph3mS0BeEYOTtL1LQKAq8IBLlUtA4kNdbuJsS0AiXcpbeURLQGV2N0kQHEtApo+kNqfzSkDoqBEkPstKQCjCfhHVokpAatvr/mt6SkCq9FjsAlJKQO4NxtmZKUpALiczxzABSkBwQKC0x9hJQLBZDaJesElA9HJ6j/WHSUA0jOd8jF9JQHalVGojN0lAtr7BV7oOSUD61y5FUeZIQDrxmzLovUhAfAoJIH+VSEC8I3YNFm1IQP484/qsREhAPlZQ6EMcSECCb73V2vNHQMKIKsNxy0dABKKXsAijR0BEuwSen3pHQIjUcYs2UkdAyO3eeM0pR0AKB0xmZAFHQEoguVP72EZAjjkmQZKwRkDOUpMuKYhGQBBsABzAX0ZAUIVtCVc3RkCSntr27Q5GQNS3R+SE5kVAFtG00Ru+RUBW6iG/spVFQJgDj6xJbUVA2Bz8meBERUAcNmmHdxxFQFxP1nQO9ERAnmhDYqXLREDegbBPPKNEQCKbHT3TekRAYrSKKmpSRECkzfcXASpEQOTmZAWYAURAJgDS8i7ZQ0BoGT/gxbBDQKoyrM1ciENA7EsZu/NfQ0A=",
          "dtype": "f8"
         }
        }
       ],
       "layout": {
        "legend": {
         "tracegroupgap": 0
        },
        "template": {
         "data": {
          "bar": [
           {
            "error_x": {
             "color": "#2a3f5f"
            },
            "error_y": {
             "color": "#2a3f5f"
            },
            "marker": {
             "line": {
              "color": "#E5ECF6",
              "width": 0.5
             },
             "pattern": {
              "fillmode": "overlay",
              "size": 10,
              "solidity": 0.2
             }
            },
            "type": "bar"
           }
          ],
          "barpolar": [
           {
            "marker": {
             "line": {
              "color": "#E5ECF6",
              "width": 0.5
             },
             "pattern": {
              "fillmode": "overlay",
              "size": 10,
              "solidity": 0.2
             }
            },
            "type": "barpolar"
           }
          ],
          "carpet": [
           {
            "aaxis": {
             "endlinecolor": "#2a3f5f",
             "gridcolor": "white",
             "linecolor": "white",
             "minorgridcolor": "white",
             "startlinecolor": "#2a3f5f"
            },
            "baxis": {
             "endlinecolor": "#2a3f5f",
             "gridcolor": "white",
             "linecolor": "white",
             "minorgridcolor": "white",
             "startlinecolor": "#2a3f5f"
            },
            "type": "carpet"
           }
          ],
          "choropleth": [
           {
            "colorbar": {
             "outlinewidth": 0,
             "ticks": ""
            },
            "type": "choropleth"
           }
          ],
          "contour": [
           {
            "colorbar": {
             "outlinewidth": 0,
             "ticks": ""
            },
            "colorscale": [
             [
              0,
              "#0d0887"
             ],
             [
              0.1111111111111111,
              "#46039f"
             ],
             [
              0.2222222222222222,
              "#7201a8"
             ],
             [
              0.3333333333333333,
              "#9c179e"
             ],
             [
              0.4444444444444444,
              "#bd3786"
             ],
             [
              0.5555555555555556,
              "#d8576b"
             ],
             [
              0.6666666666666666,
              "#ed7953"
             ],
             [
              0.7777777777777778,
              "#fb9f3a"
             ],
             [
              0.8888888888888888,
              "#fdca26"
             ],
             [
              1,
              "#f0f921"
             ]
            ],
            "type": "contour"
           }
          ],
          "contourcarpet": [
           {
            "colorbar": {
             "outlinewidth": 0,
             "ticks": ""
            },
            "type": "contourcarpet"
           }
          ],
          "heatmap": [
           {
            "colorbar": {
             "outlinewidth": 0,
             "ticks": ""
            },
            "colorscale": [
             [
              0,
              "#0d0887"
             ],
             [
              0.1111111111111111,
              "#46039f"
             ],
             [
              0.2222222222222222,
              "#7201a8"
             ],
             [
              0.3333333333333333,
              "#9c179e"
             ],
             [
              0.4444444444444444,
              "#bd3786"
             ],
             [
              0.5555555555555556,
              "#d8576b"
             ],
             [
              0.6666666666666666,
              "#ed7953"
             ],
             [
              0.7777777777777778,
              "#fb9f3a"
             ],
             [
              0.8888888888888888,
              "#fdca26"
             ],
             [
              1,
              "#f0f921"
             ]
            ],
            "type": "heatmap"
           }
          ],
          "histogram": [
           {
            "marker": {
             "pattern": {
              "fillmode": "overlay",
              "size": 10,
              "solidity": 0.2
             }
            },
            "type": "histogram"
           }
          ],
          "histogram2d": [
           {
            "colorbar": {
             "outlinewidth": 0,
             "ticks": ""
            },
            "colorscale": [
             [
              0,
              "#0d0887"
             ],
             [
              0.1111111111111111,
              "#46039f"
             ],
             [
              0.2222222222222222,
              "#7201a8"
             ],
             [
              0.3333333333333333,
              "#9c179e"
             ],
             [
              0.4444444444444444,
              "#bd3786"
             ],
             [
              0.5555555555555556,
              "#d8576b"
             ],
             [
              0.6666666666666666,
              "#ed7953"
             ],
             [
              0.7777777777777778,
              "#fb9f3a"
             ],
             [
              0.8888888888888888,
              "#fdca26"
             ],
             [
              1,
              "#f0f921"
             ]
            ],
            "type": "histogram2d"
           }
          ],
          "histogram2dcontour": [
           {
            "colorbar": {
             "outlinewidth": 0,
             "ticks": ""
            },
            "colorscale": [
             [
              0,
              "#0d0887"
             ],
             [
              0.1111111111111111,
              "#46039f"
             ],
             [
              0.2222222222222222,
              "#7201a8"
             ],
             [
              0.3333333333333333,
              "#9c179e"
             ],
             [
              0.4444444444444444,
              "#bd3786"
             ],
             [
              0.5555555555555556,
              "#d8576b"
             ],
             [
              0.6666666666666666,
              "#ed7953"
             ],
             [
              0.7777777777777778,
              "#fb9f3a"
             ],
             [
              0.8888888888888888,
              "#fdca26"
             ],
             [
              1,
              "#f0f921"
             ]
            ],
            "type": "histogram2dcontour"
           }
          ],
          "mesh3d": [
           {
            "colorbar": {
             "outlinewidth": 0,
             "ticks": ""
            },
            "type": "mesh3d"
           }
          ],
          "parcoords": [
           {
            "line": {
             "colorbar": {
              "outlinewidth": 0,
              "ticks": ""
             }
            },
            "type": "parcoords"
           }
          ],
          "pie": [
           {
            "automargin": true,
            "type": "pie"
           }
          ],
          "scatter": [
           {
            "fillpattern": {
             "fillmode": "overlay",
             "size": 10,
             "solidity": 0.2
            },
            "type": "scatter"
           }
          ],
          "scatter3d": [
           {
            "line": {
             "colorbar": {
              "outlinewidth": 0,
              "ticks": ""
             }
            },
            "marker": {
             "colorbar": {
              "outlinewidth": 0,
              "ticks": ""
             }
            },
            "type": "scatter3d"
           }
          ],
          "scattercarpet": [
           {
            "marker": {
             "colorbar": {
              "outlinewidth": 0,
              "ticks": ""
             }
            },
            "type": "scattercarpet"
           }
          ],
          "scattergeo": [
           {
            "marker": {
             "colorbar": {
              "outlinewidth": 0,
              "ticks": ""
             }
            },
            "type": "scattergeo"
           }
          ],
          "scattergl": [
           {
            "marker": {
             "colorbar": {
              "outlinewidth": 0,
              "ticks": ""
             }
            },
            "type": "scattergl"
           }
          ],
          "scattermap": [
           {
            "marker": {
             "colorbar": {
              "outlinewidth": 0,
              "ticks": ""
             }
            },
            "type": "scattermap"
           }
          ],
          "scattermapbox": [
           {
            "marker": {
             "colorbar": {
              "outlinewidth": 0,
              "ticks": ""
             }
            },
            "type": "scattermapbox"
           }
          ],
          "scatterpolar": [
           {
            "marker": {
             "colorbar": {
              "outlinewidth": 0,
              "ticks": ""
             }
            },
            "type": "scatterpolar"
           }
          ],
          "scatterpolargl": [
           {
            "marker": {
             "colorbar": {
              "outlinewidth": 0,
              "ticks": ""
             }
            },
            "type": "scatterpolargl"
           }
          ],
          "scatterternary": [
           {
            "marker": {
             "colorbar": {
              "outlinewidth": 0,
              "ticks": ""
             }
            },
            "type": "scatterternary"
           }
          ],
          "surface": [
           {
            "colorbar": {
             "outlinewidth": 0,
             "ticks": ""
            },
            "colorscale": [
             [
              0,
              "#0d0887"
             ],
             [
              0.1111111111111111,
              "#46039f"
             ],
             [
              0.2222222222222222,
              "#7201a8"
             ],
             [
              0.3333333333333333,
              "#9c179e"
             ],
             [
              0.4444444444444444,
              "#bd3786"
             ],
             [
              0.5555555555555556,
              "#d8576b"
             ],
             [
              0.6666666666666666,
              "#ed7953"
             ],
             [
              0.7777777777777778,
              "#fb9f3a"
             ],
             [
              0.8888888888888888,
              "#fdca26"
             ],
             [
              1,
              "#f0f921"
             ]
            ],
            "type": "surface"
           }
          ],
          "table": [
           {
            "cells": {
             "fill": {
              "color": "#EBF0F8"
             },
             "line": {
              "color": "white"
             }
            },
            "header": {
             "fill": {
              "color": "#C8D4E3"
             },
             "line": {
              "color": "white"
             }
            },
            "type": "table"
           }
          ]
         },
         "layout": {
          "annotationdefaults": {
           "arrowcolor": "#2a3f5f",
           "arrowhead": 0,
           "arrowwidth": 1
          },
          "autotypenumbers": "strict",
          "coloraxis": {
           "colorbar": {
            "outlinewidth": 0,
            "ticks": ""
           }
          },
          "colorscale": {
           "diverging": [
            [
             0,
             "#8e0152"
            ],
            [
             0.1,
             "#c51b7d"
            ],
            [
             0.2,
             "#de77ae"
            ],
            [
             0.3,
             "#f1b6da"
            ],
            [
             0.4,
             "#fde0ef"
            ],
            [
             0.5,
             "#f7f7f7"
            ],
            [
             0.6,
             "#e6f5d0"
            ],
            [
             0.7,
             "#b8e186"
            ],
            [
             0.8,
             "#7fbc41"
            ],
            [
             0.9,
             "#4d9221"
            ],
            [
             1,
             "#276419"
            ]
           ],
           "sequential": [
            [
             0,
             "#0d0887"
            ],
            [
             0.1111111111111111,
             "#46039f"
            ],
            [
             0.2222222222222222,
             "#7201a8"
            ],
            [
             0.3333333333333333,
             "#9c179e"
            ],
            [
             0.4444444444444444,
             "#bd3786"
            ],
            [
             0.5555555555555556,
             "#d8576b"
            ],
            [
             0.6666666666666666,
             "#ed7953"
            ],
            [
             0.7777777777777778,
             "#fb9f3a"
            ],
            [
             0.8888888888888888,
             "#fdca26"
            ],
            [
             1,
             "#f0f921"
            ]
           ],
           "sequentialminus": [
            [
             0,
             "#0d0887"
            ],
            [
             0.1111111111111111,
             "#46039f"
            ],
            [
             0.2222222222222222,
             "#7201a8"
            ],
            [
             0.3333333333333333,
             "#9c179e"
            ],
            [
             0.4444444444444444,
             "#bd3786"
            ],
            [
             0.5555555555555556,
             "#d8576b"
            ],
            [
             0.6666666666666666,
             "#ed7953"
            ],
            [
             0.7777777777777778,
             "#fb9f3a"
            ],
            [
             0.8888888888888888,
             "#fdca26"
            ],
            [
             1,
             "#f0f921"
            ]
           ]
          },
          "colorway": [
           "#636efa",
           "#EF553B",
           "#00cc96",
           "#ab63fa",
           "#FFA15A",
           "#19d3f3",
           "#FF6692",
           "#B6E880",
           "#FF97FF",
           "#FECB52"
          ],
          "font": {
           "color": "#2a3f5f"
          },
          "geo": {
           "bgcolor": "white",
           "lakecolor": "white",
           "landcolor": "#E5ECF6",
           "showlakes": true,
           "showland": true,
           "subunitcolor": "white"
          },
          "hoverlabel": {
           "align": "left"
          },
          "hovermode": "closest",
          "mapbox": {
           "style": "light"
          },
          "paper_bgcolor": "white",
          "plot_bgcolor": "#E5ECF6",
          "polar": {
           "angularaxis": {
            "gridcolor": "white",
            "linecolor": "white",
            "ticks": ""
           },
           "bgcolor": "#E5ECF6",
           "radialaxis": {
            "gridcolor": "white",
            "linecolor": "white",
            "ticks": ""
           }
          },
          "scene": {
           "xaxis": {
            "backgroundcolor": "#E5ECF6",
            "gridcolor": "white",
            "gridwidth": 2,
            "linecolor": "white",
            "showbackground": true,
            "ticks": "",
            "zerolinecolor": "white"
           },
           "yaxis": {
            "backgroundcolor": "#E5ECF6",
            "gridcolor": "white",
            "gridwidth": 2,
            "linecolor": "white",
            "showbackground": true,
            "ticks": "",
            "zerolinecolor": "white"
           },
           "zaxis": {
            "backgroundcolor": "#E5ECF6",
            "gridcolor": "white",
            "gridwidth": 2,
            "linecolor": "white",
            "showbackground": true,
            "ticks": "",
            "zerolinecolor": "white"
           }
          },
          "shapedefaults": {
           "line": {
            "color": "#2a3f5f"
           }
          },
          "ternary": {
           "aaxis": {
            "gridcolor": "white",
            "linecolor": "white",
            "ticks": ""
           },
           "baxis": {
            "gridcolor": "white",
            "linecolor": "white",
            "ticks": ""
           },
           "bgcolor": "#E5ECF6",
           "caxis": {
            "gridcolor": "white",
            "linecolor": "white",
            "ticks": ""
           }
          },
          "title": {
           "x": 0.05
          },
          "xaxis": {
           "automargin": true,
           "gridcolor": "white",
           "linecolor": "white",
           "ticks": "",
           "title": {
            "standoff": 15
           },
           "zerolinecolor": "white",
           "zerolinewidth": 2
          },
          "yaxis": {
           "automargin": true,
           "gridcolor": "white",
           "linecolor": "white",
           "ticks": "",
           "title": {
            "standoff": 15
           },
           "zerolinecolor": "white",
           "zerolinewidth": 2
          }
         }
        },
        "title": {
         "text": "Comparison of Trend Lines Before and After Filtering"
        },
        "xaxis": {
         "anchor": "y",
         "domain": [
          0,
          1
         ],
         "title": {
          "text": "Temperature"
         }
        },
        "yaxis": {
         "anchor": "x",
         "domain": [
          0,
          1
         ],
         "title": {
          "text": "Humidity"
         }
        }
       }
      }
     },
     "metadata": {},
     "output_type": "display_data"
    }
   ],
   "source": [
    "# Create scatter plot for original data\n",
    "fig = px.scatter(df, x='Temperature', y='Humidity', opacity=0.3, color_discrete_sequence=['blue'], labels={'x': \"Temperature\", 'y': \"Humidity\"}, title=\"Comparison of Trend Lines Before and After Filtering\")\n",
    "fig.add_traces(go.Scatter(x=test_temps.flatten(), y=predicted_humidity, mode='lines', name='Original Trend Line', line=dict(color='red', dash='dash')))\n",
    "\n",
    "# Add scatter plot for filtered data\n",
    "fig.add_traces(go.Scatter(x=filtered_df['Temperature'], y=filtered_df['Humidity'], mode='markers', marker=dict(color='green', opacity=0.5), name='Filtered Data'))\n",
    "\n",
    "# Add filtered trend line\n",
    "fig.add_traces(go.Scatter(x=test_temps.flatten(), y=filtered_predicted_humidity, mode='lines', name='Filtered Trend Line', line=dict(color='black')))\n",
    "\n",
    "# Show the interactive plot\n",
    "fig.show()"
   ]
  },
  {
   "cell_type": "code",
   "execution_count": 62,
   "metadata": {},
   "outputs": [
    {
     "name": "stdout",
     "output_type": "stream",
     "text": [
      "Number of outliers detected: 7\n",
      "Does the trend line follow the data? Yes\n"
     ]
    }
   ],
   "source": [
    "# Check if the trend line follows the original data points\n",
    "residuals = y - model.predict(X)\n",
    "outlier_count = np.sum(np.abs(residuals) > np.std(residuals) * 2)  # Count outliers beyond 2 standard deviations\n",
    "\n",
    "print(f\"Number of outliers detected: {outlier_count}\")\n",
    "print(f\"Does the trend line follow the data? {'Yes' if outlier_count < len(y) * 0.1 else 'Some deviations exist'}\")\n"
   ]
  },
  {
   "cell_type": "code",
   "execution_count": 63,
   "metadata": {},
   "outputs": [
    {
     "name": "stdout",
     "output_type": "stream",
     "text": [
      "Final Model Intercept: 116.32771510741215, Final Coefficient: -2.44293512168533\n"
     ]
    }
   ],
   "source": [
    "# Define stricter threshold for extreme outliers\n",
    "temp_lower_bound_2 = filtered_df['Temperature'].quantile(0.05)  # Bottom 5% threshold\n",
    "temp_upper_bound_2 = filtered_df['Temperature'].quantile(0.95)  # Top 5% threshold\n",
    "\n",
    "# Further filter the data\n",
    "filtered_df_2 = filtered_df[(filtered_df['Temperature'] >= temp_lower_bound_2) & (filtered_df['Temperature'] <= temp_upper_bound_2)]\n",
    "\n",
    "# Extract independent (X) and dependent (y) variables from second filtered dataset\n",
    "X_filtered_2 = filtered_df_2[['Temperature']].values\n",
    "y_filtered_2 = filtered_df_2['Humidity'].values\n",
    "\n",
    "# Train a new model on the further filtered data\n",
    "filtered_model_2 = LinearRegression()\n",
    "filtered_model_2.fit(X_filtered_2, y_filtered_2)\n",
    "\n",
    "# Generate new predictions\n",
    "filtered_predicted_humidity_2 = filtered_model_2.predict(test_temps)\n",
    "\n",
    "# Print new model parameters\n",
    "print(f\"Final Model Intercept: {filtered_model_2.intercept_}, Final Coefficient: {filtered_model_2.coef_[0]}\")\n"
   ]
  },
  {
   "cell_type": "code",
   "execution_count": 64,
   "metadata": {},
   "outputs": [
    {
     "data": {
      "application/vnd.plotly.v1+json": {
       "config": {
        "plotlyServerURL": "https://plot.ly"
       },
       "data": [
        {
         "hovertemplate": "Temperature=%{x}<br>Humidity=%{y}<extra></extra>",
         "legendgroup": "",
         "marker": {
          "color": "#636efa",
          "opacity": 0.65,
          "symbol": "circle"
         },
         "mode": "markers",
         "name": "",
         "orientation": "v",
         "showlegend": false,
         "type": "scatter",
         "x": {
          "bdata": "ZmZmZmbmNUDNzMzMzMw1QJqZmZmZGTZAZmZmZmZmNkAzMzMzM7M2QAAAAAAAADdAMzMzMzMzN0DNzMzMzEw3QAAAAAAAgDdAAAAAAACAN0CamZmZmZk3QDMzMzMzszdAzczMzMzMN0BmZmZmZuY3QAAAAAAAADhAmpmZmZkZOECamZmZmRk4QDMzMzMzMzhAzczMzMxMOEBmZmZmZmY4QGZmZmZmZjhAAAAAAACAOEBmZmZmZmY4QGZmZmZmZjhAAAAAAACAOEBmZmZmZmY4QM3MzMzMzDhAzczMzMzMOEDNzMzMzMw4QM3MzMzMzDhAMzMzMzOzOEDNzMzMzMw4QM3MzMzMzDhAmpmZmZmZOEAAAAAAAIA4QM3MzMzMzDhAMzMzMzMzOUCamZmZmZk5QJqZmZmZGTpAMzMzMzOzOkCamZmZmRk7QAAAAAAAgDtAZmZmZmbmO0BmZmZmZmY8QDMzMzMzszxAZmZmZmbmPEAAAAAAAAA9QM3MzMzMTD1AZmZmZmZmPUAzMzMzM7M9QM3MzMzMzD1AAAAAAAAAPkCamZmZmRk+QDMzMzMzMz5AMzMzMzMzPkDNzMzMzEw+QM3MzMzMTD5AAAAAAACAPkCamZmZmZk+QJqZmZmZmT5AmpmZmZmZPkAzMzMzM7M+QDMzMzMzsz5AMzMzMzOzPkCamZmZmZk+QJqZmZmZmT5AMzMzMzOzPkCamZmZmZk+QM3MzMzMTD5AzczMzMzMPUDNzMzMzEw9QGZmZmZm5jxAAAAAAACAPEAzMzMzMzM8QGZmZmZm5jtAAAAAAACAO0AzMzMzMzM7QAAAAAAAADtAzczMzMzMOkAAAAAAAIA6QM3MzMzMTDpAMzMzMzMzOkCamZmZmRk6QAAAAAAAADpAZmZmZmbmOUBmZmZmZuY5QM3MzMzMzDlAMzMzMzOzOUAzMzMzM7M5QJqZmZmZmTlAAAAAAACAOUAAAAAAAIA5QGZmZmZmZjlAzczMzMxMOUDNzMzMzEw5QDMzMzMzMzlAMzMzMzMzOUAzMzMzMzM5QDMzMzMzMzlAmpmZmZkZOUCamZmZmRk5QJqZmZmZGTlAAAAAAAAAOUAAAAAAAAA5QAAAAAAAADlAZmZmZmbmOEBmZmZmZuY4QGZmZmZm5jhAZmZmZmbmOEBmZmZmZuY4QGZmZmZm5jhAZmZmZmbmOEBmZmZmZuY4QAAAAAAAADlAzczMzMzMOEAAAAAAAIA4QJqZmZmZGThAmpmZmZmZN0CamZmZmRk3QDMzMzMzszZAzczMzMxMNkAAAAAAAAA2QA==",
          "dtype": "f8"
         },
         "xaxis": "x",
         "y": {
          "bdata": "zczMzMxMUUDNzMzMzOxQQJqZmZmZmVBAZmZmZmZmUEAAAAAAACBQQDMzMzMzE1BAZmZmZmZmT0BmZmZmZmZPQM3MzMzMTE9AAAAAAADATkCamZmZmZlOQJqZmZmZGU5AZmZmZmbmTUAzMzMzM/NNQGZmZmZmJk5AmpmZmZnZTUAzMzMzM7NNQAAAAAAAgE1AzczMzMxMTUAAAAAAAEBNQM3MzMzMzExAAAAAAADATEDNzMzMzMxMQDMzMzMzc01AZmZmZmbmTECamZmZmZlMQM3MzMzMzEtAMzMzMzNzS0AAAAAAAIBLQM3MzMzMzEtAZmZmZmamS0AAAAAAAIBLQAAAAAAAgEtAAAAAAABAS0BmZmZmZiZMQGZmZmZm5ktAmpmZmZlZS0AAAAAAAEBLQJqZmZmZ2UpAMzMzMzNzSkDNzMzMzAxKQJqZmZmZWUlAMzMzMzOzSEBmZmZmZuZHQGZmZmZmpkdAAAAAAABAR0AAAAAAAIBHQAAAAAAAAEdAMzMzMzPzRkAzMzMzM7NGQDMzMzMzc0ZAZmZmZmYmRkAzMzMzMzNGQJqZmZmZGUZAzczMzMwMRkAzMzMzM/NFQM3MzMzMzEVAMzMzMzNzRUAAAAAAAIBFQAAAAAAAgEVAmpmZmZlZRUAAAAAAAEBFQGZmZmZmZkVAmpmZmZnZREAAAAAAAABFQJqZmZmZGUVAMzMzMzMzRUCamZmZmRlFQAAAAAAAAEVAzczMzMxMRUDNzMzMzMxFQM3MzMzMDEZAMzMzMzNzRkBmZmZmZuZGQJqZmZmZGUdAMzMzMzNzR0AAAAAAAABIQGZmZmZm5kdAZmZmZmZmSEDNzMzMzIxIQGZmZmZm5khAzczMzMwMSUAzMzMzMzNJQAAAAAAAgElAzczMzMyMSUAzMzMzM7NJQJqZmZmZ2UlAMzMzMzOzSUBmZmZmZuZJQDMzMzMz80lAMzMzMzPzSUAAAAAAAABKQJqZmZmZWUpAMzMzMzNzSkDNzMzMzExKQGZmZmZmZkpAMzMzMzNzSkBmZmZmZqZKQGZmZmZmpkpAmpmZmZmZSkCamZmZmZlKQDMzMzMzs0pAAAAAAADASkDNzMzMzMxKQDMzMzMz80pAmpmZmZnZSkCamZmZmdlKQGZmZmZm5kpAAAAAAAAAS0AzMzMzM/NKQAAAAAAAAEtAZmZmZmbmSkAzMzMzM/NKQM3MzMzMDEtAmpmZmZkZS0DNzMzMzExLQM3MzMzMjEtAMzMzMzMzTECamZmZmZlMQDMzMzMzM01AZmZmZmamTUAAAAAAAEBOQA==",
          "dtype": "f8"
         },
         "yaxis": "y"
        },
        {
         "line": {
          "color": "green"
         },
         "mode": "lines",
         "name": "Final Trend Line",
         "type": "scatter",
         "x": {
          "bdata": "MzMzMzMzM0B+tI3yhVMzQMk16LHYczNAFLdCcSuUM0BfOJ0wfrQzQKq59+/Q1DNA9TpSryP1M0BAvKxudhU0QIs9By7JNTRA1r5h7RtWNEAhQLysbnY0QGzBFmzBljRAt0JxKxS3NEACxMvqZtc0QE1FJqq59zRAmMaAaQwYNUDjR9soXzg1QC7JNeixWDVAeUqQpwR5NUDEy+pmV5k1QA9NRSaquTVAWs6f5fzZNUClT/qkT/o1QPDQVGSiGjZAO1KvI/U6NkCG0wnjR1s2QNFUZKKaezZAHNa+Ye2bNkBnVxkhQLw2QLLYc+CS3DZA/VnOn+X8NkBI2yhfOB03QJNcgx6LPTdA3t3d3d1dN0ApXzidMH43QHTgklyDnjdAv2HtG9a+N0AK40fbKN83QFVkopp7/zdAoOX8Wc4fOEDrZlcZIUA4QDbosdhzYDhAgWkMmMaAOEDM6mZXGaE4QBdswRZswThAYu0b1r7hOECtbnaVEQI5QPjv0FRkIjlAQnErFLdCOUCO8oXTCWM5QNhz4JJcgzlAJPU6Uq+jOUBudpURAsQ5QLr379BU5DlABHlKkKcEOkBQ+qRP+iQ6QJp7/w5NRTpA5vxZzp9lOkAwfrSN8oU6QHz/Dk1FpjpAxoBpDJjGOkASAsTL6uY6QFyDHos9BztAqAR5SpAnO0DyhdMJ40c7QD4HLsk1aDtAiIiIiIiIO0DUCeNH26g7QB6LPQcuyTtAagyYxoDpO0C0jfKF0wk8QAAPTUUmKjxASpCnBHlKPECWEQLEy2o8QOCSXIMeizxALBS3QnGrPEB2lRECxMs8QMIWbMEW7DxADJjGgGkMPUBYGSFAvCw9QKKae/8OTT1A7hvWvmFtPUA4nTB+tI09QIQeiz0Hrj1Azp/l/FnOPUAaIUC8rO49QGSimnv/Dj5AsCP1OlIvPkD6pE/6pE8+QEYmqrn3bz5AkKcEeUqQPkDcKF84nbA+QCaquffv0D5AcisUt0LxPkC8rG52lRE/QAguyTXoMT9AUq8j9TpSP0CdMH60jXI/QOix2HPgkj9AMzMzMzOzP0A=",
          "dtype": "f8"
         },
         "y": {
          "bdata": "eIXGVxhbUUBqGtGsWkdRQFuv2wGdM1FATETmVt8fUUA+2fCrIQxRQDBu+wBk+FBAIQMGVqbkUEASmBCr6NBQQAQtGwArvVBA9sElVW2pUEDnVjCqr5VQQNjrOv/xgVBAyoBFVDRuUEC7FVCpdlpQQKyqWv64RlBAnj9lU/syUECQ1G+oPR9QQIFpev1/C1BA5fwJpYTvT0DIJh9PCchPQKtQNPmNoE9AjnpJoxJ5T0BxpF5Nl1FPQFTOc/cbKk9AN/iIoaACT0AZIp5LJdtOQPxLs/Wps05A33XIny6MTkDCn91Js2ROQKXJ8vM3PU5AiPMHnrwVTkBrHR1IQe5NQE5HMvLFxk1AMXFHnEqfTUAUm1xGz3dNQPfEcfBTUE1A2u6GmtgoTUC9GJxEXQFNQKBCse7h2UxAg2zGmGayTEBllttC64pMQEjA8OxvY0xAK+oFl/Q7TEAOFBtBeRRMQPE9MOv97EtA1GdFlYLFS0C3kVo/B55LQJq7b+mLdktAfuWEkxBPS0BgD5o9lSdLQEQ5r+cZAEtAJmPEkZ7YSkAKjdk7I7FKQOy27uWniUpA0OADkCxiSkCxChk6sTpKQJY0LuQ1E0pAeF5DjrrrSUBciFg4P8RJQD6ybeLDnElAItyCjEh1SUACBpg2zU1JQOgvreBRJklAyFnCitb+SECsg9c0W9dIQI6t7N7fr0hActcBiWSISEBUARcz6WBIQDgrLN1tOUhAGlVBh/IRSED+flYxd+pHQOCoa9v7wkdAxNKAhYCbR0Cm/JUvBXRHQIomq9mJTEdAbFDAgw4lR0BQetUtk/1GQDKk6tcX1kZAFs7/gZyuRkD49xQsIYdGQNwhKtalX0ZAvks/gCo4RkCidVQqrxBGQISfadQz6UVAaMl+frjBRUBK85MoPZpFQC4dqdLBckVAEEe+fEZLRUD0cNMmyyNFQNaa6NBP/ERAusT9etTURECa7hIlWa1EQIAYKM/dhURAYEI9eWJeREBEbFIj5zZEQCaWZ81rD0RACsB8d/DnQ0Du6ZEhdcBDQNATp8v5mENAtD28dX5xQ0A=",
          "dtype": "f8"
         }
        }
       ],
       "layout": {
        "legend": {
         "tracegroupgap": 0
        },
        "template": {
         "data": {
          "bar": [
           {
            "error_x": {
             "color": "#2a3f5f"
            },
            "error_y": {
             "color": "#2a3f5f"
            },
            "marker": {
             "line": {
              "color": "#E5ECF6",
              "width": 0.5
             },
             "pattern": {
              "fillmode": "overlay",
              "size": 10,
              "solidity": 0.2
             }
            },
            "type": "bar"
           }
          ],
          "barpolar": [
           {
            "marker": {
             "line": {
              "color": "#E5ECF6",
              "width": 0.5
             },
             "pattern": {
              "fillmode": "overlay",
              "size": 10,
              "solidity": 0.2
             }
            },
            "type": "barpolar"
           }
          ],
          "carpet": [
           {
            "aaxis": {
             "endlinecolor": "#2a3f5f",
             "gridcolor": "white",
             "linecolor": "white",
             "minorgridcolor": "white",
             "startlinecolor": "#2a3f5f"
            },
            "baxis": {
             "endlinecolor": "#2a3f5f",
             "gridcolor": "white",
             "linecolor": "white",
             "minorgridcolor": "white",
             "startlinecolor": "#2a3f5f"
            },
            "type": "carpet"
           }
          ],
          "choropleth": [
           {
            "colorbar": {
             "outlinewidth": 0,
             "ticks": ""
            },
            "type": "choropleth"
           }
          ],
          "contour": [
           {
            "colorbar": {
             "outlinewidth": 0,
             "ticks": ""
            },
            "colorscale": [
             [
              0,
              "#0d0887"
             ],
             [
              0.1111111111111111,
              "#46039f"
             ],
             [
              0.2222222222222222,
              "#7201a8"
             ],
             [
              0.3333333333333333,
              "#9c179e"
             ],
             [
              0.4444444444444444,
              "#bd3786"
             ],
             [
              0.5555555555555556,
              "#d8576b"
             ],
             [
              0.6666666666666666,
              "#ed7953"
             ],
             [
              0.7777777777777778,
              "#fb9f3a"
             ],
             [
              0.8888888888888888,
              "#fdca26"
             ],
             [
              1,
              "#f0f921"
             ]
            ],
            "type": "contour"
           }
          ],
          "contourcarpet": [
           {
            "colorbar": {
             "outlinewidth": 0,
             "ticks": ""
            },
            "type": "contourcarpet"
           }
          ],
          "heatmap": [
           {
            "colorbar": {
             "outlinewidth": 0,
             "ticks": ""
            },
            "colorscale": [
             [
              0,
              "#0d0887"
             ],
             [
              0.1111111111111111,
              "#46039f"
             ],
             [
              0.2222222222222222,
              "#7201a8"
             ],
             [
              0.3333333333333333,
              "#9c179e"
             ],
             [
              0.4444444444444444,
              "#bd3786"
             ],
             [
              0.5555555555555556,
              "#d8576b"
             ],
             [
              0.6666666666666666,
              "#ed7953"
             ],
             [
              0.7777777777777778,
              "#fb9f3a"
             ],
             [
              0.8888888888888888,
              "#fdca26"
             ],
             [
              1,
              "#f0f921"
             ]
            ],
            "type": "heatmap"
           }
          ],
          "histogram": [
           {
            "marker": {
             "pattern": {
              "fillmode": "overlay",
              "size": 10,
              "solidity": 0.2
             }
            },
            "type": "histogram"
           }
          ],
          "histogram2d": [
           {
            "colorbar": {
             "outlinewidth": 0,
             "ticks": ""
            },
            "colorscale": [
             [
              0,
              "#0d0887"
             ],
             [
              0.1111111111111111,
              "#46039f"
             ],
             [
              0.2222222222222222,
              "#7201a8"
             ],
             [
              0.3333333333333333,
              "#9c179e"
             ],
             [
              0.4444444444444444,
              "#bd3786"
             ],
             [
              0.5555555555555556,
              "#d8576b"
             ],
             [
              0.6666666666666666,
              "#ed7953"
             ],
             [
              0.7777777777777778,
              "#fb9f3a"
             ],
             [
              0.8888888888888888,
              "#fdca26"
             ],
             [
              1,
              "#f0f921"
             ]
            ],
            "type": "histogram2d"
           }
          ],
          "histogram2dcontour": [
           {
            "colorbar": {
             "outlinewidth": 0,
             "ticks": ""
            },
            "colorscale": [
             [
              0,
              "#0d0887"
             ],
             [
              0.1111111111111111,
              "#46039f"
             ],
             [
              0.2222222222222222,
              "#7201a8"
             ],
             [
              0.3333333333333333,
              "#9c179e"
             ],
             [
              0.4444444444444444,
              "#bd3786"
             ],
             [
              0.5555555555555556,
              "#d8576b"
             ],
             [
              0.6666666666666666,
              "#ed7953"
             ],
             [
              0.7777777777777778,
              "#fb9f3a"
             ],
             [
              0.8888888888888888,
              "#fdca26"
             ],
             [
              1,
              "#f0f921"
             ]
            ],
            "type": "histogram2dcontour"
           }
          ],
          "mesh3d": [
           {
            "colorbar": {
             "outlinewidth": 0,
             "ticks": ""
            },
            "type": "mesh3d"
           }
          ],
          "parcoords": [
           {
            "line": {
             "colorbar": {
              "outlinewidth": 0,
              "ticks": ""
             }
            },
            "type": "parcoords"
           }
          ],
          "pie": [
           {
            "automargin": true,
            "type": "pie"
           }
          ],
          "scatter": [
           {
            "fillpattern": {
             "fillmode": "overlay",
             "size": 10,
             "solidity": 0.2
            },
            "type": "scatter"
           }
          ],
          "scatter3d": [
           {
            "line": {
             "colorbar": {
              "outlinewidth": 0,
              "ticks": ""
             }
            },
            "marker": {
             "colorbar": {
              "outlinewidth": 0,
              "ticks": ""
             }
            },
            "type": "scatter3d"
           }
          ],
          "scattercarpet": [
           {
            "marker": {
             "colorbar": {
              "outlinewidth": 0,
              "ticks": ""
             }
            },
            "type": "scattercarpet"
           }
          ],
          "scattergeo": [
           {
            "marker": {
             "colorbar": {
              "outlinewidth": 0,
              "ticks": ""
             }
            },
            "type": "scattergeo"
           }
          ],
          "scattergl": [
           {
            "marker": {
             "colorbar": {
              "outlinewidth": 0,
              "ticks": ""
             }
            },
            "type": "scattergl"
           }
          ],
          "scattermap": [
           {
            "marker": {
             "colorbar": {
              "outlinewidth": 0,
              "ticks": ""
             }
            },
            "type": "scattermap"
           }
          ],
          "scattermapbox": [
           {
            "marker": {
             "colorbar": {
              "outlinewidth": 0,
              "ticks": ""
             }
            },
            "type": "scattermapbox"
           }
          ],
          "scatterpolar": [
           {
            "marker": {
             "colorbar": {
              "outlinewidth": 0,
              "ticks": ""
             }
            },
            "type": "scatterpolar"
           }
          ],
          "scatterpolargl": [
           {
            "marker": {
             "colorbar": {
              "outlinewidth": 0,
              "ticks": ""
             }
            },
            "type": "scatterpolargl"
           }
          ],
          "scatterternary": [
           {
            "marker": {
             "colorbar": {
              "outlinewidth": 0,
              "ticks": ""
             }
            },
            "type": "scatterternary"
           }
          ],
          "surface": [
           {
            "colorbar": {
             "outlinewidth": 0,
             "ticks": ""
            },
            "colorscale": [
             [
              0,
              "#0d0887"
             ],
             [
              0.1111111111111111,
              "#46039f"
             ],
             [
              0.2222222222222222,
              "#7201a8"
             ],
             [
              0.3333333333333333,
              "#9c179e"
             ],
             [
              0.4444444444444444,
              "#bd3786"
             ],
             [
              0.5555555555555556,
              "#d8576b"
             ],
             [
              0.6666666666666666,
              "#ed7953"
             ],
             [
              0.7777777777777778,
              "#fb9f3a"
             ],
             [
              0.8888888888888888,
              "#fdca26"
             ],
             [
              1,
              "#f0f921"
             ]
            ],
            "type": "surface"
           }
          ],
          "table": [
           {
            "cells": {
             "fill": {
              "color": "#EBF0F8"
             },
             "line": {
              "color": "white"
             }
            },
            "header": {
             "fill": {
              "color": "#C8D4E3"
             },
             "line": {
              "color": "white"
             }
            },
            "type": "table"
           }
          ]
         },
         "layout": {
          "annotationdefaults": {
           "arrowcolor": "#2a3f5f",
           "arrowhead": 0,
           "arrowwidth": 1
          },
          "autotypenumbers": "strict",
          "coloraxis": {
           "colorbar": {
            "outlinewidth": 0,
            "ticks": ""
           }
          },
          "colorscale": {
           "diverging": [
            [
             0,
             "#8e0152"
            ],
            [
             0.1,
             "#c51b7d"
            ],
            [
             0.2,
             "#de77ae"
            ],
            [
             0.3,
             "#f1b6da"
            ],
            [
             0.4,
             "#fde0ef"
            ],
            [
             0.5,
             "#f7f7f7"
            ],
            [
             0.6,
             "#e6f5d0"
            ],
            [
             0.7,
             "#b8e186"
            ],
            [
             0.8,
             "#7fbc41"
            ],
            [
             0.9,
             "#4d9221"
            ],
            [
             1,
             "#276419"
            ]
           ],
           "sequential": [
            [
             0,
             "#0d0887"
            ],
            [
             0.1111111111111111,
             "#46039f"
            ],
            [
             0.2222222222222222,
             "#7201a8"
            ],
            [
             0.3333333333333333,
             "#9c179e"
            ],
            [
             0.4444444444444444,
             "#bd3786"
            ],
            [
             0.5555555555555556,
             "#d8576b"
            ],
            [
             0.6666666666666666,
             "#ed7953"
            ],
            [
             0.7777777777777778,
             "#fb9f3a"
            ],
            [
             0.8888888888888888,
             "#fdca26"
            ],
            [
             1,
             "#f0f921"
            ]
           ],
           "sequentialminus": [
            [
             0,
             "#0d0887"
            ],
            [
             0.1111111111111111,
             "#46039f"
            ],
            [
             0.2222222222222222,
             "#7201a8"
            ],
            [
             0.3333333333333333,
             "#9c179e"
            ],
            [
             0.4444444444444444,
             "#bd3786"
            ],
            [
             0.5555555555555556,
             "#d8576b"
            ],
            [
             0.6666666666666666,
             "#ed7953"
            ],
            [
             0.7777777777777778,
             "#fb9f3a"
            ],
            [
             0.8888888888888888,
             "#fdca26"
            ],
            [
             1,
             "#f0f921"
            ]
           ]
          },
          "colorway": [
           "#636efa",
           "#EF553B",
           "#00cc96",
           "#ab63fa",
           "#FFA15A",
           "#19d3f3",
           "#FF6692",
           "#B6E880",
           "#FF97FF",
           "#FECB52"
          ],
          "font": {
           "color": "#2a3f5f"
          },
          "geo": {
           "bgcolor": "white",
           "lakecolor": "white",
           "landcolor": "#E5ECF6",
           "showlakes": true,
           "showland": true,
           "subunitcolor": "white"
          },
          "hoverlabel": {
           "align": "left"
          },
          "hovermode": "closest",
          "mapbox": {
           "style": "light"
          },
          "paper_bgcolor": "white",
          "plot_bgcolor": "#E5ECF6",
          "polar": {
           "angularaxis": {
            "gridcolor": "white",
            "linecolor": "white",
            "ticks": ""
           },
           "bgcolor": "#E5ECF6",
           "radialaxis": {
            "gridcolor": "white",
            "linecolor": "white",
            "ticks": ""
           }
          },
          "scene": {
           "xaxis": {
            "backgroundcolor": "#E5ECF6",
            "gridcolor": "white",
            "gridwidth": 2,
            "linecolor": "white",
            "showbackground": true,
            "ticks": "",
            "zerolinecolor": "white"
           },
           "yaxis": {
            "backgroundcolor": "#E5ECF6",
            "gridcolor": "white",
            "gridwidth": 2,
            "linecolor": "white",
            "showbackground": true,
            "ticks": "",
            "zerolinecolor": "white"
           },
           "zaxis": {
            "backgroundcolor": "#E5ECF6",
            "gridcolor": "white",
            "gridwidth": 2,
            "linecolor": "white",
            "showbackground": true,
            "ticks": "",
            "zerolinecolor": "white"
           }
          },
          "shapedefaults": {
           "line": {
            "color": "#2a3f5f"
           }
          },
          "ternary": {
           "aaxis": {
            "gridcolor": "white",
            "linecolor": "white",
            "ticks": ""
           },
           "baxis": {
            "gridcolor": "white",
            "linecolor": "white",
            "ticks": ""
           },
           "bgcolor": "#E5ECF6",
           "caxis": {
            "gridcolor": "white",
            "linecolor": "white",
            "ticks": ""
           }
          },
          "title": {
           "x": 0.05
          },
          "xaxis": {
           "automargin": true,
           "gridcolor": "white",
           "linecolor": "white",
           "ticks": "",
           "title": {
            "standoff": 15
           },
           "zerolinecolor": "white",
           "zerolinewidth": 2
          },
          "yaxis": {
           "automargin": true,
           "gridcolor": "white",
           "linecolor": "white",
           "ticks": "",
           "title": {
            "standoff": 15
           },
           "zerolinecolor": "white",
           "zerolinewidth": 2
          }
         }
        },
        "title": {
         "text": "Second Filtered Temperature vs Humidity with Trend Line"
        },
        "xaxis": {
         "anchor": "y",
         "domain": [
          0,
          1
         ],
         "title": {
          "text": "Temperature"
         }
        },
        "yaxis": {
         "anchor": "x",
         "domain": [
          0,
          1
         ],
         "title": {
          "text": "Humidity"
         }
        }
       }
      }
     },
     "metadata": {},
     "output_type": "display_data"
    }
   ],
   "source": [
    "# Create scatter plot for second filtered data\n",
    "fig = px.scatter(filtered_df_2, x='Temperature', y='Humidity', opacity=0.65, labels={'x': \"Temperature\", 'y': \"Humidity\"}, title=\"Second Filtered Temperature vs Humidity with Trend Line\")\n",
    "\n",
    "# Add new trend line for second filtered data\n",
    "fig.add_traces(go.Scatter(x=test_temps.flatten(), y=filtered_predicted_humidity_2, mode='lines', name='Final Trend Line', line=dict(color='green')))\n",
    "\n",
    "# Show the interactive plot\n",
    "fig.show()\n"
   ]
  },
  {
   "cell_type": "code",
   "execution_count": 65,
   "metadata": {},
   "outputs": [
    {
     "data": {
      "application/vnd.plotly.v1+json": {
       "config": {
        "plotlyServerURL": "https://plot.ly"
       },
       "data": [
        {
         "hovertemplate": "Temperature=%{x}<br>Humidity=%{y}<extra></extra>",
         "legendgroup": "",
         "marker": {
          "color": "blue",
          "opacity": 0.3,
          "symbol": "circle"
         },
         "mode": "markers",
         "name": "",
         "orientation": "v",
         "showlegend": false,
         "type": "scatter",
         "x": {
          "bdata": "ZmZmZmbmNUAzMzMzM7M1QAAAAAAAgDVAZmZmZmZmNUDNzMzMzEw1QAAAAAAAgDVAzczMzMzMNUCamZmZmRk2QGZmZmZmZjZAMzMzMzOzNkAAAAAAAAA3QDMzMzMzMzdAzczMzMxMN0AAAAAAAIA3QAAAAAAAgDdAmpmZmZmZN0AzMzMzM7M3QM3MzMzMzDdAZmZmZmbmN0AAAAAAAAA4QJqZmZmZGThAmpmZmZkZOEAzMzMzMzM4QM3MzMzMTDhAZmZmZmZmOEBmZmZmZmY4QAAAAAAAgDhAZmZmZmZmOEBmZmZmZmY4QAAAAAAAgDhAZmZmZmZmOEDNzMzMzMw4QM3MzMzMzDhAzczMzMzMOEDNzMzMzMw4QDMzMzMzszhAzczMzMzMOEDNzMzMzMw4QJqZmZmZmThAAAAAAACAOEDNzMzMzMw4QDMzMzMzMzlAmpmZmZmZOUCamZmZmRk6QDMzMzMzszpAmpmZmZkZO0AAAAAAAIA7QGZmZmZm5jtAZmZmZmZmPEAzMzMzM7M8QGZmZmZm5jxAAAAAAAAAPUDNzMzMzEw9QGZmZmZmZj1AMzMzMzOzPUDNzMzMzMw9QAAAAAAAAD5AmpmZmZkZPkAzMzMzMzM+QDMzMzMzMz5AzczMzMxMPkDNzMzMzEw+QAAAAAAAgD5AmpmZmZmZPkCamZmZmZk+QJqZmZmZmT5AMzMzMzOzPkAzMzMzM7M+QM3MzMzMzD5AzczMzMzMPkDNzMzMzMw+QM3MzMzMzD5AAAAAAAAAP0CamZmZmRk/QM3MzMzMTD9AZmZmZmZmP0AAAAAAAIA/QJqZmZmZmT9AMzMzMzOzP0AzMzMzM7M/QJqZmZmZmT9AmpmZmZmZP0BmZmZmZmY/QDMzMzMzMz9AmpmZmZkZP0AAAAAAAAA/QGZmZmZm5j5AzczMzMzMPkAzMzMzM7M+QJqZmZmZmT5AmpmZmZmZPkAzMzMzM7M+QJqZmZmZmT5AzczMzMxMPkDNzMzMzMw9QM3MzMzMTD1AZmZmZmbmPEAAAAAAAIA8QDMzMzMzMzxAZmZmZmbmO0AAAAAAAIA7QDMzMzMzMztAAAAAAAAAO0DNzMzMzMw6QAAAAAAAgDpAzczMzMxMOkAzMzMzMzM6QJqZmZmZGTpAAAAAAAAAOkBmZmZmZuY5QGZmZmZm5jlAzczMzMzMOUAzMzMzM7M5QDMzMzMzszlAmpmZmZmZOUAAAAAAAIA5QAAAAAAAgDlAZmZmZmZmOUDNzMzMzEw5QM3MzMzMTDlAMzMzMzMzOUAzMzMzMzM5QDMzMzMzMzlAMzMzMzMzOUCamZmZmRk5QJqZmZmZGTlAmpmZmZkZOUAAAAAAAAA5QAAAAAAAADlAAAAAAAAAOUBmZmZmZuY4QGZmZmZm5jhAZmZmZmbmOEBmZmZmZuY4QGZmZmZm5jhAZmZmZmbmOEBmZmZmZuY4QGZmZmZm5jhAAAAAAAAAOUDNzMzMzMw4QAAAAAAAgDhAmpmZmZkZOECamZmZmZk3QJqZmZmZGTdAMzMzMzOzNkDNzMzMzEw2QAAAAAAAADZAmpmZmZmZNUBmZmZmZmY1QJqZmZmZGTVAZmZmZmbmNEAzMzMzM7M0QAAAAAAAgDRAzczMzMxMNECamZmZmRk0QAAAAAAAADRAZmZmZmbmM0DNzMzMzMwzQDMzMzMzszNAmpmZmZmZM0AAAAAAAIAzQGZmZmZmZjNAZmZmZmZmM0DNzMzMzEwzQM3MzMzMTDNAMzMzMzMzM0A=",
          "dtype": "f8"
         },
         "xaxis": "x",
         "y": {
          "bdata": "zczMzMxMUUAzMzMzM1NRQM3MzMzMLFFAmpmZmZnZUEAzMzMzMxNRQDMzMzMzE1FAzczMzMzsUECamZmZmZlQQGZmZmZmZlBAAAAAAAAgUEAzMzMzMxNQQGZmZmZmZk9AZmZmZmZmT0DNzMzMzExPQAAAAAAAwE5AmpmZmZmZTkCamZmZmRlOQGZmZmZm5k1AMzMzMzPzTUBmZmZmZiZOQJqZmZmZ2U1AMzMzMzOzTUAAAAAAAIBNQM3MzMzMTE1AAAAAAABATUDNzMzMzMxMQAAAAAAAwExAzczMzMzMTEAzMzMzM3NNQGZmZmZm5kxAmpmZmZmZTEDNzMzMzMxLQDMzMzMzc0tAAAAAAACAS0DNzMzMzMxLQGZmZmZmpktAAAAAAACAS0AAAAAAAIBLQAAAAAAAQEtAZmZmZmYmTEBmZmZmZuZLQJqZmZmZWUtAAAAAAABAS0CamZmZmdlKQDMzMzMzc0pAzczMzMwMSkCamZmZmVlJQDMzMzMzs0hAZmZmZmbmR0BmZmZmZqZHQAAAAAAAQEdAAAAAAACAR0AAAAAAAABHQDMzMzMz80ZAMzMzMzOzRkAzMzMzM3NGQGZmZmZmJkZAMzMzMzMzRkCamZmZmRlGQM3MzMzMDEZAMzMzMzPzRUDNzMzMzMxFQDMzMzMzc0VAAAAAAACARUAAAAAAAIBFQJqZmZmZWUVAAAAAAABARUBmZmZmZmZFQGZmZmZmJkVAzczMzMxMRUAAAAAAAEBFQGZmZmZmJkVAmpmZmZmZRUAzMzMzM/NEQJqZmZmZ2URAzczMzMzMREAAAAAAAMBEQJqZmZmZGUVAMzMzMzNzREDNzMzMzIxEQGZmZmZmZkRAZmZmZmZmREBmZmZmZmZEQDMzMzMzs0RAzczMzMyMREBmZmZmZqZEQAAAAAAAwERAmpmZmZnZRECamZmZmdlEQAAAAAAAAEVAmpmZmZkZRUAzMzMzMzNFQJqZmZmZGUVAAAAAAAAARUDNzMzMzExFQM3MzMzMzEVAzczMzMwMRkAzMzMzM3NGQGZmZmZm5kZAmpmZmZkZR0AzMzMzM3NHQAAAAAAAAEhAZmZmZmbmR0BmZmZmZmZIQM3MzMzMjEhAZmZmZmbmSEDNzMzMzAxJQDMzMzMzM0lAAAAAAACASUDNzMzMzIxJQDMzMzMzs0lAmpmZmZnZSUAzMzMzM7NJQGZmZmZm5klAMzMzMzPzSUAzMzMzM/NJQAAAAAAAAEpAmpmZmZlZSkAzMzMzM3NKQM3MzMzMTEpAZmZmZmZmSkAzMzMzM3NKQGZmZmZmpkpAZmZmZmamSkCamZmZmZlKQJqZmZmZmUpAMzMzMzOzSkAAAAAAAMBKQM3MzMzMzEpAMzMzMzPzSkCamZmZmdlKQJqZmZmZ2UpAZmZmZmbmSkAAAAAAAABLQDMzMzMz80pAAAAAAAAAS0BmZmZmZuZKQDMzMzMz80pAzczMzMwMS0CamZmZmRlLQM3MzMzMTEtAzczMzMyMS0AzMzMzMzNMQJqZmZmZmUxAMzMzMzMzTUBmZmZmZqZNQAAAAAAAQE5AmpmZmZnZTkAzMzMzMzNPQJqZmZmZmU9AMzMzMzMTUEAzMzMzMzNQQGZmZmZmRlBAMzMzMzOTUECamZmZmblQQJqZmZmZ2VBAAAAAAADgUEDNzMzMzAxRQGZmZmZmJlFAMzMzMzMzUUAzMzMzM3NRQDMzMzMzU1FAmpmZmZl5UUCamZmZmXlRQDMzMzMzk1FAMzMzMzOTUUA=",
          "dtype": "f8"
         },
         "yaxis": "y"
        },
        {
         "line": {
          "color": "red",
          "dash": "dash"
         },
         "mode": "lines",
         "name": "Original Trend Line",
         "type": "scatter",
         "x": {
          "bdata": "MzMzMzMzM0B+tI3yhVMzQMk16LHYczNAFLdCcSuUM0BfOJ0wfrQzQKq59+/Q1DNA9TpSryP1M0BAvKxudhU0QIs9By7JNTRA1r5h7RtWNEAhQLysbnY0QGzBFmzBljRAt0JxKxS3NEACxMvqZtc0QE1FJqq59zRAmMaAaQwYNUDjR9soXzg1QC7JNeixWDVAeUqQpwR5NUDEy+pmV5k1QA9NRSaquTVAWs6f5fzZNUClT/qkT/o1QPDQVGSiGjZAO1KvI/U6NkCG0wnjR1s2QNFUZKKaezZAHNa+Ye2bNkBnVxkhQLw2QLLYc+CS3DZA/VnOn+X8NkBI2yhfOB03QJNcgx6LPTdA3t3d3d1dN0ApXzidMH43QHTgklyDnjdAv2HtG9a+N0AK40fbKN83QFVkopp7/zdAoOX8Wc4fOEDrZlcZIUA4QDbosdhzYDhAgWkMmMaAOEDM6mZXGaE4QBdswRZswThAYu0b1r7hOECtbnaVEQI5QPjv0FRkIjlAQnErFLdCOUCO8oXTCWM5QNhz4JJcgzlAJPU6Uq+jOUBudpURAsQ5QLr379BU5DlABHlKkKcEOkBQ+qRP+iQ6QJp7/w5NRTpA5vxZzp9lOkAwfrSN8oU6QHz/Dk1FpjpAxoBpDJjGOkASAsTL6uY6QFyDHos9BztAqAR5SpAnO0DyhdMJ40c7QD4HLsk1aDtAiIiIiIiIO0DUCeNH26g7QB6LPQcuyTtAagyYxoDpO0C0jfKF0wk8QAAPTUUmKjxASpCnBHlKPECWEQLEy2o8QOCSXIMeizxALBS3QnGrPEB2lRECxMs8QMIWbMEW7DxADJjGgGkMPUBYGSFAvCw9QKKae/8OTT1A7hvWvmFtPUA4nTB+tI09QIQeiz0Hrj1Azp/l/FnOPUAaIUC8rO49QGSimnv/Dj5AsCP1OlIvPkD6pE/6pE8+QEYmqrn3bz5AkKcEeUqQPkDcKF84nbA+QCaquffv0D5AcisUt0LxPkC8rG52lRE/QAguyTXoMT9AUq8j9TpSP0CdMH60jXI/QOix2HPgkj9AMzMzMzOzP0A=",
          "dtype": "f8"
         },
         "y": {
          "bdata": "kNqPBJBfUUBwgmOiG0xRQFAqN0CnOFFAMdIK3jIlUUARet57vhFRQPIhshlK/lBA0smFt9XqUECycVlVYddQQJIZLfPsw1BAcsEAkXiwUEBTadQuBJ1QQDMRqMyPiVBAFLl7aht2UED0YE8Ip2JQQNQII6YyT1BAtLD2Q747UECUWMrhSShQQHUAnn/VFFBAVahxHWEBUEBroIp22dtPQCzwMbLwtE9A7D/Z7QeOT0Ctj4ApH2dPQG3fJ2U2QE9ALi/PoE0ZT0DvfnbcZPJOQK/OHRh8y05AcB7FU5OkTkAwbmyPqn1OQPG9E8vBVk5Asg27BtkvTkByXWJC8AhOQDOtCX4H4k1A8/ywuR67TUC0TFj1NZRNQHWc/zBNbU1ANeymbGRGTUD2O06oex9NQLaL9eOS+ExAd9ucH6rRTEA3K0RbwapMQPh665bYg0xAucqS0u9cTEB5GjoOBzZMQDpq4UkeD0xA+rmIhTXoS0C7CTDBTMFLQHxZ1/xjmktAPal+OHtzS0D9+CV0kkxLQL9Iza+pJUtAfph068D+SkBA6Bsn2NdKQP83w2LvsEpAwYdqngaKSkCA1xHaHWNKQEInuRU1PEpAAndgUUwVSkDDxgeNY+5JQIIWr8h6x0lARGZWBJKgSUAEtv0/qXlJQMYFpXvAUklAhlVMt9crSUBGpfPy7gRJQAb1mi4G3khAyERCah23SECIlOmlNJBIQErkkOFLaUhACDQ4HWNCSEDKg99YehtIQIrThpSR9EdATCMu0KjNR0AMc9ULwKZHQMzCfEfXf0dAjBIkg+5YR0BOYsu+BTJHQA6ycvocC0dA0AEaNjTkRkCOUcFxS71GQFChaK1ilkZAEPEP6XlvRkDSQLckkUhGQJCQXmCoIUZAUuAFnL/6RUASMK3X1tNFQNR/VBPurEVAlM/7TgWGRUBWH6OKHF9FQBRvSsYzOEVA1r7xAUsRRUCWDpk9YupEQFheQHl5w0RAFq7ntJCcREDY/Y7wp3VEQJhNNiy/TkRAWp3dZ9YnREAa7YSj7QBEQNo8LN8E2kNAnIzTGhyzQ0A=",
          "dtype": "f8"
         }
        },
        {
         "line": {
          "color": "black"
         },
         "mode": "lines",
         "name": "Filtered Trend Line (10-90%)",
         "type": "scatter",
         "x": {
          "bdata": "MzMzMzMzM0B+tI3yhVMzQMk16LHYczNAFLdCcSuUM0BfOJ0wfrQzQKq59+/Q1DNA9TpSryP1M0BAvKxudhU0QIs9By7JNTRA1r5h7RtWNEAhQLysbnY0QGzBFmzBljRAt0JxKxS3NEACxMvqZtc0QE1FJqq59zRAmMaAaQwYNUDjR9soXzg1QC7JNeixWDVAeUqQpwR5NUDEy+pmV5k1QA9NRSaquTVAWs6f5fzZNUClT/qkT/o1QPDQVGSiGjZAO1KvI/U6NkCG0wnjR1s2QNFUZKKaezZAHNa+Ye2bNkBnVxkhQLw2QLLYc+CS3DZA/VnOn+X8NkBI2yhfOB03QJNcgx6LPTdA3t3d3d1dN0ApXzidMH43QHTgklyDnjdAv2HtG9a+N0AK40fbKN83QFVkopp7/zdAoOX8Wc4fOEDrZlcZIUA4QDbosdhzYDhAgWkMmMaAOEDM6mZXGaE4QBdswRZswThAYu0b1r7hOECtbnaVEQI5QPjv0FRkIjlAQnErFLdCOUCO8oXTCWM5QNhz4JJcgzlAJPU6Uq+jOUBudpURAsQ5QLr379BU5DlABHlKkKcEOkBQ+qRP+iQ6QJp7/w5NRTpA5vxZzp9lOkAwfrSN8oU6QHz/Dk1FpjpAxoBpDJjGOkASAsTL6uY6QFyDHos9BztAqAR5SpAnO0DyhdMJ40c7QD4HLsk1aDtAiIiIiIiIO0DUCeNH26g7QB6LPQcuyTtAagyYxoDpO0C0jfKF0wk8QAAPTUUmKjxASpCnBHlKPECWEQLEy2o8QOCSXIMeizxALBS3QnGrPEB2lRECxMs8QMIWbMEW7DxADJjGgGkMPUBYGSFAvCw9QKKae/8OTT1A7hvWvmFtPUA4nTB+tI09QIQeiz0Hrj1Azp/l/FnOPUAaIUC8rO49QGSimnv/Dj5AsCP1OlIvPkD6pE/6pE8+QEYmqrn3bz5AkKcEeUqQPkDcKF84nbA+QCaquffv0D5AcisUt0LxPkC8rG52lRE/QAguyTXoMT9AUq8j9TpSP0CdMH60jXI/QOix2HPgkj9AMzMzMzOzP0A=",
          "dtype": "f8"
         },
         "y": {
          "bdata": "zkP09EqAUUBv0KprFmxRQBBdYeLhV1FAsOkXWa1DUUBRds7PeC9RQPIChUZEG1FAko87vQ8HUUAzHPIz2/JQQNSoqKqm3lBAdDVfIXLKUEAWwhWYPbZQQLZOzA4JolBAVtuChdSNUED4Zzn8n3lQQJj073JrZVBAOYGm6TZRUEDaDV1gAj1QQHqaE9fNKFBAGyfKTZkUUEC8s4DEZABQQLmAbnZg2E9A+pnbY/evT0A8s0hRjodPQH3MtT4lX09Av+UiLLw2T0AA/48ZUw5PQEEY/Qbq5U5AgzFq9IC9TkDEStfhF5VOQAZkRM+ubE5AR32xvEVETkCJlh6q3BtOQMqvi5dz801AC8n4hArLTUBN4mVyoaJNQI770l84ek1A0BRATc9RTUARLq06ZilNQFNHGij9AE1AlGCHFZTYTEDVefQCK7BMQBeTYfDBh0xAWKzO3VhfTECaxTvL7zZMQNveqLiGDkxAHfgVph3mS0BeEYOTtL1LQKAq8IBLlUtA4kNdbuJsS0AiXcpbeURLQGV2N0kQHEtApo+kNqfzSkDoqBEkPstKQCjCfhHVokpAatvr/mt6SkCq9FjsAlJKQO4NxtmZKUpALiczxzABSkBwQKC0x9hJQLBZDaJesElA9HJ6j/WHSUA0jOd8jF9JQHalVGojN0lAtr7BV7oOSUD61y5FUeZIQDrxmzLovUhAfAoJIH+VSEC8I3YNFm1IQP484/qsREhAPlZQ6EMcSECCb73V2vNHQMKIKsNxy0dABKKXsAijR0BEuwSen3pHQIjUcYs2UkdAyO3eeM0pR0AKB0xmZAFHQEoguVP72EZAjjkmQZKwRkDOUpMuKYhGQBBsABzAX0ZAUIVtCVc3RkCSntr27Q5GQNS3R+SE5kVAFtG00Ru+RUBW6iG/spVFQJgDj6xJbUVA2Bz8meBERUAcNmmHdxxFQFxP1nQO9ERAnmhDYqXLREDegbBPPKNEQCKbHT3TekRAYrSKKmpSRECkzfcXASpEQOTmZAWYAURAJgDS8i7ZQ0BoGT/gxbBDQKoyrM1ciENA7EsZu/NfQ0A=",
          "dtype": "f8"
         }
        },
        {
         "line": {
          "color": "green"
         },
         "mode": "lines",
         "name": "Filtered Trend Line (5-95%)",
         "type": "scatter",
         "x": {
          "bdata": "MzMzMzMzM0B+tI3yhVMzQMk16LHYczNAFLdCcSuUM0BfOJ0wfrQzQKq59+/Q1DNA9TpSryP1M0BAvKxudhU0QIs9By7JNTRA1r5h7RtWNEAhQLysbnY0QGzBFmzBljRAt0JxKxS3NEACxMvqZtc0QE1FJqq59zRAmMaAaQwYNUDjR9soXzg1QC7JNeixWDVAeUqQpwR5NUDEy+pmV5k1QA9NRSaquTVAWs6f5fzZNUClT/qkT/o1QPDQVGSiGjZAO1KvI/U6NkCG0wnjR1s2QNFUZKKaezZAHNa+Ye2bNkBnVxkhQLw2QLLYc+CS3DZA/VnOn+X8NkBI2yhfOB03QJNcgx6LPTdA3t3d3d1dN0ApXzidMH43QHTgklyDnjdAv2HtG9a+N0AK40fbKN83QFVkopp7/zdAoOX8Wc4fOEDrZlcZIUA4QDbosdhzYDhAgWkMmMaAOEDM6mZXGaE4QBdswRZswThAYu0b1r7hOECtbnaVEQI5QPjv0FRkIjlAQnErFLdCOUCO8oXTCWM5QNhz4JJcgzlAJPU6Uq+jOUBudpURAsQ5QLr379BU5DlABHlKkKcEOkBQ+qRP+iQ6QJp7/w5NRTpA5vxZzp9lOkAwfrSN8oU6QHz/Dk1FpjpAxoBpDJjGOkASAsTL6uY6QFyDHos9BztAqAR5SpAnO0DyhdMJ40c7QD4HLsk1aDtAiIiIiIiIO0DUCeNH26g7QB6LPQcuyTtAagyYxoDpO0C0jfKF0wk8QAAPTUUmKjxASpCnBHlKPECWEQLEy2o8QOCSXIMeizxALBS3QnGrPEB2lRECxMs8QMIWbMEW7DxADJjGgGkMPUBYGSFAvCw9QKKae/8OTT1A7hvWvmFtPUA4nTB+tI09QIQeiz0Hrj1Azp/l/FnOPUAaIUC8rO49QGSimnv/Dj5AsCP1OlIvPkD6pE/6pE8+QEYmqrn3bz5AkKcEeUqQPkDcKF84nbA+QCaquffv0D5AcisUt0LxPkC8rG52lRE/QAguyTXoMT9AUq8j9TpSP0CdMH60jXI/QOix2HPgkj9AMzMzMzOzP0A=",
          "dtype": "f8"
         },
         "y": {
          "bdata": "eIXGVxhbUUBqGtGsWkdRQFuv2wGdM1FATETmVt8fUUA+2fCrIQxRQDBu+wBk+FBAIQMGVqbkUEASmBCr6NBQQAQtGwArvVBA9sElVW2pUEDnVjCqr5VQQNjrOv/xgVBAyoBFVDRuUEC7FVCpdlpQQKyqWv64RlBAnj9lU/syUECQ1G+oPR9QQIFpev1/C1BA5fwJpYTvT0DIJh9PCchPQKtQNPmNoE9AjnpJoxJ5T0BxpF5Nl1FPQFTOc/cbKk9AN/iIoaACT0AZIp5LJdtOQPxLs/Wps05A33XIny6MTkDCn91Js2ROQKXJ8vM3PU5AiPMHnrwVTkBrHR1IQe5NQE5HMvLFxk1AMXFHnEqfTUAUm1xGz3dNQPfEcfBTUE1A2u6GmtgoTUC9GJxEXQFNQKBCse7h2UxAg2zGmGayTEBllttC64pMQEjA8OxvY0xAK+oFl/Q7TEAOFBtBeRRMQPE9MOv97EtA1GdFlYLFS0C3kVo/B55LQJq7b+mLdktAfuWEkxBPS0BgD5o9lSdLQEQ5r+cZAEtAJmPEkZ7YSkAKjdk7I7FKQOy27uWniUpA0OADkCxiSkCxChk6sTpKQJY0LuQ1E0pAeF5DjrrrSUBciFg4P8RJQD6ybeLDnElAItyCjEh1SUACBpg2zU1JQOgvreBRJklAyFnCitb+SECsg9c0W9dIQI6t7N7fr0hActcBiWSISEBUARcz6WBIQDgrLN1tOUhAGlVBh/IRSED+flYxd+pHQOCoa9v7wkdAxNKAhYCbR0Cm/JUvBXRHQIomq9mJTEdAbFDAgw4lR0BQetUtk/1GQDKk6tcX1kZAFs7/gZyuRkD49xQsIYdGQNwhKtalX0ZAvks/gCo4RkCidVQqrxBGQISfadQz6UVAaMl+frjBRUBK85MoPZpFQC4dqdLBckVAEEe+fEZLRUD0cNMmyyNFQNaa6NBP/ERAusT9etTURECa7hIlWa1EQIAYKM/dhURAYEI9eWJeREBEbFIj5zZEQCaWZ81rD0RACsB8d/DnQ0Du6ZEhdcBDQNATp8v5mENAtD28dX5xQ0A=",
          "dtype": "f8"
         }
        }
       ],
       "layout": {
        "legend": {
         "tracegroupgap": 0
        },
        "template": {
         "data": {
          "bar": [
           {
            "error_x": {
             "color": "#2a3f5f"
            },
            "error_y": {
             "color": "#2a3f5f"
            },
            "marker": {
             "line": {
              "color": "#E5ECF6",
              "width": 0.5
             },
             "pattern": {
              "fillmode": "overlay",
              "size": 10,
              "solidity": 0.2
             }
            },
            "type": "bar"
           }
          ],
          "barpolar": [
           {
            "marker": {
             "line": {
              "color": "#E5ECF6",
              "width": 0.5
             },
             "pattern": {
              "fillmode": "overlay",
              "size": 10,
              "solidity": 0.2
             }
            },
            "type": "barpolar"
           }
          ],
          "carpet": [
           {
            "aaxis": {
             "endlinecolor": "#2a3f5f",
             "gridcolor": "white",
             "linecolor": "white",
             "minorgridcolor": "white",
             "startlinecolor": "#2a3f5f"
            },
            "baxis": {
             "endlinecolor": "#2a3f5f",
             "gridcolor": "white",
             "linecolor": "white",
             "minorgridcolor": "white",
             "startlinecolor": "#2a3f5f"
            },
            "type": "carpet"
           }
          ],
          "choropleth": [
           {
            "colorbar": {
             "outlinewidth": 0,
             "ticks": ""
            },
            "type": "choropleth"
           }
          ],
          "contour": [
           {
            "colorbar": {
             "outlinewidth": 0,
             "ticks": ""
            },
            "colorscale": [
             [
              0,
              "#0d0887"
             ],
             [
              0.1111111111111111,
              "#46039f"
             ],
             [
              0.2222222222222222,
              "#7201a8"
             ],
             [
              0.3333333333333333,
              "#9c179e"
             ],
             [
              0.4444444444444444,
              "#bd3786"
             ],
             [
              0.5555555555555556,
              "#d8576b"
             ],
             [
              0.6666666666666666,
              "#ed7953"
             ],
             [
              0.7777777777777778,
              "#fb9f3a"
             ],
             [
              0.8888888888888888,
              "#fdca26"
             ],
             [
              1,
              "#f0f921"
             ]
            ],
            "type": "contour"
           }
          ],
          "contourcarpet": [
           {
            "colorbar": {
             "outlinewidth": 0,
             "ticks": ""
            },
            "type": "contourcarpet"
           }
          ],
          "heatmap": [
           {
            "colorbar": {
             "outlinewidth": 0,
             "ticks": ""
            },
            "colorscale": [
             [
              0,
              "#0d0887"
             ],
             [
              0.1111111111111111,
              "#46039f"
             ],
             [
              0.2222222222222222,
              "#7201a8"
             ],
             [
              0.3333333333333333,
              "#9c179e"
             ],
             [
              0.4444444444444444,
              "#bd3786"
             ],
             [
              0.5555555555555556,
              "#d8576b"
             ],
             [
              0.6666666666666666,
              "#ed7953"
             ],
             [
              0.7777777777777778,
              "#fb9f3a"
             ],
             [
              0.8888888888888888,
              "#fdca26"
             ],
             [
              1,
              "#f0f921"
             ]
            ],
            "type": "heatmap"
           }
          ],
          "histogram": [
           {
            "marker": {
             "pattern": {
              "fillmode": "overlay",
              "size": 10,
              "solidity": 0.2
             }
            },
            "type": "histogram"
           }
          ],
          "histogram2d": [
           {
            "colorbar": {
             "outlinewidth": 0,
             "ticks": ""
            },
            "colorscale": [
             [
              0,
              "#0d0887"
             ],
             [
              0.1111111111111111,
              "#46039f"
             ],
             [
              0.2222222222222222,
              "#7201a8"
             ],
             [
              0.3333333333333333,
              "#9c179e"
             ],
             [
              0.4444444444444444,
              "#bd3786"
             ],
             [
              0.5555555555555556,
              "#d8576b"
             ],
             [
              0.6666666666666666,
              "#ed7953"
             ],
             [
              0.7777777777777778,
              "#fb9f3a"
             ],
             [
              0.8888888888888888,
              "#fdca26"
             ],
             [
              1,
              "#f0f921"
             ]
            ],
            "type": "histogram2d"
           }
          ],
          "histogram2dcontour": [
           {
            "colorbar": {
             "outlinewidth": 0,
             "ticks": ""
            },
            "colorscale": [
             [
              0,
              "#0d0887"
             ],
             [
              0.1111111111111111,
              "#46039f"
             ],
             [
              0.2222222222222222,
              "#7201a8"
             ],
             [
              0.3333333333333333,
              "#9c179e"
             ],
             [
              0.4444444444444444,
              "#bd3786"
             ],
             [
              0.5555555555555556,
              "#d8576b"
             ],
             [
              0.6666666666666666,
              "#ed7953"
             ],
             [
              0.7777777777777778,
              "#fb9f3a"
             ],
             [
              0.8888888888888888,
              "#fdca26"
             ],
             [
              1,
              "#f0f921"
             ]
            ],
            "type": "histogram2dcontour"
           }
          ],
          "mesh3d": [
           {
            "colorbar": {
             "outlinewidth": 0,
             "ticks": ""
            },
            "type": "mesh3d"
           }
          ],
          "parcoords": [
           {
            "line": {
             "colorbar": {
              "outlinewidth": 0,
              "ticks": ""
             }
            },
            "type": "parcoords"
           }
          ],
          "pie": [
           {
            "automargin": true,
            "type": "pie"
           }
          ],
          "scatter": [
           {
            "fillpattern": {
             "fillmode": "overlay",
             "size": 10,
             "solidity": 0.2
            },
            "type": "scatter"
           }
          ],
          "scatter3d": [
           {
            "line": {
             "colorbar": {
              "outlinewidth": 0,
              "ticks": ""
             }
            },
            "marker": {
             "colorbar": {
              "outlinewidth": 0,
              "ticks": ""
             }
            },
            "type": "scatter3d"
           }
          ],
          "scattercarpet": [
           {
            "marker": {
             "colorbar": {
              "outlinewidth": 0,
              "ticks": ""
             }
            },
            "type": "scattercarpet"
           }
          ],
          "scattergeo": [
           {
            "marker": {
             "colorbar": {
              "outlinewidth": 0,
              "ticks": ""
             }
            },
            "type": "scattergeo"
           }
          ],
          "scattergl": [
           {
            "marker": {
             "colorbar": {
              "outlinewidth": 0,
              "ticks": ""
             }
            },
            "type": "scattergl"
           }
          ],
          "scattermap": [
           {
            "marker": {
             "colorbar": {
              "outlinewidth": 0,
              "ticks": ""
             }
            },
            "type": "scattermap"
           }
          ],
          "scattermapbox": [
           {
            "marker": {
             "colorbar": {
              "outlinewidth": 0,
              "ticks": ""
             }
            },
            "type": "scattermapbox"
           }
          ],
          "scatterpolar": [
           {
            "marker": {
             "colorbar": {
              "outlinewidth": 0,
              "ticks": ""
             }
            },
            "type": "scatterpolar"
           }
          ],
          "scatterpolargl": [
           {
            "marker": {
             "colorbar": {
              "outlinewidth": 0,
              "ticks": ""
             }
            },
            "type": "scatterpolargl"
           }
          ],
          "scatterternary": [
           {
            "marker": {
             "colorbar": {
              "outlinewidth": 0,
              "ticks": ""
             }
            },
            "type": "scatterternary"
           }
          ],
          "surface": [
           {
            "colorbar": {
             "outlinewidth": 0,
             "ticks": ""
            },
            "colorscale": [
             [
              0,
              "#0d0887"
             ],
             [
              0.1111111111111111,
              "#46039f"
             ],
             [
              0.2222222222222222,
              "#7201a8"
             ],
             [
              0.3333333333333333,
              "#9c179e"
             ],
             [
              0.4444444444444444,
              "#bd3786"
             ],
             [
              0.5555555555555556,
              "#d8576b"
             ],
             [
              0.6666666666666666,
              "#ed7953"
             ],
             [
              0.7777777777777778,
              "#fb9f3a"
             ],
             [
              0.8888888888888888,
              "#fdca26"
             ],
             [
              1,
              "#f0f921"
             ]
            ],
            "type": "surface"
           }
          ],
          "table": [
           {
            "cells": {
             "fill": {
              "color": "#EBF0F8"
             },
             "line": {
              "color": "white"
             }
            },
            "header": {
             "fill": {
              "color": "#C8D4E3"
             },
             "line": {
              "color": "white"
             }
            },
            "type": "table"
           }
          ]
         },
         "layout": {
          "annotationdefaults": {
           "arrowcolor": "#2a3f5f",
           "arrowhead": 0,
           "arrowwidth": 1
          },
          "autotypenumbers": "strict",
          "coloraxis": {
           "colorbar": {
            "outlinewidth": 0,
            "ticks": ""
           }
          },
          "colorscale": {
           "diverging": [
            [
             0,
             "#8e0152"
            ],
            [
             0.1,
             "#c51b7d"
            ],
            [
             0.2,
             "#de77ae"
            ],
            [
             0.3,
             "#f1b6da"
            ],
            [
             0.4,
             "#fde0ef"
            ],
            [
             0.5,
             "#f7f7f7"
            ],
            [
             0.6,
             "#e6f5d0"
            ],
            [
             0.7,
             "#b8e186"
            ],
            [
             0.8,
             "#7fbc41"
            ],
            [
             0.9,
             "#4d9221"
            ],
            [
             1,
             "#276419"
            ]
           ],
           "sequential": [
            [
             0,
             "#0d0887"
            ],
            [
             0.1111111111111111,
             "#46039f"
            ],
            [
             0.2222222222222222,
             "#7201a8"
            ],
            [
             0.3333333333333333,
             "#9c179e"
            ],
            [
             0.4444444444444444,
             "#bd3786"
            ],
            [
             0.5555555555555556,
             "#d8576b"
            ],
            [
             0.6666666666666666,
             "#ed7953"
            ],
            [
             0.7777777777777778,
             "#fb9f3a"
            ],
            [
             0.8888888888888888,
             "#fdca26"
            ],
            [
             1,
             "#f0f921"
            ]
           ],
           "sequentialminus": [
            [
             0,
             "#0d0887"
            ],
            [
             0.1111111111111111,
             "#46039f"
            ],
            [
             0.2222222222222222,
             "#7201a8"
            ],
            [
             0.3333333333333333,
             "#9c179e"
            ],
            [
             0.4444444444444444,
             "#bd3786"
            ],
            [
             0.5555555555555556,
             "#d8576b"
            ],
            [
             0.6666666666666666,
             "#ed7953"
            ],
            [
             0.7777777777777778,
             "#fb9f3a"
            ],
            [
             0.8888888888888888,
             "#fdca26"
            ],
            [
             1,
             "#f0f921"
            ]
           ]
          },
          "colorway": [
           "#636efa",
           "#EF553B",
           "#00cc96",
           "#ab63fa",
           "#FFA15A",
           "#19d3f3",
           "#FF6692",
           "#B6E880",
           "#FF97FF",
           "#FECB52"
          ],
          "font": {
           "color": "#2a3f5f"
          },
          "geo": {
           "bgcolor": "white",
           "lakecolor": "white",
           "landcolor": "#E5ECF6",
           "showlakes": true,
           "showland": true,
           "subunitcolor": "white"
          },
          "hoverlabel": {
           "align": "left"
          },
          "hovermode": "closest",
          "mapbox": {
           "style": "light"
          },
          "paper_bgcolor": "white",
          "plot_bgcolor": "#E5ECF6",
          "polar": {
           "angularaxis": {
            "gridcolor": "white",
            "linecolor": "white",
            "ticks": ""
           },
           "bgcolor": "#E5ECF6",
           "radialaxis": {
            "gridcolor": "white",
            "linecolor": "white",
            "ticks": ""
           }
          },
          "scene": {
           "xaxis": {
            "backgroundcolor": "#E5ECF6",
            "gridcolor": "white",
            "gridwidth": 2,
            "linecolor": "white",
            "showbackground": true,
            "ticks": "",
            "zerolinecolor": "white"
           },
           "yaxis": {
            "backgroundcolor": "#E5ECF6",
            "gridcolor": "white",
            "gridwidth": 2,
            "linecolor": "white",
            "showbackground": true,
            "ticks": "",
            "zerolinecolor": "white"
           },
           "zaxis": {
            "backgroundcolor": "#E5ECF6",
            "gridcolor": "white",
            "gridwidth": 2,
            "linecolor": "white",
            "showbackground": true,
            "ticks": "",
            "zerolinecolor": "white"
           }
          },
          "shapedefaults": {
           "line": {
            "color": "#2a3f5f"
           }
          },
          "ternary": {
           "aaxis": {
            "gridcolor": "white",
            "linecolor": "white",
            "ticks": ""
           },
           "baxis": {
            "gridcolor": "white",
            "linecolor": "white",
            "ticks": ""
           },
           "bgcolor": "#E5ECF6",
           "caxis": {
            "gridcolor": "white",
            "linecolor": "white",
            "ticks": ""
           }
          },
          "title": {
           "x": 0.05
          },
          "xaxis": {
           "automargin": true,
           "gridcolor": "white",
           "linecolor": "white",
           "ticks": "",
           "title": {
            "standoff": 15
           },
           "zerolinecolor": "white",
           "zerolinewidth": 2
          },
          "yaxis": {
           "automargin": true,
           "gridcolor": "white",
           "linecolor": "white",
           "ticks": "",
           "title": {
            "standoff": 15
           },
           "zerolinecolor": "white",
           "zerolinewidth": 2
          }
         }
        },
        "title": {
         "text": "Comparison of Trend Lines Across Filtering Stages"
        },
        "xaxis": {
         "anchor": "y",
         "domain": [
          0,
          1
         ],
         "title": {
          "text": "Temperature"
         }
        },
        "yaxis": {
         "anchor": "x",
         "domain": [
          0,
          1
         ],
         "title": {
          "text": "Humidity"
         }
        }
       }
      }
     },
     "metadata": {},
     "output_type": "display_data"
    }
   ],
   "source": [
    "# Create scatter plot for comparison\n",
    "fig = px.scatter(df, x='Temperature', y='Humidity', opacity=0.3, color_discrete_sequence=['blue'], labels={'x': \"Temperature\", 'y': \"Humidity\"}, title=\"Comparison of Trend Lines Across Filtering Stages\")\n",
    "\n",
    "# Original trend line\n",
    "fig.add_traces(go.Scatter(x=test_temps.flatten(), y=predicted_humidity, mode='lines', name='Original Trend Line', line=dict(color='red', dash='dash')))\n",
    "\n",
    "# First filtered trend line\n",
    "fig.add_traces(go.Scatter(x=test_temps.flatten(), y=filtered_predicted_humidity, mode='lines', name='Filtered Trend Line (10-90%)', line=dict(color='black')))\n",
    "\n",
    "# Second filtered trend line (stricter filtering)\n",
    "fig.add_traces(go.Scatter(x=test_temps.flatten(), y=filtered_predicted_humidity_2, mode='lines', name='Filtered Trend Line (5-95%)', line=dict(color='green')))\n",
    "\n",
    "# Show the final comparison plot\n",
    "fig.show()\n"
   ]
  },
  {
   "cell_type": "code",
   "execution_count": 66,
   "metadata": {},
   "outputs": [
    {
     "name": "stdout",
     "output_type": "stream",
     "text": [
      "Final Number of Outliers Detected: 5\n",
      "Does the final trend line follow the data? Yes\n",
      "Original Model Slope: -2.4075095968007396\n",
      "First Filtered Model Slope: -2.5003959542227228\n",
      "Final Model Slope (Stricter Filtering): -2.44293512168533\n",
      "The trend remained mostly the same after stricter filtering.\n"
     ]
    }
   ],
   "source": [
    "# Check if the final trend line follows the second filtered data points\n",
    "residuals_final = y_filtered_2 - filtered_model_2.predict(X_filtered_2)\n",
    "final_outlier_count = np.sum(np.abs(residuals_final) > np.std(residuals_final) * 2)  # Outliers beyond 2 std deviations\n",
    "\n",
    "print(f\"Final Number of Outliers Detected: {final_outlier_count}\")\n",
    "print(f\"Does the final trend line follow the data? {'Yes' if final_outlier_count < len(y_filtered_2) * 0.1 else 'Some deviations exist'}\")\n",
    "\n",
    "# Compare slope changes across models\n",
    "print(f\"Original Model Slope: {model.coef_[0]}\")\n",
    "print(f\"First Filtered Model Slope: {filtered_model.coef_[0]}\")\n",
    "print(f\"Final Model Slope (Stricter Filtering): {filtered_model_2.coef_[0]}\")\n",
    "\n",
    "# Analyze if learning pattern changed\n",
    "if abs(filtered_model_2.coef_[0] - model.coef_[0]) > 0.1:  # Adjust threshold if needed\n",
    "    print(\"The model learned a different pattern after stricter filtering.\")\n",
    "else:\n",
    "    print(\"The trend remained mostly the same after stricter filtering.\")\n"
   ]
  }
 ],
 "metadata": {
  "kernelspec": {
   "display_name": "Python 3",
   "language": "python",
   "name": "python3"
  },
  "language_info": {
   "codemirror_mode": {
    "name": "ipython",
    "version": 3
   },
   "file_extension": ".py",
   "mimetype": "text/x-python",
   "name": "python",
   "nbconvert_exporter": "python",
   "pygments_lexer": "ipython3",
   "version": "3.13.0"
  }
 },
 "nbformat": 4,
 "nbformat_minor": 2
}
