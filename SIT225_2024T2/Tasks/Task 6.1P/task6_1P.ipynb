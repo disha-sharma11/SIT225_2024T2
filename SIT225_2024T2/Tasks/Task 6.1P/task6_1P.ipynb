{
 "cells": [
  {
   "cell_type": "code",
   "execution_count": 1,
   "metadata": {},
   "outputs": [
    {
     "name": "stdout",
     "output_type": "stream",
     "text": [
      "Dash app running on http://127.0.0.1:8050/\n"
     ]
    },
    {
     "data": {
      "application/javascript": "window.open('http://127.0.0.1:8050/')",
      "text/plain": [
       "<IPython.core.display.Javascript object>"
      ]
     },
     "metadata": {},
     "output_type": "display_data"
    }
   ],
   "source": [
    "import plotly, dash\n",
    "import plotly.express as px\n",
    "import pandas as pd\n",
    "from dash import Dash, html, dash_table, dcc, Input, Output\n",
    "\n",
    "df = pd.read_csv('gyroscope_data.csv')\n",
    "\n",
    "app = Dash()\n",
    "\n",
    "# Initial values\n",
    "initial_samples = 100  # Default number of samples\n",
    "start_index = 0  # Start position\n",
    "\n",
    "app.layout = html.Div([\n",
    "    html.H1(\"Gyroscope Data\"),\n",
    "    \n",
    "    html.P(\"Choose a graph type:\"),\n",
    "    dcc.Dropdown(\n",
    "        id='graph-type',\n",
    "        options=[{'label': i, 'value': i} for i in ['scatter', 'line', 'bar', 'histogram', 'box', 'violin']],\n",
    "        value='scatter'\n",
    "    ),\n",
    "    \n",
    "    html.P(\"Choose a column:\"),\n",
    "    dcc.Dropdown(\n",
    "        id='dropdown',\n",
    "        options=[{'label': 'All (x, y, z)', 'value': 'all'}] + [{'label': col, 'value': col} for col in df.columns],\n",
    "        value='x'\n",
    "    ),\n",
    "    \n",
    "    html.P(\"Enter number of samples to display:\"),\n",
    "    dcc.Input(id='sample-size', type='number', value=initial_samples, min=10, step=10),\n",
    "    \n",
    "    html.Div([\n",
    "        html.Button(\"Previous\", id=\"prev-btn\", n_clicks=0, style={'margin-right': '10px'}),\n",
    "        html.Button(\"Next\", id=\"next-btn\", n_clicks=0),\n",
    "    ], style={'margin-bottom': '10px'}),\n",
    "    \n",
    "    dcc.Graph(id='graph'),\n",
    "    \n",
    "    html.H3(\"Statistical Summary of Displayed Data\"),\n",
    "    dash_table.DataTable(id='stats-table', page_size=10)  # Dynamic table\n",
    "])\n",
    "\n",
    "\n",
    "@app.callback(\n",
    "    Output('graph', 'figure'),\n",
    "    Output('stats-table', 'data'),\n",
    "    Output('stats-table', 'columns'),\n",
    "    Input('graph-type', 'value'),\n",
    "    Input('dropdown', 'value'),\n",
    "    Input('sample-size', 'value'),\n",
    "    Input('prev-btn', 'n_clicks'),\n",
    "    Input('next-btn', 'n_clicks')\n",
    ")\n",
    "\n",
    "def update_graph(graph_type, column, sample_size, prev_clicks, next_clicks):\n",
    "    # Calculate start and end index for navigation\n",
    "    max_samples = len(df)\n",
    "    start = max(0, (next_clicks - prev_clicks) * sample_size)\n",
    "    end = min(start + sample_size, max_samples)\n",
    "\n",
    "    # Select subset of data\n",
    "    df_subset = df.iloc[start:end]\n",
    "\n",
    "    # Handle \"All\" selection\n",
    "    y_values = ['x', 'y', 'z'] if column == 'all' else [column]\n",
    "    y_values = [col for col in y_values if col in df.columns]\n",
    "\n",
    "    if not y_values:\n",
    "        return {}, [], []\n",
    "\n",
    "    # Create graph based on selection\n",
    "    if graph_type in ['scatter', 'line', 'area']:\n",
    "        fig = px.scatter(df_subset, x=df_subset.index, y=y_values, title=f'{graph_type.capitalize()} Plot ({start} to {end})') \\\n",
    "            if graph_type == 'scatter' else \\\n",
    "            px.line(df_subset, x=df_subset.index, y=y_values, title=f'{graph_type.capitalize()} Chart ({start} to {end})') \\\n",
    "            if graph_type == 'line' else \\\n",
    "            px.area(df_subset, x=df_subset.index, y=y_values, title=f'Area Chart ({start} to {end})')\n",
    "    else:\n",
    "        fig = px.bar(df_subset, x=df_subset.index, y=y_values[0], title=f'Bar Chart ({start} to {end})') \\\n",
    "            if graph_type == 'bar' else \\\n",
    "            px.histogram(df_subset, x=y_values[0], title=f'Histogram ({start} to {end})') \\\n",
    "            if graph_type == 'histogram' else \\\n",
    "            px.box(df_subset, y=y_values[0], title=f'Box Plot ({start} to {end})') \\\n",
    "            if graph_type == 'box' else \\\n",
    "            px.violin(df_subset, y=y_values[0], title=f'Violin Plot ({start} to {end})')\n",
    "\n",
    "    # Create statistical summary table\n",
    "    stats_df = df_subset[y_values].describe().reset_index()\n",
    "    table_columns = [{\"name\": col, \"id\": col} for col in stats_df.columns]\n",
    "    table_data = stats_df.to_dict('records')\n",
    "\n",
    "    return fig, table_data, table_columns\n",
    "\n",
    "\n",
    "if __name__ == '__main__':\n",
    "    app.run(debug=True, jupyter_mode=\"tab\")"
   ]
  }
 ],
 "metadata": {
  "kernelspec": {
   "display_name": "Python 3",
   "language": "python",
   "name": "python3"
  },
  "language_info": {
   "codemirror_mode": {
    "name": "ipython",
    "version": 3
   },
   "file_extension": ".py",
   "mimetype": "text/x-python",
   "name": "python",
   "nbconvert_exporter": "python",
   "pygments_lexer": "ipython3",
   "version": "3.13.0"
  }
 },
 "nbformat": 4,
 "nbformat_minor": 2
}
