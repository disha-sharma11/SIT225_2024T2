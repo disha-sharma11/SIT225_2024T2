{
 "cells": [
  {
   "cell_type": "code",
   "execution_count": null,
   "metadata": {},
   "outputs": [
    {
     "name": "stdout",
     "output_type": "stream",
     "text": [
      "Saved PNG: /Users/dishasharma/Documents/Coding/SIT225/Task 8.1P/accelerometer_data_20250409_001613.png\n",
      "Saved PNG: /Users/dishasharma/Documents/Coding/SIT225/Task 8.1P/accelerometer_data_20250409_001713.png\n",
      "Saved PNG: /Users/dishasharma/Documents/Coding/SIT225/Task 8.1P/accelerometer_data_20250409_001813.png\n"
     ]
    }
   ],
   "source": [
    "import pandas as pd\n",
    "import plotly.graph_objects as go\n",
    "import os\n",
    "\n",
    "# List your CSV file paths here\n",
    "csv_files = [\n",
    "    \"accelerometer_data_20250409_001313.csv\",\n",
    "    \"accelerometer_data_20250409_001413.csv\",\n",
    "    \"accelerometer_data_20250409_001513.csv\",\n",
    "    \"accelerometer_data_20250409_001613.csv\",\n",
    "    \"accelerometer_data_20250409_001713.csv\",\n",
    "    \"accelerometer_data_20250409_001813.csv\",\n",
    "]\n",
    "\n",
    "# Folder where your CSVs are saved (optional)\n",
    "base_path = \"/Users/dishasharma/Documents/Coding/SIT225/Task 8.1P/\"\n",
    "\n",
    "for file_name in csv_files:\n",
    "    file_path = os.path.join(base_path, file_name)\n",
    "    df = pd.read_csv(file_path)\n",
    "\n",
    "    fig = go.Figure()\n",
    "    fig.add_trace(go.Scatter(y=df['AccelerometerX'], name='X'))\n",
    "    fig.add_trace(go.Scatter(y=df['AccelerometerY'], name='Y'))\n",
    "    fig.add_trace(go.Scatter(y=df['AccelerometerZ'], name='Z'))\n",
    "    fig.update_layout(\n",
    "        xaxis_title='Sample Index (latest → right)',\n",
    "        yaxis_title='Acceleration'\n",
    "    )\n",
    "\n",
    "    # Save the figure as PNG with same pattern\n",
    "    output_file = file_path.replace(\".csv\", \".png\")\n",
    "    fig.write_image(output_file)\n",
    "    print(f\"Saved PNG: {output_file}\")\n"
   ]
  }
 ],
 "metadata": {
  "kernelspec": {
   "display_name": "Python 3",
   "language": "python",
   "name": "python3"
  },
  "language_info": {
   "codemirror_mode": {
    "name": "ipython",
    "version": 3
   },
   "file_extension": ".py",
   "mimetype": "text/x-python",
   "name": "python",
   "nbconvert_exporter": "python",
   "pygments_lexer": "ipython3",
   "version": "3.13.0"
  }
 },
 "nbformat": 4,
 "nbformat_minor": 2
}
